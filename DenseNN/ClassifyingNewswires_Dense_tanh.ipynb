{
  "nbformat": 4,
  "nbformat_minor": 0,
  "metadata": {
    "kernelspec": {
      "display_name": "Python 3",
      "language": "python",
      "name": "python3"
    },
    "language_info": {
      "codemirror_mode": {
        "name": "ipython",
        "version": 3
      },
      "file_extension": ".py",
      "mimetype": "text/x-python",
      "name": "python",
      "nbconvert_exporter": "python",
      "pygments_lexer": "ipython3",
      "version": "3.7.4"
    },
    "colab": {
      "name": "ClassifyingNewswires_Dense_tanh.ipynb",
      "provenance": [],
      "collapsed_sections": []
    }
  },
  "cells": [
    {
      "cell_type": "code",
      "metadata": {
        "id": "BKO1SQqcC1yh",
        "colab_type": "code",
        "outputId": "a14d6e80-edfc-4db0-f243-9a643020f1f1",
        "colab": {
          "base_uri": "https://localhost:8080/",
          "height": 35
        }
      },
      "source": [
        "import keras\n",
        "keras.__version__"
      ],
      "execution_count": 54,
      "outputs": [
        {
          "output_type": "execute_result",
          "data": {
            "text/plain": [
              "'2.2.5'"
            ]
          },
          "metadata": {
            "tags": []
          },
          "execution_count": 54
        }
      ]
    },
    {
      "cell_type": "markdown",
      "metadata": {
        "id": "R09KtBHeC1yl",
        "colab_type": "text"
      },
      "source": [
        "# Classifying newswires: a multi-class classification example\n",
        "\n",
        "\n",
        "In this section, we will build a network to classify Reuters newswires into 46 different mutually-exclusive topics. Since we have many \n",
        "classes, this problem is an instance of \"multi-class classification\", and since each data point should be classified into only one \n",
        "category, the problem is more specifically an instance of \"single-label, multi-class classification\". If each data point could have \n",
        "belonged to multiple categories (in our case, topics) then we would be facing a \"multi-label, multi-class classification\" problem."
      ]
    },
    {
      "cell_type": "markdown",
      "metadata": {
        "id": "2ghFKh8RC1ym",
        "colab_type": "text"
      },
      "source": [
        "## The Reuters dataset\n",
        "\n",
        "\n",
        "We will be working with the _Reuters dataset_, a set of short newswires and their topics, published by Reuters in 1986. It's a very simple, \n",
        "widely used toy dataset for text classification. There are 46 different topics; some topics are more represented than others, but each \n",
        "topic has at least 10 examples in the training set.\n"
      ]
    },
    {
      "cell_type": "code",
      "metadata": {
        "id": "xtjM8IUrC1yn",
        "colab_type": "code",
        "colab": {}
      },
      "source": [
        "from keras.datasets import reuters\n",
        "\n",
        "(train_data, train_labels), (test_data, test_labels) = reuters.load_data(num_words=10000)"
      ],
      "execution_count": 0,
      "outputs": []
    },
    {
      "cell_type": "markdown",
      "metadata": {
        "id": "yd6SsTE9C1yr",
        "colab_type": "text"
      },
      "source": [
        "\n",
        "Like with the IMDB dataset, the argument `num_words=10000` restricts the data to the 10,000 most frequently occurring words found in the \n",
        "data.\n",
        "\n",
        "We have 8,982 training examples and 2,246 test examples:"
      ]
    },
    {
      "cell_type": "code",
      "metadata": {
        "id": "3L51ZeSyC1yr",
        "colab_type": "code",
        "outputId": "8e303297-4e25-476d-e1ca-7e54997586a4",
        "colab": {
          "base_uri": "https://localhost:8080/",
          "height": 35
        }
      },
      "source": [
        "len(train_data)"
      ],
      "execution_count": 56,
      "outputs": [
        {
          "output_type": "execute_result",
          "data": {
            "text/plain": [
              "8982"
            ]
          },
          "metadata": {
            "tags": []
          },
          "execution_count": 56
        }
      ]
    },
    {
      "cell_type": "code",
      "metadata": {
        "id": "XKYL8Z4jC1yu",
        "colab_type": "code",
        "outputId": "d33fc959-ffbc-4188-f8e7-9ceae4d82118",
        "colab": {
          "base_uri": "https://localhost:8080/",
          "height": 35
        }
      },
      "source": [
        "len(test_data)"
      ],
      "execution_count": 57,
      "outputs": [
        {
          "output_type": "execute_result",
          "data": {
            "text/plain": [
              "2246"
            ]
          },
          "metadata": {
            "tags": []
          },
          "execution_count": 57
        }
      ]
    },
    {
      "cell_type": "markdown",
      "metadata": {
        "id": "vdFYkuwFiZ2U",
        "colab_type": "text"
      },
      "source": [
        "### Class weight distribution\n"
      ]
    },
    {
      "cell_type": "code",
      "metadata": {
        "id": "c2jKI7uuC4HJ",
        "colab_type": "code",
        "outputId": "7c1c012b-2ba7-4129-848e-13cfea16b849",
        "colab": {
          "base_uri": "https://localhost:8080/",
          "height": 835
        }
      },
      "source": [
        "import numpy\n",
        "classes, count = numpy.unique(train_labels, return_counts=True)\n",
        "classes=classes.reshape(-1,1)\n",
        "count=count.reshape(-1,1)\n",
        "print(numpy.concatenate((classes,count), axis=1))"
      ],
      "execution_count": 58,
      "outputs": [
        {
          "output_type": "stream",
          "text": [
            "[[   0   55]\n",
            " [   1  432]\n",
            " [   2   74]\n",
            " [   3 3159]\n",
            " [   4 1949]\n",
            " [   5   17]\n",
            " [   6   48]\n",
            " [   7   16]\n",
            " [   8  139]\n",
            " [   9  101]\n",
            " [  10  124]\n",
            " [  11  390]\n",
            " [  12   49]\n",
            " [  13  172]\n",
            " [  14   26]\n",
            " [  15   20]\n",
            " [  16  444]\n",
            " [  17   39]\n",
            " [  18   66]\n",
            " [  19  549]\n",
            " [  20  269]\n",
            " [  21  100]\n",
            " [  22   15]\n",
            " [  23   41]\n",
            " [  24   62]\n",
            " [  25   92]\n",
            " [  26   24]\n",
            " [  27   15]\n",
            " [  28   48]\n",
            " [  29   19]\n",
            " [  30   45]\n",
            " [  31   39]\n",
            " [  32   32]\n",
            " [  33   11]\n",
            " [  34   50]\n",
            " [  35   10]\n",
            " [  36   49]\n",
            " [  37   19]\n",
            " [  38   19]\n",
            " [  39   24]\n",
            " [  40   36]\n",
            " [  41   30]\n",
            " [  42   13]\n",
            " [  43   21]\n",
            " [  44   12]\n",
            " [  45   18]]\n"
          ],
          "name": "stdout"
        }
      ]
    },
    {
      "cell_type": "markdown",
      "metadata": {
        "id": "OBO0pDqxi3zm",
        "colab_type": "text"
      },
      "source": [
        "### Clearly the data is imbalanced.\n",
        "\n",
        "# Similarily, we take a look at test labels distributions."
      ]
    },
    {
      "cell_type": "code",
      "metadata": {
        "id": "yGR7LXuwC4kS",
        "colab_type": "code",
        "outputId": "2ad7b1cb-7fb3-492f-f1c1-f5def6f5f3f5",
        "colab": {
          "base_uri": "https://localhost:8080/",
          "height": 835
        }
      },
      "source": [
        "classes, count = numpy.unique(test_labels, return_counts=True)\n",
        "classes=classes.reshape(-1,1)\n",
        "count=count.reshape(-1,1)\n",
        "print(numpy.concatenate((classes,count), axis=1))"
      ],
      "execution_count": 59,
      "outputs": [
        {
          "output_type": "stream",
          "text": [
            "[[  0  12]\n",
            " [  1 105]\n",
            " [  2  20]\n",
            " [  3 813]\n",
            " [  4 474]\n",
            " [  5   5]\n",
            " [  6  14]\n",
            " [  7   3]\n",
            " [  8  38]\n",
            " [  9  25]\n",
            " [ 10  30]\n",
            " [ 11  83]\n",
            " [ 12  13]\n",
            " [ 13  37]\n",
            " [ 14   2]\n",
            " [ 15   9]\n",
            " [ 16  99]\n",
            " [ 17  12]\n",
            " [ 18  20]\n",
            " [ 19 133]\n",
            " [ 20  70]\n",
            " [ 21  27]\n",
            " [ 22   7]\n",
            " [ 23  12]\n",
            " [ 24  19]\n",
            " [ 25  31]\n",
            " [ 26   8]\n",
            " [ 27   4]\n",
            " [ 28  10]\n",
            " [ 29   4]\n",
            " [ 30  12]\n",
            " [ 31  13]\n",
            " [ 32  10]\n",
            " [ 33   5]\n",
            " [ 34   7]\n",
            " [ 35   6]\n",
            " [ 36  11]\n",
            " [ 37   2]\n",
            " [ 38   3]\n",
            " [ 39   5]\n",
            " [ 40  10]\n",
            " [ 41   8]\n",
            " [ 42   3]\n",
            " [ 43   6]\n",
            " [ 44   5]\n",
            " [ 45   1]]\n"
          ],
          "name": "stdout"
        }
      ]
    },
    {
      "cell_type": "markdown",
      "metadata": {
        "id": "gA81U2OkjXa5",
        "colab_type": "text"
      },
      "source": [
        "Clealy, test labels follow similar distribution as train labels. Class labels 1,3 and 4 have highest distributions along with some other classes in 20s."
      ]
    },
    {
      "cell_type": "markdown",
      "metadata": {
        "id": "xRtVql7eC1yw",
        "colab_type": "text"
      },
      "source": [
        "As with the IMDB reviews, each example is a list of integers (word indices):"
      ]
    },
    {
      "cell_type": "code",
      "metadata": {
        "id": "fsjRts4fC1yx",
        "colab_type": "code",
        "outputId": "28e4fa85-b68d-4377-d4e1-09efb3ab3fd0",
        "colab": {
          "base_uri": "https://localhost:8080/",
          "height": 568
        }
      },
      "source": [
        "train_data[10]"
      ],
      "execution_count": 60,
      "outputs": [
        {
          "output_type": "execute_result",
          "data": {
            "text/plain": [
              "[1,\n",
              " 245,\n",
              " 273,\n",
              " 207,\n",
              " 156,\n",
              " 53,\n",
              " 74,\n",
              " 160,\n",
              " 26,\n",
              " 14,\n",
              " 46,\n",
              " 296,\n",
              " 26,\n",
              " 39,\n",
              " 74,\n",
              " 2979,\n",
              " 3554,\n",
              " 14,\n",
              " 46,\n",
              " 4689,\n",
              " 4329,\n",
              " 86,\n",
              " 61,\n",
              " 3499,\n",
              " 4795,\n",
              " 14,\n",
              " 61,\n",
              " 451,\n",
              " 4329,\n",
              " 17,\n",
              " 12]"
            ]
          },
          "metadata": {
            "tags": []
          },
          "execution_count": 60
        }
      ]
    },
    {
      "cell_type": "markdown",
      "metadata": {
        "id": "pUUuwGvMC1yz",
        "colab_type": "text"
      },
      "source": [
        "Example of actual sentence obtained from reverse indexing."
      ]
    },
    {
      "cell_type": "code",
      "metadata": {
        "id": "AQPQyM5lC1y0",
        "colab_type": "code",
        "colab": {}
      },
      "source": [
        "word_index = reuters.get_word_index()\n",
        "reverse_word_index = dict([(value, key) for (key, value) in word_index.items()])\n",
        "# Note that our indices were offset by 3\n",
        "# because 0, 1 and 2 are reserved indices for \"padding\", \"start of sequence\", and \"unknown\".\n",
        "decoded_newswire = ' '.join([reverse_word_index.get(i - 3, '?') for i in train_data[0]])"
      ],
      "execution_count": 0,
      "outputs": []
    },
    {
      "cell_type": "code",
      "metadata": {
        "id": "ri7ajVFyC1y3",
        "colab_type": "code",
        "outputId": "718d2de9-399e-4dfa-8d69-32527fb5f5a7",
        "colab": {
          "base_uri": "https://localhost:8080/",
          "height": 55
        }
      },
      "source": [
        "decoded_newswire"
      ],
      "execution_count": 62,
      "outputs": [
        {
          "output_type": "execute_result",
          "data": {
            "text/plain": [
              "'? ? ? said as a result of its december acquisition of space co it expects earnings per share in 1987 of 1 15 to 1 30 dlrs per share up from 70 cts in 1986 the company said pretax net should rise to nine to 10 mln dlrs from six mln dlrs in 1986 and rental operation revenues to 19 to 22 mln dlrs from 12 5 mln dlrs it said cash flow per share this year should be 2 50 to three dlrs reuter 3'"
            ]
          },
          "metadata": {
            "tags": []
          },
          "execution_count": 62
        }
      ]
    },
    {
      "cell_type": "markdown",
      "metadata": {
        "id": "985YvldbC1y5",
        "colab_type": "text"
      },
      "source": [
        "The label associated with an example is an integer between 0 and 45: a topic index."
      ]
    },
    {
      "cell_type": "code",
      "metadata": {
        "id": "qhxzJCOvC1y6",
        "colab_type": "code",
        "outputId": "e88e051e-92d8-4ccb-8b39-cac87c874e8b",
        "colab": {
          "base_uri": "https://localhost:8080/",
          "height": 35
        }
      },
      "source": [
        "train_labels[10]"
      ],
      "execution_count": 63,
      "outputs": [
        {
          "output_type": "execute_result",
          "data": {
            "text/plain": [
              "3"
            ]
          },
          "metadata": {
            "tags": []
          },
          "execution_count": 63
        }
      ]
    },
    {
      "cell_type": "markdown",
      "metadata": {
        "id": "fZFFsloNC1y8",
        "colab_type": "text"
      },
      "source": [
        "## Preparing the data\n",
        "\n",
        "Creating a sparse input matrix by marking the words present as 1. this will be input to our Dense neural network. We will limit maximum dimesions to 10000 as we have loaded only 10000 maximum frequncy words from the datasets. We donot create any embedding layer and encode words here."
      ]
    },
    {
      "cell_type": "code",
      "metadata": {
        "id": "rtiytyzfC1y-",
        "colab_type": "code",
        "colab": {}
      },
      "source": [
        "import numpy as np\n",
        "\n",
        "def vectorize_sequences(sequences, dimension=10000):\n",
        "    results = np.zeros((len(sequences), dimension))\n",
        "    for i, sequence in enumerate(sequences):\n",
        "        results[i, sequence] = 1.\n",
        "    return results\n",
        "\n",
        "# Our vectorized training data\n",
        "x_train = vectorize_sequences(train_data)\n",
        "# Our vectorized test data\n",
        "x_test = vectorize_sequences(test_data)"
      ],
      "execution_count": 0,
      "outputs": []
    },
    {
      "cell_type": "markdown",
      "metadata": {
        "id": "hnubt-TTC1zB",
        "colab_type": "text"
      },
      "source": [
        "\n",
        "To vectorize the labels, there are two possibilities: we could just cast the label list as an integer tensor, or we could use a \"one-hot\" \n",
        "encoding. One-hot encoding is a widely used format for categorical data, also called \"categorical encoding\". \n",
        " \n",
        "In our case, one-hot encoding of our labels consists in embedding each label as an all-zero vector with a 1 in the place of the label index, e.g.:"
      ]
    },
    {
      "cell_type": "code",
      "metadata": {
        "id": "JeFX4j-WC1zB",
        "colab_type": "code",
        "colab": {}
      },
      "source": [
        "def to_one_hot(labels, dimension=46):\n",
        "    results = np.zeros((len(labels), dimension))\n",
        "    for i, label in enumerate(labels):\n",
        "        results[i, label] = 1.\n",
        "    return results\n",
        "\n",
        "# Our vectorized training labels\n",
        "one_hot_train_labels = to_one_hot(train_labels)\n",
        "# Our vectorized test labels\n",
        "one_hot_test_labels = to_one_hot(test_labels)"
      ],
      "execution_count": 0,
      "outputs": []
    },
    {
      "cell_type": "markdown",
      "metadata": {
        "id": "jx6DRYPdC1zF",
        "colab_type": "text"
      },
      "source": [
        "Note that there is a built-in way to do this in Keras, which you have already seen in action in our MNIST example:"
      ]
    },
    {
      "cell_type": "code",
      "metadata": {
        "id": "03otOvuRC1zG",
        "colab_type": "code",
        "colab": {}
      },
      "source": [
        "from keras.utils.np_utils import to_categorical\n",
        "\n",
        "one_hot_train_labels = to_categorical(train_labels)\n",
        "one_hot_test_labels = to_categorical(test_labels)"
      ],
      "execution_count": 0,
      "outputs": []
    },
    {
      "cell_type": "markdown",
      "metadata": {
        "id": "dss15sm_C1zI",
        "colab_type": "text"
      },
      "source": [
        "## Building our network\n",
        "# Two dense hidden layers with tanh function: we start with a two layer network with 64 units and tanh actiavtion function. Since, we require probablities of classes at results we use softmax. Optimizer used is RMS prop and metrics for evaluating model is accuracy and categorical loss."
      ]
    },
    {
      "cell_type": "code",
      "metadata": {
        "id": "YiDOUmz7C1zJ",
        "colab_type": "code",
        "colab": {}
      },
      "source": [
        "from keras import models\n",
        "from keras import layers\n",
        "\n",
        "model = models.Sequential()\n",
        "model.add(layers.Dense(64, activation='tanh', input_shape=(10000,)))\n",
        "model.add(layers.Dense(64, activation='tanh'))\n",
        "model.add(layers.Dense(46, activation='softmax'))"
      ],
      "execution_count": 0,
      "outputs": []
    },
    {
      "cell_type": "code",
      "metadata": {
        "id": "TPAya8oBC1zO",
        "colab_type": "code",
        "colab": {}
      },
      "source": [
        "model.compile(optimizer='rmsprop',\n",
        "              loss='categorical_crossentropy',\n",
        "              metrics=['accuracy'])"
      ],
      "execution_count": 0,
      "outputs": []
    },
    {
      "cell_type": "markdown",
      "metadata": {
        "id": "AxJplk1bC1zQ",
        "colab_type": "text"
      },
      "source": [
        "## Validating our approach\n",
        "\n",
        "Let's set apart 1,000 samples in our training data to use as a validation set:"
      ]
    },
    {
      "cell_type": "code",
      "metadata": {
        "id": "0116d7pRC1zR",
        "colab_type": "code",
        "colab": {}
      },
      "source": [
        "x_val = x_train[:1000]\n",
        "partial_x_train = x_train[1000:]\n",
        "\n",
        "y_val = one_hot_train_labels[:1000]\n",
        "partial_y_train = one_hot_train_labels[1000:]"
      ],
      "execution_count": 0,
      "outputs": []
    },
    {
      "cell_type": "markdown",
      "metadata": {
        "id": "qMNou4zzC1zS",
        "colab_type": "text"
      },
      "source": [
        "Now let's train our network for 20 epochs:"
      ]
    },
    {
      "cell_type": "code",
      "metadata": {
        "id": "E7JtaBEqC1zT",
        "colab_type": "code",
        "outputId": "1060d0f6-2066-4d4d-b196-ad756efec024",
        "colab": {
          "base_uri": "https://localhost:8080/",
          "height": 746
        }
      },
      "source": [
        "history = model.fit(partial_x_train,\n",
        "                    partial_y_train,\n",
        "                    epochs=20,\n",
        "                    batch_size=512,\n",
        "                    validation_data=(x_val, y_val))"
      ],
      "execution_count": 70,
      "outputs": [
        {
          "output_type": "stream",
          "text": [
            "Train on 7982 samples, validate on 1000 samples\n",
            "Epoch 1/20\n",
            "7982/7982 [==============================] - 1s 173us/step - loss: 2.2891 - acc: 0.5193 - val_loss: 1.6019 - val_acc: 0.6410\n",
            "Epoch 2/20\n",
            "7982/7982 [==============================] - 1s 128us/step - loss: 1.3283 - acc: 0.7169 - val_loss: 1.2471 - val_acc: 0.7230\n",
            "Epoch 3/20\n",
            "7982/7982 [==============================] - 1s 129us/step - loss: 0.9925 - acc: 0.7944 - val_loss: 1.0723 - val_acc: 0.7750\n",
            "Epoch 4/20\n",
            "7982/7982 [==============================] - 1s 128us/step - loss: 0.7672 - acc: 0.8538 - val_loss: 0.9703 - val_acc: 0.7950\n",
            "Epoch 5/20\n",
            "7982/7982 [==============================] - 1s 129us/step - loss: 0.5986 - acc: 0.8939 - val_loss: 0.8969 - val_acc: 0.8040\n",
            "Epoch 6/20\n",
            "7982/7982 [==============================] - 1s 129us/step - loss: 0.4688 - acc: 0.9168 - val_loss: 0.8549 - val_acc: 0.8210\n",
            "Epoch 7/20\n",
            "7982/7982 [==============================] - 1s 130us/step - loss: 0.3673 - acc: 0.9345 - val_loss: 0.8515 - val_acc: 0.8060\n",
            "Epoch 8/20\n",
            "7982/7982 [==============================] - 1s 128us/step - loss: 0.2927 - acc: 0.9436 - val_loss: 0.8304 - val_acc: 0.8200\n",
            "Epoch 9/20\n",
            "7982/7982 [==============================] - 1s 129us/step - loss: 0.2381 - acc: 0.9493 - val_loss: 0.8319 - val_acc: 0.8140\n",
            "Epoch 10/20\n",
            "7982/7982 [==============================] - 1s 130us/step - loss: 0.1992 - acc: 0.9510 - val_loss: 0.8351 - val_acc: 0.8210\n",
            "Epoch 11/20\n",
            "7982/7982 [==============================] - 1s 128us/step - loss: 0.1689 - acc: 0.9533 - val_loss: 0.8668 - val_acc: 0.8130\n",
            "Epoch 12/20\n",
            "7982/7982 [==============================] - 1s 129us/step - loss: 0.1457 - acc: 0.9565 - val_loss: 0.8600 - val_acc: 0.8120\n",
            "Epoch 13/20\n",
            "7982/7982 [==============================] - 1s 129us/step - loss: 0.1316 - acc: 0.9573 - val_loss: 0.8829 - val_acc: 0.8050\n",
            "Epoch 14/20\n",
            "7982/7982 [==============================] - 1s 128us/step - loss: 0.1201 - acc: 0.9544 - val_loss: 0.9030 - val_acc: 0.8030\n",
            "Epoch 15/20\n",
            "7982/7982 [==============================] - 1s 128us/step - loss: 0.1117 - acc: 0.9577 - val_loss: 0.9068 - val_acc: 0.8080\n",
            "Epoch 16/20\n",
            "7982/7982 [==============================] - 1s 128us/step - loss: 0.1048 - acc: 0.9555 - val_loss: 0.9470 - val_acc: 0.8000\n",
            "Epoch 17/20\n",
            "7982/7982 [==============================] - 1s 128us/step - loss: 0.1015 - acc: 0.9564 - val_loss: 0.9269 - val_acc: 0.8070\n",
            "Epoch 18/20\n",
            "7982/7982 [==============================] - 1s 128us/step - loss: 0.0965 - acc: 0.9573 - val_loss: 0.9571 - val_acc: 0.7990\n",
            "Epoch 19/20\n",
            "7982/7982 [==============================] - 1s 128us/step - loss: 0.0929 - acc: 0.9560 - val_loss: 0.9430 - val_acc: 0.8090\n",
            "Epoch 20/20\n",
            "7982/7982 [==============================] - 1s 129us/step - loss: 0.0884 - acc: 0.9574 - val_loss: 0.9519 - val_acc: 0.8120\n"
          ],
          "name": "stdout"
        }
      ]
    },
    {
      "cell_type": "markdown",
      "metadata": {
        "id": "9up7GdeaC1zV",
        "colab_type": "text"
      },
      "source": [
        "Let's display its loss and accuracy curves:"
      ]
    },
    {
      "cell_type": "code",
      "metadata": {
        "id": "4BiYHjcBC1zW",
        "colab_type": "code",
        "outputId": "0430829e-5343-40b0-d506-0c8fe9fcf506",
        "colab": {
          "base_uri": "https://localhost:8080/",
          "height": 295
        }
      },
      "source": [
        "import matplotlib.pyplot as plt\n",
        "\n",
        "loss = history.history['loss']\n",
        "val_loss = history.history['val_loss']\n",
        "\n",
        "epochs = range(1, len(loss) + 1)\n",
        "\n",
        "plt.plot(epochs, loss, 'bo', label='Training loss')\n",
        "plt.plot(epochs, val_loss, 'b', label='Validation loss')\n",
        "plt.title('Training and validation loss')\n",
        "plt.xlabel('Epochs')\n",
        "plt.ylabel('Loss')\n",
        "plt.legend()\n",
        "\n",
        "plt.show()"
      ],
      "execution_count": 71,
      "outputs": [
        {
          "output_type": "display_data",
          "data": {
            "image/png": "[encoded data removed]",
            "text/plain": [
              "<Figure size 432x288 with 1 Axes>"
            ]
          },
          "metadata": {
            "tags": []
          }
        }
      ]
    },
    {
      "cell_type": "code",
      "metadata": {
        "id": "hLccXiPQC1zZ",
        "colab_type": "code",
        "outputId": "c4865c18-b4eb-4edd-cc46-4875b63cbff1",
        "colab": {
          "base_uri": "https://localhost:8080/",
          "height": 295
        }
      },
      "source": [
        "plt.clf()   # clear figure\n",
        "\n",
        "acc = history.history['acc']\n",
        "val_acc = history.history['val_acc']\n",
        "\n",
        "plt.plot(epochs, acc, 'bo', label='Training acc')\n",
        "plt.plot(epochs, val_acc, 'b', label='Validation acc')\n",
        "plt.title('Training and validation accuracy')\n",
        "plt.xlabel('Epochs')\n",
        "plt.ylabel('Loss')\n",
        "plt.legend()\n",
        "\n",
        "plt.show()"
      ],
      "execution_count": 80,
      "outputs": [
        {
          "output_type": "display_data",
          "data": {
            "image/png": "[encoded data removed]",
            "text/plain": [
              "<Figure size 432x288 with 1 Axes>"
            ]
          },
          "metadata": {
            "tags": []
          }
        }
      ]
    },
    {
      "cell_type": "markdown",
      "metadata": {
        "id": "a3AlQEP-C1zh",
        "colab_type": "text"
      },
      "source": [
        "It seems that the network starts overfitting after 6 epochs. Let's train a new network from scratch for 6 epochs, then let's evaluate it on\n"
      ]
    },
    {
      "cell_type": "code",
      "metadata": {
        "id": "spK3-X1MC1zh",
        "colab_type": "code",
        "outputId": "72d37e1f-8b0a-473a-ca5d-fd953f52eb89",
        "colab": {
          "base_uri": "https://localhost:8080/",
          "height": 266
        }
      },
      "source": [
        "model = models.Sequential()\n",
        "model.add(layers.Dense(64, activation='tanh', input_shape=(10000,)))\n",
        "model.add(layers.Dense(64, activation='tanh'))\n",
        "model.add(layers.Dense(46, activation='softmax'))\n",
        "\n",
        "model.compile(optimizer='rmsprop',\n",
        "              loss='categorical_crossentropy',\n",
        "              metrics=['accuracy'])\n",
        "model.fit(partial_x_train,\n",
        "          partial_y_train,\n",
        "          epochs=6,\n",
        "          batch_size=512,\n",
        "          validation_data=(x_val, y_val))\n",
        "results = model.evaluate(x_test, one_hot_test_labels)"
      ],
      "execution_count": 81,
      "outputs": [
        {
          "output_type": "stream",
          "text": [
            "Train on 7982 samples, validate on 1000 samples\n",
            "Epoch 1/6\n",
            "7982/7982 [==============================] - 2s 193us/step - loss: 2.3115 - acc: 0.5551 - val_loss: 1.5820 - val_acc: 0.6620\n",
            "Epoch 2/6\n",
            "7982/7982 [==============================] - 1s 132us/step - loss: 1.3309 - acc: 0.7140 - val_loss: 1.2407 - val_acc: 0.7310\n",
            "Epoch 3/6\n",
            "7982/7982 [==============================] - 1s 131us/step - loss: 1.0006 - acc: 0.7899 - val_loss: 1.0607 - val_acc: 0.7800\n",
            "Epoch 4/6\n",
            "7982/7982 [==============================] - 1s 131us/step - loss: 0.7766 - acc: 0.8449 - val_loss: 0.9583 - val_acc: 0.8020\n",
            "Epoch 5/6\n",
            "7982/7982 [==============================] - 1s 132us/step - loss: 0.6114 - acc: 0.8826 - val_loss: 0.8966 - val_acc: 0.8150\n",
            "Epoch 6/6\n",
            "7982/7982 [==============================] - 1s 132us/step - loss: 0.4832 - acc: 0.9104 - val_loss: 0.8557 - val_acc: 0.8130\n",
            "2246/2246 [==============================] - 0s 109us/step\n"
          ],
          "name": "stdout"
        }
      ]
    },
    {
      "cell_type": "code",
      "metadata": {
        "id": "hqvpYYpHC1zk",
        "colab_type": "code",
        "outputId": "5186ad52-d7d7-4644-bb0a-cfded7150ae0",
        "colab": {
          "base_uri": "https://localhost:8080/",
          "height": 35
        }
      },
      "source": [
        "results"
      ],
      "execution_count": 82,
      "outputs": [
        {
          "output_type": "execute_result",
          "data": {
            "text/plain": [
              "[0.9275175208824613, 0.7898486198215535]"
            ]
          },
          "metadata": {
            "tags": []
          },
          "execution_count": 82
        }
      ]
    },
    {
      "cell_type": "markdown",
      "metadata": {
        "id": "jxpGG27eC1zl",
        "colab_type": "text"
      },
      "source": [
        "\n",
        "#### Conclusion: \n",
        "Our approach reaches an accuracy of ~78% . It is a sligt improvement over our baseline of ~77%."
      ]
    }
  ]
}