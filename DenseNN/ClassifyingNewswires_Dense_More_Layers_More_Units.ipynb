{
  "nbformat": 4,
  "nbformat_minor": 0,
  "metadata": {
    "kernelspec": {
      "display_name": "Python 3",
      "language": "python",
      "name": "python3"
    },
    "language_info": {
      "codemirror_mode": {
        "name": "ipython",
        "version": 3
      },
      "file_extension": ".py",
      "mimetype": "text/x-python",
      "name": "python",
      "nbconvert_exporter": "python",
      "pygments_lexer": "ipython3",
      "version": "3.7.4"
    },
    "colab": {
      "name": "ClassifyingNewswires_Dense_More_Layers_More_Units.ipynb",
      "provenance": [],
      "collapsed_sections": []
    }
  },
  "cells": [
    {
      "cell_type": "code",
      "metadata": {
        "id": "BKO1SQqcC1yh",
        "colab_type": "code",
        "outputId": "06c83ecd-8807-4be8-caec-efe2a6b1cf15",
        "colab": {
          "base_uri": "https://localhost:8080/",
          "height": 99
        }
      },
      "source": [
        "import keras\n",
        "keras.__version__"
      ],
      "execution_count": 1,
      "outputs": [
        {
          "output_type": "stream",
          "text": [
            "Using TensorFlow backend.\n"
          ],
          "name": "stderr"
        },
        {
          "output_type": "display_data",
          "data": {
            "text/html": [
              "<p style=\"color: red;\">\n",
              "The default version of TensorFlow in Colab will soon switch to TensorFlow 2.x.<br>\n",
              "We recommend you <a href=\"https://www.tensorflow.org/guide/migrate\" target=\"_blank\">upgrade</a> now \n",
              "or ensure your notebook will continue to use TensorFlow 1.x via the <code>%tensorflow_version 1.x</code> magic:\n",
              "<a href=\"https://colab.research.google.com/notebooks/tensorflow_version.ipynb\" target=\"_blank\">more info</a>.</p>\n"
            ],
            "text/plain": [
              "<IPython.core.display.HTML object>"
            ]
          },
          "metadata": {
            "tags": []
          }
        },
        {
          "output_type": "execute_result",
          "data": {
            "text/plain": [
              "'2.2.5'"
            ]
          },
          "metadata": {
            "tags": []
          },
          "execution_count": 1
        }
      ]
    },
    {
      "cell_type": "markdown",
      "metadata": {
        "id": "R09KtBHeC1yl",
        "colab_type": "text"
      },
      "source": [
        "# Classifying newswires: a multi-class classification example\n",
        "\n",
        "In this section, we will build a network to classify Reuters newswires into 46 different mutually-exclusive topics. Since we have many \n",
        "classes, this problem is an instance of \"multi-class classification\", and since each data point should be classified into only one \n",
        "category, the problem is more specifically an instance of \"single-label, multi-class classification\". If each data point could have \n",
        "belonged to multiple categories (in our case, topics) then we would be facing a \"multi-label, multi-class classification\" problem."
      ]
    },
    {
      "cell_type": "markdown",
      "metadata": {
        "id": "2ghFKh8RC1ym",
        "colab_type": "text"
      },
      "source": [
        "## The Reuters dataset\n",
        "\n",
        "\n",
        "We will be working with the _Reuters dataset_, a set of short newswires and their topics, published by Reuters in 1986. It's a very simple, \n",
        "widely used toy dataset for text classification. There are 46 different topics; some topics are more represented than others, but each \n",
        "topic has at least 10 examples in the training set.\n"
      ]
    },
    {
      "cell_type": "code",
      "metadata": {
        "id": "xtjM8IUrC1yn",
        "colab_type": "code",
        "colab": {
          "base_uri": "https://localhost:8080/",
          "height": 52
        },
        "outputId": "36cb8ed1-52ad-4a13-eee0-d2fd3ecc7126"
      },
      "source": [
        "from keras.datasets import reuters\n",
        "\n",
        "(train_data, train_labels), (test_data, test_labels) = reuters.load_data(num_words=10000)"
      ],
      "execution_count": 2,
      "outputs": [
        {
          "output_type": "stream",
          "text": [
            "Downloading data from https://s3.amazonaws.com/text-datasets/reuters.npz\n",
            "2113536/2110848 [==============================] - 0s 0us/step\n"
          ],
          "name": "stdout"
        }
      ]
    },
    {
      "cell_type": "markdown",
      "metadata": {
        "id": "yd6SsTE9C1yr",
        "colab_type": "text"
      },
      "source": [
        "\n",
        "Like with the IMDB dataset, the argument `num_words=10000` restricts the data to the 10,000 most frequently occurring words found in the \n",
        "data.\n",
        "\n",
        "We have 8,982 training examples and 2,246 test examples:"
      ]
    },
    {
      "cell_type": "code",
      "metadata": {
        "id": "3L51ZeSyC1yr",
        "colab_type": "code",
        "outputId": "20537fc0-356d-403b-bc8d-de2443d3b35e",
        "colab": {
          "base_uri": "https://localhost:8080/",
          "height": 35
        }
      },
      "source": [
        "len(train_data)"
      ],
      "execution_count": 3,
      "outputs": [
        {
          "output_type": "execute_result",
          "data": {
            "text/plain": [
              "8982"
            ]
          },
          "metadata": {
            "tags": []
          },
          "execution_count": 3
        }
      ]
    },
    {
      "cell_type": "code",
      "metadata": {
        "id": "XKYL8Z4jC1yu",
        "colab_type": "code",
        "outputId": "3efdd275-3d60-4e15-e4d4-e63ef249420f",
        "colab": {
          "base_uri": "https://localhost:8080/",
          "height": 35
        }
      },
      "source": [
        "len(test_data)"
      ],
      "execution_count": 4,
      "outputs": [
        {
          "output_type": "execute_result",
          "data": {
            "text/plain": [
              "2246"
            ]
          },
          "metadata": {
            "tags": []
          },
          "execution_count": 4
        }
      ]
    },
    {
      "cell_type": "markdown",
      "metadata": {
        "id": "ZRsLEhEyivh8",
        "colab_type": "text"
      },
      "source": [
        "### Class weight distribution\n"
      ]
    },
    {
      "cell_type": "code",
      "metadata": {
        "id": "c2jKI7uuC4HJ",
        "colab_type": "code",
        "outputId": "e971ffa4-604b-4d6f-88bc-13025addb17b",
        "colab": {
          "base_uri": "https://localhost:8080/",
          "height": 835
        }
      },
      "source": [
        "import numpy\n",
        "classes, count = numpy.unique(train_labels, return_counts=True)\n",
        "classes=classes.reshape(-1,1)\n",
        "count=count.reshape(-1,1)\n",
        "print(numpy.concatenate((classes,count), axis=1))"
      ],
      "execution_count": 5,
      "outputs": [
        {
          "output_type": "stream",
          "text": [
            "[[   0   55]\n",
            " [   1  432]\n",
            " [   2   74]\n",
            " [   3 3159]\n",
            " [   4 1949]\n",
            " [   5   17]\n",
            " [   6   48]\n",
            " [   7   16]\n",
            " [   8  139]\n",
            " [   9  101]\n",
            " [  10  124]\n",
            " [  11  390]\n",
            " [  12   49]\n",
            " [  13  172]\n",
            " [  14   26]\n",
            " [  15   20]\n",
            " [  16  444]\n",
            " [  17   39]\n",
            " [  18   66]\n",
            " [  19  549]\n",
            " [  20  269]\n",
            " [  21  100]\n",
            " [  22   15]\n",
            " [  23   41]\n",
            " [  24   62]\n",
            " [  25   92]\n",
            " [  26   24]\n",
            " [  27   15]\n",
            " [  28   48]\n",
            " [  29   19]\n",
            " [  30   45]\n",
            " [  31   39]\n",
            " [  32   32]\n",
            " [  33   11]\n",
            " [  34   50]\n",
            " [  35   10]\n",
            " [  36   49]\n",
            " [  37   19]\n",
            " [  38   19]\n",
            " [  39   24]\n",
            " [  40   36]\n",
            " [  41   30]\n",
            " [  42   13]\n",
            " [  43   21]\n",
            " [  44   12]\n",
            " [  45   18]]\n"
          ],
          "name": "stdout"
        }
      ]
    },
    {
      "cell_type": "markdown",
      "metadata": {
        "id": "eJrizsGMjJKK",
        "colab_type": "text"
      },
      "source": [
        "### Clearly the data is imbalanced.\n",
        "\n",
        "# Similarily, we take a look at test labels distributions."
      ]
    },
    {
      "cell_type": "code",
      "metadata": {
        "id": "yGR7LXuwC4kS",
        "colab_type": "code",
        "outputId": "f8d8c4eb-44ae-44b2-ceb5-6a97debea93f",
        "colab": {
          "base_uri": "https://localhost:8080/",
          "height": 835
        }
      },
      "source": [
        "classes, count = numpy.unique(test_labels, return_counts=True)\n",
        "classes=classes.reshape(-1,1)\n",
        "count=count.reshape(-1,1)\n",
        "print(numpy.concatenate((classes,count), axis=1))"
      ],
      "execution_count": 6,
      "outputs": [
        {
          "output_type": "stream",
          "text": [
            "[[  0  12]\n",
            " [  1 105]\n",
            " [  2  20]\n",
            " [  3 813]\n",
            " [  4 474]\n",
            " [  5   5]\n",
            " [  6  14]\n",
            " [  7   3]\n",
            " [  8  38]\n",
            " [  9  25]\n",
            " [ 10  30]\n",
            " [ 11  83]\n",
            " [ 12  13]\n",
            " [ 13  37]\n",
            " [ 14   2]\n",
            " [ 15   9]\n",
            " [ 16  99]\n",
            " [ 17  12]\n",
            " [ 18  20]\n",
            " [ 19 133]\n",
            " [ 20  70]\n",
            " [ 21  27]\n",
            " [ 22   7]\n",
            " [ 23  12]\n",
            " [ 24  19]\n",
            " [ 25  31]\n",
            " [ 26   8]\n",
            " [ 27   4]\n",
            " [ 28  10]\n",
            " [ 29   4]\n",
            " [ 30  12]\n",
            " [ 31  13]\n",
            " [ 32  10]\n",
            " [ 33   5]\n",
            " [ 34   7]\n",
            " [ 35   6]\n",
            " [ 36  11]\n",
            " [ 37   2]\n",
            " [ 38   3]\n",
            " [ 39   5]\n",
            " [ 40  10]\n",
            " [ 41   8]\n",
            " [ 42   3]\n",
            " [ 43   6]\n",
            " [ 44   5]\n",
            " [ 45   1]]\n"
          ],
          "name": "stdout"
        }
      ]
    },
    {
      "cell_type": "markdown",
      "metadata": {
        "id": "AZKMlEJjjwbG",
        "colab_type": "text"
      },
      "source": [
        "Clealy, test labels follow similar distribution as train labels. Class labels 1,3 and 4 have highest distributions along with some other classes in 20s."
      ]
    },
    {
      "cell_type": "markdown",
      "metadata": {
        "id": "xRtVql7eC1yw",
        "colab_type": "text"
      },
      "source": [
        "As with the IMDB reviews, each example is a list of integers (word indices):"
      ]
    },
    {
      "cell_type": "code",
      "metadata": {
        "id": "fsjRts4fC1yx",
        "colab_type": "code",
        "outputId": "f402837b-33a0-4eeb-86c3-1a8a7375d5e0",
        "colab": {
          "base_uri": "https://localhost:8080/",
          "height": 568
        }
      },
      "source": [
        "train_data[10]"
      ],
      "execution_count": 7,
      "outputs": [
        {
          "output_type": "execute_result",
          "data": {
            "text/plain": [
              "[1,\n",
              " 245,\n",
              " 273,\n",
              " 207,\n",
              " 156,\n",
              " 53,\n",
              " 74,\n",
              " 160,\n",
              " 26,\n",
              " 14,\n",
              " 46,\n",
              " 296,\n",
              " 26,\n",
              " 39,\n",
              " 74,\n",
              " 2979,\n",
              " 3554,\n",
              " 14,\n",
              " 46,\n",
              " 4689,\n",
              " 4329,\n",
              " 86,\n",
              " 61,\n",
              " 3499,\n",
              " 4795,\n",
              " 14,\n",
              " 61,\n",
              " 451,\n",
              " 4329,\n",
              " 17,\n",
              " 12]"
            ]
          },
          "metadata": {
            "tags": []
          },
          "execution_count": 7
        }
      ]
    },
    {
      "cell_type": "markdown",
      "metadata": {
        "id": "pUUuwGvMC1yz",
        "colab_type": "text"
      },
      "source": [
        "Example of actual sentence obtained from reverse indexing.\n",
        "\n"
      ]
    },
    {
      "cell_type": "code",
      "metadata": {
        "id": "AQPQyM5lC1y0",
        "colab_type": "code",
        "outputId": "d5c40c15-9032-4a89-ffc3-431d45892ffb",
        "colab": {
          "base_uri": "https://localhost:8080/",
          "height": 52
        }
      },
      "source": [
        "word_index = reuters.get_word_index()\n",
        "reverse_word_index = dict([(value, key) for (key, value) in word_index.items()])\n",
        "# Note that our indices were offset by 3\n",
        "# because 0, 1 and 2 are reserved indices for \"padding\", \"start of sequence\", and \"unknown\".\n",
        "decoded_newswire = ' '.join([reverse_word_index.get(i - 3, '?') for i in train_data[0]])"
      ],
      "execution_count": 8,
      "outputs": [
        {
          "output_type": "stream",
          "text": [
            "Downloading data from https://s3.amazonaws.com/text-datasets/reuters_word_index.json\n",
            "557056/550378 [==============================] - 0s 0us/step\n"
          ],
          "name": "stdout"
        }
      ]
    },
    {
      "cell_type": "code",
      "metadata": {
        "id": "ri7ajVFyC1y3",
        "colab_type": "code",
        "outputId": "35413e0c-998f-4d54-fc0b-0ab0abf300a4",
        "colab": {
          "base_uri": "https://localhost:8080/",
          "height": 55
        }
      },
      "source": [
        "decoded_newswire"
      ],
      "execution_count": 9,
      "outputs": [
        {
          "output_type": "execute_result",
          "data": {
            "text/plain": [
              "'? ? ? said as a result of its december acquisition of space co it expects earnings per share in 1987 of 1 15 to 1 30 dlrs per share up from 70 cts in 1986 the company said pretax net should rise to nine to 10 mln dlrs from six mln dlrs in 1986 and rental operation revenues to 19 to 22 mln dlrs from 12 5 mln dlrs it said cash flow per share this year should be 2 50 to three dlrs reuter 3'"
            ]
          },
          "metadata": {
            "tags": []
          },
          "execution_count": 9
        }
      ]
    },
    {
      "cell_type": "markdown",
      "metadata": {
        "id": "985YvldbC1y5",
        "colab_type": "text"
      },
      "source": [
        "The label associated with an example is an integer between 0 and 45: a topic index."
      ]
    },
    {
      "cell_type": "code",
      "metadata": {
        "id": "qhxzJCOvC1y6",
        "colab_type": "code",
        "outputId": "c74946f6-a361-4e35-e9d6-7690b533a7ef",
        "colab": {
          "base_uri": "https://localhost:8080/",
          "height": 35
        }
      },
      "source": [
        "train_labels[10]"
      ],
      "execution_count": 10,
      "outputs": [
        {
          "output_type": "execute_result",
          "data": {
            "text/plain": [
              "3"
            ]
          },
          "metadata": {
            "tags": []
          },
          "execution_count": 10
        }
      ]
    },
    {
      "cell_type": "markdown",
      "metadata": {
        "id": "fZFFsloNC1y8",
        "colab_type": "text"
      },
      "source": [
        "## Preparing the data\n",
        "\n",
        "Creating a sparse input matrix by marking the words present as 1. this will be input to our Dense neural network. We will limit maximum dimesions to 10000 as we have loaded only 10000 maximum frequncy words from the datasets. We donot create any embedding layer and encode words here."
      ]
    },
    {
      "cell_type": "code",
      "metadata": {
        "id": "rtiytyzfC1y-",
        "colab_type": "code",
        "colab": {}
      },
      "source": [
        "import numpy as np\n",
        "\n",
        "def vectorize_sequences(sequences, dimension=10000):\n",
        "    results = np.zeros((len(sequences), dimension))\n",
        "    for i, sequence in enumerate(sequences):\n",
        "        results[i, sequence] = 1.\n",
        "    return results\n",
        "\n",
        "# Our vectorized training data\n",
        "x_train = vectorize_sequences(train_data)\n",
        "# Our vectorized test data\n",
        "x_test = vectorize_sequences(test_data)"
      ],
      "execution_count": 0,
      "outputs": []
    },
    {
      "cell_type": "markdown",
      "metadata": {
        "id": "hnubt-TTC1zB",
        "colab_type": "text"
      },
      "source": [
        "\n",
        "To vectorize the labels, there are two possibilities: we could just cast the label list as an integer tensor, or we could use a \"one-hot\" \n",
        "encoding. One-hot encoding is a widely used format for categorical data, also called \"categorical encoding\". \n",
        "\n",
        "In our case, one-hot encoding of our labels consists in embedding each label as an all-zero vector with a 1 in the place of the label index, e.g.:"
      ]
    },
    {
      "cell_type": "code",
      "metadata": {
        "id": "JeFX4j-WC1zB",
        "colab_type": "code",
        "colab": {}
      },
      "source": [
        "def to_one_hot(labels, dimension=46):\n",
        "    results = np.zeros((len(labels), dimension))\n",
        "    for i, label in enumerate(labels):\n",
        "        results[i, label] = 1.\n",
        "    return results\n",
        "\n",
        "# Our vectorized training labels\n",
        "one_hot_train_labels = to_one_hot(train_labels)\n",
        "# Our vectorized test labels\n",
        "one_hot_test_labels = to_one_hot(test_labels)"
      ],
      "execution_count": 0,
      "outputs": []
    },
    {
      "cell_type": "markdown",
      "metadata": {
        "id": "jx6DRYPdC1zF",
        "colab_type": "text"
      },
      "source": [
        "Note that there is a built-in way to do this in Keras,"
      ]
    },
    {
      "cell_type": "code",
      "metadata": {
        "id": "03otOvuRC1zG",
        "colab_type": "code",
        "colab": {}
      },
      "source": [
        "from keras.utils.np_utils import to_categorical\n",
        "\n",
        "one_hot_train_labels = to_categorical(train_labels)\n",
        "one_hot_test_labels = to_categorical(test_labels)"
      ],
      "execution_count": 0,
      "outputs": []
    },
    {
      "cell_type": "markdown",
      "metadata": {
        "id": "dss15sm_C1zI",
        "colab_type": "text"
      },
      "source": [
        "## Building our network\n",
        "# 4 dense hidden layers with 512 units and relu function: we start with a 4 layer network with 512 units and relu actiavtion function. Since, we require probablities of classes at results we use softmax. Optimizer used is RMS prop and metrics for evaluating model is accuracy and categorical loss."
      ]
    },
    {
      "cell_type": "code",
      "metadata": {
        "id": "YiDOUmz7C1zJ",
        "colab_type": "code",
        "outputId": "14617503-3a77-4993-8d1a-769d78b84657",
        "colab": {
          "base_uri": "https://localhost:8080/",
          "height": 144
        }
      },
      "source": [
        "from keras import models\n",
        "from keras import layers\n",
        "\n",
        "model = models.Sequential()\n",
        "model.add(layers.Dense(512, activation='relu', input_shape=(10000,)))\n",
        "model.add(layers.Dense(512, activation='relu'))\n",
        "model.add(layers.Dense(512, activation='relu'))\n",
        "model.add(layers.Dense(512, activation='relu'))\n",
        "model.add(layers.Dense(46, activation='softmax'))"
      ],
      "execution_count": 14,
      "outputs": [
        {
          "output_type": "stream",
          "text": [
            "WARNING:tensorflow:From /usr/local/lib/python3.6/dist-packages/keras/backend/tensorflow_backend.py:66: The name tf.get_default_graph is deprecated. Please use tf.compat.v1.get_default_graph instead.\n",
            "\n",
            "WARNING:tensorflow:From /usr/local/lib/python3.6/dist-packages/keras/backend/tensorflow_backend.py:541: The name tf.placeholder is deprecated. Please use tf.compat.v1.placeholder instead.\n",
            "\n",
            "WARNING:tensorflow:From /usr/local/lib/python3.6/dist-packages/keras/backend/tensorflow_backend.py:4432: The name tf.random_uniform is deprecated. Please use tf.random.uniform instead.\n",
            "\n"
          ],
          "name": "stdout"
        }
      ]
    },
    {
      "cell_type": "code",
      "metadata": {
        "id": "TPAya8oBC1zO",
        "colab_type": "code",
        "outputId": "1ff47aba-d65a-47a6-8901-de6d63a8a9bd",
        "colab": {
          "base_uri": "https://localhost:8080/",
          "height": 108
        }
      },
      "source": [
        "model.compile(optimizer='rmsprop',\n",
        "              loss='categorical_crossentropy',\n",
        "              metrics=['accuracy'])"
      ],
      "execution_count": 15,
      "outputs": [
        {
          "output_type": "stream",
          "text": [
            "WARNING:tensorflow:From /usr/local/lib/python3.6/dist-packages/keras/optimizers.py:793: The name tf.train.Optimizer is deprecated. Please use tf.compat.v1.train.Optimizer instead.\n",
            "\n",
            "WARNING:tensorflow:From /usr/local/lib/python3.6/dist-packages/keras/backend/tensorflow_backend.py:3576: The name tf.log is deprecated. Please use tf.math.log instead.\n",
            "\n"
          ],
          "name": "stdout"
        }
      ]
    },
    {
      "cell_type": "markdown",
      "metadata": {
        "id": "AxJplk1bC1zQ",
        "colab_type": "text"
      },
      "source": [
        "## Validating our approach\n",
        "\n",
        "Let's set apart 1,000 samples in our training data to use as a validation set:"
      ]
    },
    {
      "cell_type": "code",
      "metadata": {
        "id": "0116d7pRC1zR",
        "colab_type": "code",
        "colab": {}
      },
      "source": [
        "x_val = x_train[:1000]\n",
        "partial_x_train = x_train[1000:]\n",
        "\n",
        "y_val = one_hot_train_labels[:1000]\n",
        "partial_y_train = one_hot_train_labels[1000:]"
      ],
      "execution_count": 0,
      "outputs": []
    },
    {
      "cell_type": "markdown",
      "metadata": {
        "id": "qMNou4zzC1zS",
        "colab_type": "text"
      },
      "source": [
        "Now let's train our network for 20 epochs:"
      ]
    },
    {
      "cell_type": "code",
      "metadata": {
        "id": "E7JtaBEqC1zT",
        "colab_type": "code",
        "outputId": "e91d4526-f4bb-4cf6-a04f-0ef1e06d37a7",
        "colab": {
          "base_uri": "https://localhost:8080/",
          "height": 746
        }
      },
      "source": [
        "history = model.fit(partial_x_train,\n",
        "                    partial_y_train,\n",
        "                    epochs=20,\n",
        "                    batch_size=512,\n",
        "                    validation_data=(x_val, y_val))"
      ],
      "execution_count": 45,
      "outputs": [
        {
          "output_type": "stream",
          "text": [
            "Train on 7982 samples, validate on 1000 samples\n",
            "Epoch 1/20\n",
            "7982/7982 [==============================] - 6s 689us/step - loss: 0.1071 - acc: 0.9593 - val_loss: 1.4747 - val_acc: 0.7850\n",
            "Epoch 2/20\n",
            "7982/7982 [==============================] - 5s 686us/step - loss: 0.1935 - acc: 0.9366 - val_loss: 1.1053 - val_acc: 0.8110\n",
            "Epoch 3/20\n",
            "7982/7982 [==============================] - 5s 683us/step - loss: 0.0810 - acc: 0.9604 - val_loss: 1.2233 - val_acc: 0.8130\n",
            "Epoch 4/20\n",
            "7982/7982 [==============================] - 5s 688us/step - loss: 0.0797 - acc: 0.9598 - val_loss: 1.3071 - val_acc: 0.7970\n",
            "Epoch 5/20\n",
            "7982/7982 [==============================] - 6s 689us/step - loss: 0.0828 - acc: 0.9597 - val_loss: 1.3841 - val_acc: 0.7920\n",
            "Epoch 6/20\n",
            "7982/7982 [==============================] - 5s 688us/step - loss: 0.0832 - acc: 0.9597 - val_loss: 1.4025 - val_acc: 0.7970\n",
            "Epoch 7/20\n",
            "7982/7982 [==============================] - 5s 689us/step - loss: 0.0817 - acc: 0.9598 - val_loss: 1.5326 - val_acc: 0.7930\n",
            "Epoch 8/20\n",
            "7982/7982 [==============================] - 5s 689us/step - loss: 0.0964 - acc: 0.9567 - val_loss: 1.4227 - val_acc: 0.8160\n",
            "Epoch 9/20\n",
            "7982/7982 [==============================] - 5s 686us/step - loss: 0.0697 - acc: 0.9588 - val_loss: 1.4131 - val_acc: 0.7990\n",
            "Epoch 10/20\n",
            "7982/7982 [==============================] - 5s 687us/step - loss: 0.0760 - acc: 0.9605 - val_loss: 1.3874 - val_acc: 0.8040\n",
            "Epoch 11/20\n",
            "7982/7982 [==============================] - 5s 687us/step - loss: 0.0697 - acc: 0.9602 - val_loss: 1.5831 - val_acc: 0.8040\n",
            "Epoch 12/20\n",
            "7982/7982 [==============================] - 5s 689us/step - loss: 0.1272 - acc: 0.9484 - val_loss: 1.4006 - val_acc: 0.8090\n",
            "Epoch 13/20\n",
            "7982/7982 [==============================] - 6s 693us/step - loss: 0.0616 - acc: 0.9620 - val_loss: 1.4379 - val_acc: 0.8090\n",
            "Epoch 14/20\n",
            "7982/7982 [==============================] - 5s 686us/step - loss: 0.0625 - acc: 0.9629 - val_loss: 1.4731 - val_acc: 0.8100\n",
            "Epoch 15/20\n",
            "7982/7982 [==============================] - 5s 689us/step - loss: 0.0644 - acc: 0.9607 - val_loss: 1.5863 - val_acc: 0.8090\n",
            "Epoch 16/20\n",
            "7982/7982 [==============================] - 5s 689us/step - loss: 0.0670 - acc: 0.9623 - val_loss: 1.6190 - val_acc: 0.8050\n",
            "Epoch 17/20\n",
            "7982/7982 [==============================] - 6s 694us/step - loss: 0.0802 - acc: 0.9585 - val_loss: 1.5409 - val_acc: 0.8000\n",
            "Epoch 18/20\n",
            "7982/7982 [==============================] - 6s 696us/step - loss: 0.0651 - acc: 0.9610 - val_loss: 1.5121 - val_acc: 0.8080\n",
            "Epoch 19/20\n",
            "7982/7982 [==============================] - 6s 694us/step - loss: 0.0604 - acc: 0.9629 - val_loss: 1.5726 - val_acc: 0.8080\n",
            "Epoch 20/20\n",
            "7982/7982 [==============================] - 6s 690us/step - loss: 0.0627 - acc: 0.9609 - val_loss: 1.6414 - val_acc: 0.8120\n"
          ],
          "name": "stdout"
        }
      ]
    },
    {
      "cell_type": "markdown",
      "metadata": {
        "id": "9up7GdeaC1zV",
        "colab_type": "text"
      },
      "source": [
        "Let's display its loss and accuracy curves:"
      ]
    },
    {
      "cell_type": "code",
      "metadata": {
        "id": "4BiYHjcBC1zW",
        "colab_type": "code",
        "outputId": "bd236626-5732-4a75-8fdb-2bb386e48dae",
        "colab": {
          "base_uri": "https://localhost:8080/",
          "height": 295
        }
      },
      "source": [
        "import matplotlib.pyplot as plt\n",
        "\n",
        "loss = history.history['loss']\n",
        "val_loss = history.history['val_loss']\n",
        "\n",
        "epochs = range(1, len(loss) + 1)\n",
        "\n",
        "plt.plot(epochs, loss, 'bo', label='Training loss')\n",
        "plt.plot(epochs, val_loss, 'b', label='Validation loss')\n",
        "plt.title('Training and validation loss')\n",
        "plt.xlabel('Epochs')\n",
        "plt.ylabel('Loss')\n",
        "plt.legend()\n",
        "\n",
        "plt.show()"
      ],
      "execution_count": 46,
      "outputs": [
        {
          "output_type": "display_data",
          "data": {
            "image/png": "[encoded data removed]",
            "text/plain": [
              "<Figure size 432x288 with 1 Axes>"
            ]
          },
          "metadata": {
            "tags": []
          }
        }
      ]
    },
    {
      "cell_type": "code",
      "metadata": {
        "id": "hLccXiPQC1zZ",
        "colab_type": "code",
        "outputId": "cca226ab-2839-4a5f-f38c-452b906ff143",
        "colab": {
          "base_uri": "https://localhost:8080/",
          "height": 295
        }
      },
      "source": [
        "plt.clf()   # clear figure\n",
        "\n",
        "acc = history.history['acc']\n",
        "val_acc = history.history['val_acc']\n",
        "\n",
        "plt.plot(epochs, acc, 'bo', label='Training acc')\n",
        "plt.plot(epochs, val_acc, 'b', label='Validation acc')\n",
        "plt.title('Training and validation accuracy')\n",
        "plt.xlabel('Epochs')\n",
        "plt.ylabel('Loss')\n",
        "plt.legend()\n",
        "\n",
        "plt.show()"
      ],
      "execution_count": 47,
      "outputs": [
        {
          "output_type": "display_data",
          "data": {
            "image/png": "[encoded data removed]",
            "text/plain": [
              "<Figure size 432x288 with 1 Axes>"
            ]
          },
          "metadata": {
            "tags": []
          }
        }
      ]
    },
    {
      "cell_type": "markdown",
      "metadata": {
        "id": "a3AlQEP-C1zh",
        "colab_type": "text"
      },
      "source": [
        "It seems that the network starts overfitting after 14\n",
        "\n",
        "\n",
        "\n",
        " epochs. Let's train a new network from scratch for 14 epochs, then let's evaluate it on \n",
        "the test set:"
      ]
    },
    {
      "cell_type": "code",
      "metadata": {
        "id": "spK3-X1MC1zh",
        "colab_type": "code",
        "outputId": "e3fd6041-a7ef-44b3-dd17-ad12c5833dc7",
        "colab": {
          "base_uri": "https://localhost:8080/",
          "height": 550
        }
      },
      "source": [
        "model = models.Sequential()\n",
        "model.add(layers.Dense(512, activation='relu', input_shape=(10000,)))\n",
        "model.add(layers.Dense(512, activation='relu'))\n",
        "model.add(layers.Dense(512, activation='relu'))\n",
        "model.add(layers.Dense(512, activation='relu'))\n",
        "model.add(layers.Dense(46, activation='softmax'))\n",
        "\n",
        "model.compile(optimizer='rmsprop',\n",
        "              loss='categorical_crossentropy',\n",
        "              metrics=['accuracy'])\n",
        "model.fit(partial_x_train,\n",
        "          partial_y_train,\n",
        "          epochs=14,\n",
        "          batch_size=512,\n",
        "          validation_data=(x_val, y_val))\n",
        "results = model.evaluate(x_test, one_hot_test_labels)"
      ],
      "execution_count": 49,
      "outputs": [
        {
          "output_type": "stream",
          "text": [
            "Train on 7982 samples, validate on 1000 samples\n",
            "Epoch 1/14\n",
            "7982/7982 [==============================] - 7s 863us/step - loss: 2.2951 - acc: 0.4575 - val_loss: 1.4985 - val_acc: 0.6210\n",
            "Epoch 2/14\n",
            "7982/7982 [==============================] - 6s 740us/step - loss: 1.2385 - acc: 0.6996 - val_loss: 1.2184 - val_acc: 0.7440\n",
            "Epoch 3/14\n",
            "7982/7982 [==============================] - 6s 717us/step - loss: 0.9110 - acc: 0.7754 - val_loss: 1.0897 - val_acc: 0.7630\n",
            "Epoch 4/14\n",
            "7982/7982 [==============================] - 6s 700us/step - loss: 0.6036 - acc: 0.8462 - val_loss: 1.1530 - val_acc: 0.7260\n",
            "Epoch 5/14\n",
            "7982/7982 [==============================] - 6s 697us/step - loss: 0.4657 - acc: 0.8806 - val_loss: 1.0904 - val_acc: 0.7600\n",
            "Epoch 6/14\n",
            "7982/7982 [==============================] - 6s 701us/step - loss: 0.3849 - acc: 0.9037 - val_loss: 0.9885 - val_acc: 0.8130\n",
            "Epoch 7/14\n",
            "7982/7982 [==============================] - 6s 704us/step - loss: 0.2312 - acc: 0.9395 - val_loss: 1.1274 - val_acc: 0.7970\n",
            "Epoch 8/14\n",
            "7982/7982 [==============================] - 6s 695us/step - loss: 0.1984 - acc: 0.9464 - val_loss: 1.3671 - val_acc: 0.7250\n",
            "Epoch 9/14\n",
            "7982/7982 [==============================] - 6s 703us/step - loss: 0.1689 - acc: 0.9473 - val_loss: 1.1518 - val_acc: 0.7990\n",
            "Epoch 10/14\n",
            "7982/7982 [==============================] - 6s 702us/step - loss: 0.1820 - acc: 0.9468 - val_loss: 1.2818 - val_acc: 0.7910\n",
            "Epoch 11/14\n",
            "7982/7982 [==============================] - 6s 701us/step - loss: 0.1123 - acc: 0.9582 - val_loss: 1.1242 - val_acc: 0.8000\n",
            "Epoch 12/14\n",
            "7982/7982 [==============================] - 6s 701us/step - loss: 0.2247 - acc: 0.9334 - val_loss: 1.0327 - val_acc: 0.8160\n",
            "Epoch 13/14\n",
            "7982/7982 [==============================] - 6s 694us/step - loss: 0.0967 - acc: 0.9595 - val_loss: 1.1675 - val_acc: 0.8030\n",
            "Epoch 14/14\n",
            "7982/7982 [==============================] - 5s 665us/step - loss: 0.0922 - acc: 0.9605 - val_loss: 1.2396 - val_acc: 0.8040\n",
            "2246/2246 [==============================] - 1s 431us/step\n"
          ],
          "name": "stdout"
        }
      ]
    },
    {
      "cell_type": "code",
      "metadata": {
        "id": "hqvpYYpHC1zk",
        "colab_type": "code",
        "outputId": "c5258ca8-dde5-41fd-fdc5-fab07514da59",
        "colab": {
          "base_uri": "https://localhost:8080/",
          "height": 35
        }
      },
      "source": [
        "results"
      ],
      "execution_count": 50,
      "outputs": [
        {
          "output_type": "execute_result",
          "data": {
            "text/plain": [
              "[1.4318975691060774, 0.7894033837934105]"
            ]
          },
          "metadata": {
            "tags": []
          },
          "execution_count": 50
        }
      ]
    },
    {
      "cell_type": "markdown",
      "metadata": {
        "id": "jxpGG27eC1zl",
        "colab_type": "text"
      },
      "source": [
        "\n",
        "#### Conclusion: \n",
        "Our approach reaches an accuracy of ~78%. It is also a sligt improvement over our baseline of 77%."
      ]
    }
  ]
}