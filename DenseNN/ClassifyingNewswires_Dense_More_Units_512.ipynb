{
  "nbformat": 4,
  "nbformat_minor": 0,
  "metadata": {
    "kernelspec": {
      "display_name": "Python 3",
      "language": "python",
      "name": "python3"
    },
    "language_info": {
      "codemirror_mode": {
        "name": "ipython",
        "version": 3
      },
      "file_extension": ".py",
      "mimetype": "text/x-python",
      "name": "python",
      "nbconvert_exporter": "python",
      "pygments_lexer": "ipython3",
      "version": "3.7.4"
    },
    "colab": {
      "name": "ClassifyingNewswires_Dense_More_Units_512.ipynb",
      "provenance": [],
      "collapsed_sections": []
    }
  },
  "cells": [
    {
      "cell_type": "code",
      "metadata": {
        "id": "BKO1SQqcC1yh",
        "colab_type": "code",
        "outputId": "fbe4de80-e8e7-4a6c-aa30-7225feea0559",
        "colab": {
          "base_uri": "https://localhost:8080/",
          "height": 35
        }
      },
      "source": [
        "import keras\n",
        "keras.__version__"
      ],
      "execution_count": 51,
      "outputs": [
        {
          "output_type": "execute_result",
          "data": {
            "text/plain": [
              "'2.2.5'"
            ]
          },
          "metadata": {
            "tags": []
          },
          "execution_count": 51
        }
      ]
    },
    {
      "cell_type": "markdown",
      "metadata": {
        "id": "R09KtBHeC1yl",
        "colab_type": "text"
      },
      "source": [
        "# Classifying newswires: a multi-class classification example\n",
        "\n",
        "\n",
        "In this section, we will build a network to classify Reuters newswires into 46 different mutually-exclusive topics. Since we have many \n",
        "classes, this problem is an instance of \"multi-class classification\", and since each data point should be classified into only one \n",
        "category, the problem is more specifically an instance of \"single-label, multi-class classification\". If each data point could have \n",
        "belonged to multiple categories (in our case, topics) then we would be facing a \"multi-label, multi-class classification\" problem."
      ]
    },
    {
      "cell_type": "markdown",
      "metadata": {
        "id": "2ghFKh8RC1ym",
        "colab_type": "text"
      },
      "source": [
        "## The Reuters dataset\n",
        "\n",
        "\n",
        "We will be working with the _Reuters dataset_, a set of short newswires and their topics, published by Reuters in 1986. It's a very simple, \n",
        "widely used toy dataset for text classification. There are 46 different topics; some topics are more represented than others, but each \n",
        "topic has at least 10 examples in the training set.\n"
      ]
    },
    {
      "cell_type": "code",
      "metadata": {
        "id": "xtjM8IUrC1yn",
        "colab_type": "code",
        "outputId": "5f9e6a88-35ca-4441-9123-ab4b8f356f4d",
        "colab": {
          "base_uri": "https://localhost:8080/",
          "height": 117
        }
      },
      "source": [
        "from keras.datasets import reuters\n",
        "\n",
        "(train_data, train_labels), (test_data, test_labels) = reuters.load_data(num_words=10000)"
      ],
      "execution_count": 52,
      "outputs": [
        {
          "output_type": "stream",
          "text": [
            "Using TensorFlow backend.\n"
          ],
          "name": "stderr"
        },
        {
          "output_type": "display_data",
          "data": {
            "text/html": [
              "<p style=\"color: red;\">\n",
              "The default version of TensorFlow in Colab will soon switch to TensorFlow 2.x.<br>\n",
              "We recommend you <a href=\"https://www.tensorflow.org/guide/migrate\" target=\"_blank\">upgrade</a> now \n",
              "or ensure your notebook will continue to use TensorFlow 1.x via the <code>%tensorflow_version 1.x</code> magic:\n",
              "<a href=\"https://colab.research.google.com/notebooks/tensorflow_version.ipynb\" target=\"_blank\">more info</a>.</p>\n"
            ],
            "text/plain": [
              "<IPython.core.display.HTML object>"
            ]
          },
          "metadata": {
            "tags": []
          }
        },
        {
          "output_type": "stream",
          "text": [
            "Downloading data from https://s3.amazonaws.com/text-datasets/reuters.npz\n",
            "2113536/2110848 [==============================] - 0s 0us/step\n"
          ],
          "name": "stdout"
        }
      ]
    },
    {
      "cell_type": "markdown",
      "metadata": {
        "id": "yd6SsTE9C1yr",
        "colab_type": "text"
      },
      "source": [
        "\n",
        "Like with the IMDB dataset, the argument `num_words=10000` restricts the data to the 10,000 most frequently occurring words found in the \n",
        "data.\n",
        "\n",
        "We have 8,982 training examples and 2,246 test examples:"
      ]
    },
    {
      "cell_type": "code",
      "metadata": {
        "id": "3L51ZeSyC1yr",
        "colab_type": "code",
        "outputId": "0d523ff3-12ae-497d-ae23-8b81d3850378",
        "colab": {
          "base_uri": "https://localhost:8080/",
          "height": 35
        }
      },
      "source": [
        "len(train_data)"
      ],
      "execution_count": 53,
      "outputs": [
        {
          "output_type": "execute_result",
          "data": {
            "text/plain": [
              "8982"
            ]
          },
          "metadata": {
            "tags": []
          },
          "execution_count": 2
        },
        {
          "output_type": "execute_result",
          "data": {
            "text/plain": [
              "8982"
            ]
          },
          "metadata": {
            "tags": []
          },
          "execution_count": 27
        },
        {
          "output_type": "execute_result",
          "data": {
            "text/plain": [
              "8982"
            ]
          },
          "metadata": {
            "tags": []
          },
          "execution_count": 53
        }
      ]
    },
    {
      "cell_type": "code",
      "metadata": {
        "id": "XKYL8Z4jC1yu",
        "colab_type": "code",
        "outputId": "3c3189f0-cee1-4e42-9a4e-b03bc23652f8",
        "colab": {
          "base_uri": "https://localhost:8080/",
          "height": 35
        }
      },
      "source": [
        "len(test_data)"
      ],
      "execution_count": 54,
      "outputs": [
        {
          "output_type": "execute_result",
          "data": {
            "text/plain": [
              "2246"
            ]
          },
          "metadata": {
            "tags": []
          },
          "execution_count": 3
        },
        {
          "output_type": "execute_result",
          "data": {
            "text/plain": [
              "2246"
            ]
          },
          "metadata": {
            "tags": []
          },
          "execution_count": 28
        },
        {
          "output_type": "execute_result",
          "data": {
            "text/plain": [
              "2246"
            ]
          },
          "metadata": {
            "tags": []
          },
          "execution_count": 54
        }
      ]
    },
    {
      "cell_type": "markdown",
      "metadata": {
        "id": "1rQsAwz4imj9",
        "colab_type": "text"
      },
      "source": [
        "### Class weight distribution\n"
      ]
    },
    {
      "cell_type": "code",
      "metadata": {
        "id": "c2jKI7uuC4HJ",
        "colab_type": "code",
        "outputId": "674a825e-b03f-452e-9faa-2e66b3b892d0",
        "colab": {
          "base_uri": "https://localhost:8080/",
          "height": 1000
        }
      },
      "source": [
        "import numpy\n",
        "classes, count = numpy.unique(train_labels, return_counts=True)\n",
        "classes=classes.reshape(-1,1)\n",
        "count=count.reshape(-1,1)\n",
        "print(numpy.concatenate((classes,count), axis=1))"
      ],
      "execution_count": 55,
      "outputs": [
        {
          "output_type": "stream",
          "text": [
            "[[   0   55]\n",
            " [   1  432]\n",
            " [   2   74]\n",
            " [   3 3159]\n",
            " [   4 1949]\n",
            " [   5   17]\n",
            " [   6   48]\n",
            " [   7   16]\n",
            " [   8  139]\n",
            " [   9  101]\n",
            " [  10  124]\n",
            " [  11  390]\n",
            " [  12   49]\n",
            " [  13  172]\n",
            " [  14   26]\n",
            " [  15   20]\n",
            " [  16  444]\n",
            " [  17   39]\n",
            " [  18   66]\n",
            " [  19  549]\n",
            " [  20  269]\n",
            " [  21  100]\n",
            " [  22   15]\n",
            " [  23   41]\n",
            " [  24   62]\n",
            " [  25   92]\n",
            " [  26   24]\n",
            " [  27   15]\n",
            " [  28   48]\n",
            " [  29   19]\n",
            " [  30   45]\n",
            " [  31   39]\n",
            " [  32   32]\n",
            " [  33   11]\n",
            " [  34   50]\n",
            " [  35   10]\n",
            " [  36   49]\n",
            " [  37   19]\n",
            " [  38   19]\n",
            " [  39   24]\n",
            " [  40   36]\n",
            " [  41   30]\n",
            " [  42   13]\n",
            " [  43   21]\n",
            " [  44   12]\n",
            " [  45   18]]\n",
            "[[   0   55]\n",
            " [   1  432]\n",
            " [   2   74]\n",
            " [   3 3159]\n",
            " [   4 1949]\n",
            " [   5   17]\n",
            " [   6   48]\n",
            " [   7   16]\n",
            " [   8  139]\n",
            " [   9  101]\n",
            " [  10  124]\n",
            " [  11  390]\n",
            " [  12   49]\n",
            " [  13  172]\n",
            " [  14   26]\n",
            " [  15   20]\n",
            " [  16  444]\n",
            " [  17   39]\n",
            " [  18   66]\n",
            " [  19  549]\n",
            " [  20  269]\n",
            " [  21  100]\n",
            " [  22   15]\n",
            " [  23   41]\n",
            " [  24   62]\n",
            " [  25   92]\n",
            " [  26   24]\n",
            " [  27   15]\n",
            " [  28   48]\n",
            " [  29   19]\n",
            " [  30   45]\n",
            " [  31   39]\n",
            " [  32   32]\n",
            " [  33   11]\n",
            " [  34   50]\n",
            " [  35   10]\n",
            " [  36   49]\n",
            " [  37   19]\n",
            " [  38   19]\n",
            " [  39   24]\n",
            " [  40   36]\n",
            " [  41   30]\n",
            " [  42   13]\n",
            " [  43   21]\n",
            " [  44   12]\n",
            " [  45   18]]\n",
            "[[   0   55]\n",
            " [   1  432]\n",
            " [   2   74]\n",
            " [   3 3159]\n",
            " [   4 1949]\n",
            " [   5   17]\n",
            " [   6   48]\n",
            " [   7   16]\n",
            " [   8  139]\n",
            " [   9  101]\n",
            " [  10  124]\n",
            " [  11  390]\n",
            " [  12   49]\n",
            " [  13  172]\n",
            " [  14   26]\n",
            " [  15   20]\n",
            " [  16  444]\n",
            " [  17   39]\n",
            " [  18   66]\n",
            " [  19  549]\n",
            " [  20  269]\n",
            " [  21  100]\n",
            " [  22   15]\n",
            " [  23   41]\n",
            " [  24   62]\n",
            " [  25   92]\n",
            " [  26   24]\n",
            " [  27   15]\n",
            " [  28   48]\n",
            " [  29   19]\n",
            " [  30   45]\n",
            " [  31   39]\n",
            " [  32   32]\n",
            " [  33   11]\n",
            " [  34   50]\n",
            " [  35   10]\n",
            " [  36   49]\n",
            " [  37   19]\n",
            " [  38   19]\n",
            " [  39   24]\n",
            " [  40   36]\n",
            " [  41   30]\n",
            " [  42   13]\n",
            " [  43   21]\n",
            " [  44   12]\n",
            " [  45   18]]\n"
          ],
          "name": "stdout"
        }
      ]
    },
    {
      "cell_type": "markdown",
      "metadata": {
        "id": "dC9VYhNGjBPt",
        "colab_type": "text"
      },
      "source": [
        "### Clearly the data is imbalanced.\n",
        "\n",
        "# Similarily, we take a look at test labels distributions."
      ]
    },
    {
      "cell_type": "code",
      "metadata": {
        "id": "yGR7LXuwC4kS",
        "colab_type": "code",
        "outputId": "f94925e4-1dd0-44ca-a7e3-7e50bb85ae33",
        "colab": {
          "base_uri": "https://localhost:8080/",
          "height": 1000
        }
      },
      "source": [
        "classes, count = numpy.unique(test_labels, return_counts=True)\n",
        "classes=classes.reshape(-1,1)\n",
        "count=count.reshape(-1,1)\n",
        "print(numpy.concatenate((classes,count), axis=1))"
      ],
      "execution_count": 56,
      "outputs": [
        {
          "output_type": "stream",
          "text": [
            "[[  0  12]\n",
            " [  1 105]\n",
            " [  2  20]\n",
            " [  3 813]\n",
            " [  4 474]\n",
            " [  5   5]\n",
            " [  6  14]\n",
            " [  7   3]\n",
            " [  8  38]\n",
            " [  9  25]\n",
            " [ 10  30]\n",
            " [ 11  83]\n",
            " [ 12  13]\n",
            " [ 13  37]\n",
            " [ 14   2]\n",
            " [ 15   9]\n",
            " [ 16  99]\n",
            " [ 17  12]\n",
            " [ 18  20]\n",
            " [ 19 133]\n",
            " [ 20  70]\n",
            " [ 21  27]\n",
            " [ 22   7]\n",
            " [ 23  12]\n",
            " [ 24  19]\n",
            " [ 25  31]\n",
            " [ 26   8]\n",
            " [ 27   4]\n",
            " [ 28  10]\n",
            " [ 29   4]\n",
            " [ 30  12]\n",
            " [ 31  13]\n",
            " [ 32  10]\n",
            " [ 33   5]\n",
            " [ 34   7]\n",
            " [ 35   6]\n",
            " [ 36  11]\n",
            " [ 37   2]\n",
            " [ 38   3]\n",
            " [ 39   5]\n",
            " [ 40  10]\n",
            " [ 41   8]\n",
            " [ 42   3]\n",
            " [ 43   6]\n",
            " [ 44   5]\n",
            " [ 45   1]]\n",
            "[[  0  12]\n",
            " [  1 105]\n",
            " [  2  20]\n",
            " [  3 813]\n",
            " [  4 474]\n",
            " [  5   5]\n",
            " [  6  14]\n",
            " [  7   3]\n",
            " [  8  38]\n",
            " [  9  25]\n",
            " [ 10  30]\n",
            " [ 11  83]\n",
            " [ 12  13]\n",
            " [ 13  37]\n",
            " [ 14   2]\n",
            " [ 15   9]\n",
            " [ 16  99]\n",
            " [ 17  12]\n",
            " [ 18  20]\n",
            " [ 19 133]\n",
            " [ 20  70]\n",
            " [ 21  27]\n",
            " [ 22   7]\n",
            " [ 23  12]\n",
            " [ 24  19]\n",
            " [ 25  31]\n",
            " [ 26   8]\n",
            " [ 27   4]\n",
            " [ 28  10]\n",
            " [ 29   4]\n",
            " [ 30  12]\n",
            " [ 31  13]\n",
            " [ 32  10]\n",
            " [ 33   5]\n",
            " [ 34   7]\n",
            " [ 35   6]\n",
            " [ 36  11]\n",
            " [ 37   2]\n",
            " [ 38   3]\n",
            " [ 39   5]\n",
            " [ 40  10]\n",
            " [ 41   8]\n",
            " [ 42   3]\n",
            " [ 43   6]\n",
            " [ 44   5]\n",
            " [ 45   1]]\n",
            "[[  0  12]\n",
            " [  1 105]\n",
            " [  2  20]\n",
            " [  3 813]\n",
            " [  4 474]\n",
            " [  5   5]\n",
            " [  6  14]\n",
            " [  7   3]\n",
            " [  8  38]\n",
            " [  9  25]\n",
            " [ 10  30]\n",
            " [ 11  83]\n",
            " [ 12  13]\n",
            " [ 13  37]\n",
            " [ 14   2]\n",
            " [ 15   9]\n",
            " [ 16  99]\n",
            " [ 17  12]\n",
            " [ 18  20]\n",
            " [ 19 133]\n",
            " [ 20  70]\n",
            " [ 21  27]\n",
            " [ 22   7]\n",
            " [ 23  12]\n",
            " [ 24  19]\n",
            " [ 25  31]\n",
            " [ 26   8]\n",
            " [ 27   4]\n",
            " [ 28  10]\n",
            " [ 29   4]\n",
            " [ 30  12]\n",
            " [ 31  13]\n",
            " [ 32  10]\n",
            " [ 33   5]\n",
            " [ 34   7]\n",
            " [ 35   6]\n",
            " [ 36  11]\n",
            " [ 37   2]\n",
            " [ 38   3]\n",
            " [ 39   5]\n",
            " [ 40  10]\n",
            " [ 41   8]\n",
            " [ 42   3]\n",
            " [ 43   6]\n",
            " [ 44   5]\n",
            " [ 45   1]]\n"
          ],
          "name": "stdout"
        }
      ]
    },
    {
      "cell_type": "markdown",
      "metadata": {
        "id": "CBFK9zZgjjnG",
        "colab_type": "text"
      },
      "source": [
        "Clealy, test labels follow similar distribution as train labels. Class labels 1,3 and 4 have highest distributions along with some other classes in 20s."
      ]
    },
    {
      "cell_type": "markdown",
      "metadata": {
        "id": "xRtVql7eC1yw",
        "colab_type": "text"
      },
      "source": [
        "As with the IMDB reviews, each example is a list of integers (word indices):"
      ]
    },
    {
      "cell_type": "code",
      "metadata": {
        "id": "fsjRts4fC1yx",
        "colab_type": "code",
        "outputId": "c718ca41-64cd-4d8b-faa9-6b7b8c7243e0",
        "colab": {
          "base_uri": "https://localhost:8080/",
          "height": 1000
        }
      },
      "source": [
        "train_data[10]"
      ],
      "execution_count": 57,
      "outputs": [
        {
          "output_type": "execute_result",
          "data": {
            "text/plain": [
              "[1,\n",
              " 245,\n",
              " 273,\n",
              " 207,\n",
              " 156,\n",
              " 53,\n",
              " 74,\n",
              " 160,\n",
              " 26,\n",
              " 14,\n",
              " 46,\n",
              " 296,\n",
              " 26,\n",
              " 39,\n",
              " 74,\n",
              " 2979,\n",
              " 3554,\n",
              " 14,\n",
              " 46,\n",
              " 4689,\n",
              " 4329,\n",
              " 86,\n",
              " 61,\n",
              " 3499,\n",
              " 4795,\n",
              " 14,\n",
              " 61,\n",
              " 451,\n",
              " 4329,\n",
              " 17,\n",
              " 12]"
            ]
          },
          "metadata": {
            "tags": []
          },
          "execution_count": 6
        },
        {
          "output_type": "execute_result",
          "data": {
            "text/plain": [
              "[1,\n",
              " 245,\n",
              " 273,\n",
              " 207,\n",
              " 156,\n",
              " 53,\n",
              " 74,\n",
              " 160,\n",
              " 26,\n",
              " 14,\n",
              " 46,\n",
              " 296,\n",
              " 26,\n",
              " 39,\n",
              " 74,\n",
              " 2979,\n",
              " 3554,\n",
              " 14,\n",
              " 46,\n",
              " 4689,\n",
              " 4329,\n",
              " 86,\n",
              " 61,\n",
              " 3499,\n",
              " 4795,\n",
              " 14,\n",
              " 61,\n",
              " 451,\n",
              " 4329,\n",
              " 17,\n",
              " 12]"
            ]
          },
          "metadata": {
            "tags": []
          },
          "execution_count": 31
        },
        {
          "output_type": "execute_result",
          "data": {
            "text/plain": [
              "[1,\n",
              " 245,\n",
              " 273,\n",
              " 207,\n",
              " 156,\n",
              " 53,\n",
              " 74,\n",
              " 160,\n",
              " 26,\n",
              " 14,\n",
              " 46,\n",
              " 296,\n",
              " 26,\n",
              " 39,\n",
              " 74,\n",
              " 2979,\n",
              " 3554,\n",
              " 14,\n",
              " 46,\n",
              " 4689,\n",
              " 4329,\n",
              " 86,\n",
              " 61,\n",
              " 3499,\n",
              " 4795,\n",
              " 14,\n",
              " 61,\n",
              " 451,\n",
              " 4329,\n",
              " 17,\n",
              " 12]"
            ]
          },
          "metadata": {
            "tags": []
          },
          "execution_count": 57
        }
      ]
    },
    {
      "cell_type": "markdown",
      "metadata": {
        "id": "pUUuwGvMC1yz",
        "colab_type": "text"
      },
      "source": [
        "Example of actual sentence obtained from reverse indexing."
      ]
    },
    {
      "cell_type": "code",
      "metadata": {
        "id": "AQPQyM5lC1y0",
        "colab_type": "code",
        "outputId": "5697553d-5e65-4eaf-b055-c4fa2fb0152b",
        "colab": {
          "base_uri": "https://localhost:8080/",
          "height": 52
        }
      },
      "source": [
        "word_index = reuters.get_word_index()\n",
        "reverse_word_index = dict([(value, key) for (key, value) in word_index.items()])\n",
        "# Note that our indices were offset by 3\n",
        "# because 0, 1 and 2 are reserved indices for \"padding\", \"start of sequence\", and \"unknown\".\n",
        "decoded_newswire = ' '.join([reverse_word_index.get(i - 3, '?') for i in train_data[0]])"
      ],
      "execution_count": 58,
      "outputs": [
        {
          "output_type": "stream",
          "text": [
            "Downloading data from https://s3.amazonaws.com/text-datasets/reuters_word_index.json\n",
            "557056/550378 [==============================] - 0s 1us/step\n"
          ],
          "name": "stdout"
        }
      ]
    },
    {
      "cell_type": "code",
      "metadata": {
        "id": "ri7ajVFyC1y3",
        "colab_type": "code",
        "outputId": "4b747cc0-8d2d-474e-a976-b4a2bb126b3f",
        "colab": {
          "base_uri": "https://localhost:8080/",
          "height": 55
        }
      },
      "source": [
        "decoded_newswire"
      ],
      "execution_count": 59,
      "outputs": [
        {
          "output_type": "execute_result",
          "data": {
            "text/plain": [
              "'? ? ? said as a result of its december acquisition of space co it expects earnings per share in 1987 of 1 15 to 1 30 dlrs per share up from 70 cts in 1986 the company said pretax net should rise to nine to 10 mln dlrs from six mln dlrs in 1986 and rental operation revenues to 19 to 22 mln dlrs from 12 5 mln dlrs it said cash flow per share this year should be 2 50 to three dlrs reuter 3'"
            ]
          },
          "metadata": {
            "tags": []
          },
          "execution_count": 8
        },
        {
          "output_type": "execute_result",
          "data": {
            "text/plain": [
              "'? ? ? said as a result of its december acquisition of space co it expects earnings per share in 1987 of 1 15 to 1 30 dlrs per share up from 70 cts in 1986 the company said pretax net should rise to nine to 10 mln dlrs from six mln dlrs in 1986 and rental operation revenues to 19 to 22 mln dlrs from 12 5 mln dlrs it said cash flow per share this year should be 2 50 to three dlrs reuter 3'"
            ]
          },
          "metadata": {
            "tags": []
          },
          "execution_count": 33
        },
        {
          "output_type": "execute_result",
          "data": {
            "text/plain": [
              "'? ? ? said as a result of its december acquisition of space co it expects earnings per share in 1987 of 1 15 to 1 30 dlrs per share up from 70 cts in 1986 the company said pretax net should rise to nine to 10 mln dlrs from six mln dlrs in 1986 and rental operation revenues to 19 to 22 mln dlrs from 12 5 mln dlrs it said cash flow per share this year should be 2 50 to three dlrs reuter 3'"
            ]
          },
          "metadata": {
            "tags": []
          },
          "execution_count": 59
        }
      ]
    },
    {
      "cell_type": "markdown",
      "metadata": {
        "id": "985YvldbC1y5",
        "colab_type": "text"
      },
      "source": [
        "The label associated with an example is an integer between 0 and 45: a topic index."
      ]
    },
    {
      "cell_type": "code",
      "metadata": {
        "id": "qhxzJCOvC1y6",
        "colab_type": "code",
        "outputId": "5515b3b6-2454-4ac3-ee2d-2e7bcae0631e",
        "colab": {
          "base_uri": "https://localhost:8080/",
          "height": 35
        }
      },
      "source": [
        "train_labels[10]"
      ],
      "execution_count": 60,
      "outputs": [
        {
          "output_type": "execute_result",
          "data": {
            "text/plain": [
              "3"
            ]
          },
          "metadata": {
            "tags": []
          },
          "execution_count": 9
        },
        {
          "output_type": "execute_result",
          "data": {
            "text/plain": [
              "3"
            ]
          },
          "metadata": {
            "tags": []
          },
          "execution_count": 34
        },
        {
          "output_type": "execute_result",
          "data": {
            "text/plain": [
              "3"
            ]
          },
          "metadata": {
            "tags": []
          },
          "execution_count": 60
        }
      ]
    },
    {
      "cell_type": "markdown",
      "metadata": {
        "id": "fZFFsloNC1y8",
        "colab_type": "text"
      },
      "source": [
        "## Preparing the data\n",
        "\n",
        "Creating a sparse input matrix by marking the words present as 1. this will be input to our Dense neural network. We will limit maximum dimesions to 10000 as we have loaded only 10000 maximum frequncy words from the datasets. We donot create any embedding layer and encode words here."
      ]
    },
    {
      "cell_type": "code",
      "metadata": {
        "id": "rtiytyzfC1y-",
        "colab_type": "code",
        "colab": {}
      },
      "source": [
        "import numpy as np\n",
        "\n",
        "def vectorize_sequences(sequences, dimension=10000):\n",
        "    results = np.zeros((len(sequences), dimension))\n",
        "    for i, sequence in enumerate(sequences):\n",
        "        results[i, sequence] = 1.\n",
        "    return results\n",
        "\n",
        "# Our vectorized training data\n",
        "x_train = vectorize_sequences(train_data)\n",
        "# Our vectorized test data\n",
        "x_test = vectorize_sequences(test_data)"
      ],
      "execution_count": 0,
      "outputs": []
    },
    {
      "cell_type": "markdown",
      "metadata": {
        "id": "hnubt-TTC1zB",
        "colab_type": "text"
      },
      "source": [
        "\n",
        "To vectorize the labels, there are two possibilities: we could just cast the label list as an integer tensor, or we could use a \"one-hot\" \n",
        "encoding. One-hot encoding is a widely used format for categorical data, also called \"categorical encoding\". \n",
        "\n",
        "In our case, one-hot encoding of our labels consists in embedding each label as an all-zero vector with a 1 in the place of the label index, e.g.:"
      ]
    },
    {
      "cell_type": "code",
      "metadata": {
        "id": "JeFX4j-WC1zB",
        "colab_type": "code",
        "colab": {}
      },
      "source": [
        "def to_one_hot(labels, dimension=46):\n",
        "    results = np.zeros((len(labels), dimension))\n",
        "    for i, label in enumerate(labels):\n",
        "        results[i, label] = 1.\n",
        "    return results\n",
        "\n",
        "# Our vectorized training labels\n",
        "one_hot_train_labels = to_one_hot(train_labels)\n",
        "# Our vectorized test labels\n",
        "one_hot_test_labels = to_one_hot(test_labels)"
      ],
      "execution_count": 0,
      "outputs": []
    },
    {
      "cell_type": "markdown",
      "metadata": {
        "id": "jx6DRYPdC1zF",
        "colab_type": "text"
      },
      "source": [
        ""
      ]
    },
    {
      "cell_type": "code",
      "metadata": {
        "id": "03otOvuRC1zG",
        "colab_type": "code",
        "colab": {}
      },
      "source": [
        "from keras.utils.np_utils import to_categorical\n",
        "\n",
        "one_hot_train_labels = to_categorical(train_labels)\n",
        "one_hot_test_labels = to_categorical(test_labels)"
      ],
      "execution_count": 0,
      "outputs": []
    },
    {
      "cell_type": "markdown",
      "metadata": {
        "id": "dss15sm_C1zI",
        "colab_type": "text"
      },
      "source": [
        "## Building our network\n",
        "# Two dense hidden layers with 512 units and relu function: we start with a two layer network with 512 units and relu actiavtion function. Since, we require probablities of classes at results we use softmax. Optimizer used is RMS prop and metrics for evaluating model is accuracy and categorical loss."
      ]
    },
    {
      "cell_type": "code",
      "metadata": {
        "id": "YiDOUmz7C1zJ",
        "colab_type": "code",
        "outputId": "b94e333d-9a50-4fca-e356-3d96eccd685c",
        "colab": {
          "base_uri": "https://localhost:8080/",
          "height": 144
        }
      },
      "source": [
        "from keras import models\n",
        "from keras import layers\n",
        "\n",
        "model = models.Sequential()\n",
        "model.add(layers.Dense(512, activation='relu', input_shape=(10000,)))\n",
        "model.add(layers.Dense(512, activation='relu'))\n",
        "model.add(layers.Dense(46, activation='softmax'))"
      ],
      "execution_count": 64,
      "outputs": [
        {
          "output_type": "stream",
          "text": [
            "WARNING:tensorflow:From /usr/local/lib/python3.6/dist-packages/keras/backend/tensorflow_backend.py:66: The name tf.get_default_graph is deprecated. Please use tf.compat.v1.get_default_graph instead.\n",
            "\n",
            "WARNING:tensorflow:From /usr/local/lib/python3.6/dist-packages/keras/backend/tensorflow_backend.py:541: The name tf.placeholder is deprecated. Please use tf.compat.v1.placeholder instead.\n",
            "\n",
            "WARNING:tensorflow:From /usr/local/lib/python3.6/dist-packages/keras/backend/tensorflow_backend.py:4432: The name tf.random_uniform is deprecated. Please use tf.random.uniform instead.\n",
            "\n"
          ],
          "name": "stdout"
        }
      ]
    },
    {
      "cell_type": "code",
      "metadata": {
        "id": "TPAya8oBC1zO",
        "colab_type": "code",
        "outputId": "687876ae-bac3-4701-e0f2-6924ebea3d2f",
        "colab": {
          "base_uri": "https://localhost:8080/",
          "height": 108
        }
      },
      "source": [
        "model.compile(optimizer='rmsprop',\n",
        "              loss='categorical_crossentropy',\n",
        "              metrics=['accuracy'])"
      ],
      "execution_count": 65,
      "outputs": [
        {
          "output_type": "stream",
          "text": [
            "WARNING:tensorflow:From /usr/local/lib/python3.6/dist-packages/keras/optimizers.py:793: The name tf.train.Optimizer is deprecated. Please use tf.compat.v1.train.Optimizer instead.\n",
            "\n",
            "WARNING:tensorflow:From /usr/local/lib/python3.6/dist-packages/keras/backend/tensorflow_backend.py:3576: The name tf.log is deprecated. Please use tf.math.log instead.\n",
            "\n"
          ],
          "name": "stdout"
        }
      ]
    },
    {
      "cell_type": "markdown",
      "metadata": {
        "id": "AxJplk1bC1zQ",
        "colab_type": "text"
      },
      "source": [
        "## Validating our approach\n",
        "\n",
        "Let's set apart 1,000 samples in our training data to use as a validation set:"
      ]
    },
    {
      "cell_type": "code",
      "metadata": {
        "id": "0116d7pRC1zR",
        "colab_type": "code",
        "colab": {}
      },
      "source": [
        "x_val = x_train[:1000]\n",
        "partial_x_train = x_train[1000:]\n",
        "\n",
        "y_val = one_hot_train_labels[:1000]\n",
        "partial_y_train = one_hot_train_labels[1000:]"
      ],
      "execution_count": 0,
      "outputs": []
    },
    {
      "cell_type": "markdown",
      "metadata": {
        "id": "qMNou4zzC1zS",
        "colab_type": "text"
      },
      "source": [
        "Now let's train our network for 20 epochs:"
      ]
    },
    {
      "cell_type": "code",
      "metadata": {
        "id": "E7JtaBEqC1zT",
        "colab_type": "code",
        "outputId": "a1041d24-e78e-46be-cb7c-0736dbeeea6f",
        "colab": {
          "base_uri": "https://localhost:8080/",
          "height": 1000
        }
      },
      "source": [
        "history = model.fit(partial_x_train,\n",
        "                    partial_y_train,\n",
        "                    epochs=20,\n",
        "                    batch_size=512,\n",
        "                    validation_data=(x_val, y_val))"
      ],
      "execution_count": 67,
      "outputs": [
        {
          "output_type": "stream",
          "text": [
            "WARNING:tensorflow:From /usr/local/lib/python3.6/dist-packages/tensorflow_core/python/ops/math_grad.py:1424: where (from tensorflow.python.ops.array_ops) is deprecated and will be removed in a future version.\n",
            "Instructions for updating:\n",
            "Use tf.where in 2.0, which has the same broadcast rule as np.where\n",
            "WARNING:tensorflow:From /usr/local/lib/python3.6/dist-packages/keras/backend/tensorflow_backend.py:1033: The name tf.assign_add is deprecated. Please use tf.compat.v1.assign_add instead.\n",
            "\n",
            "WARNING:tensorflow:From /usr/local/lib/python3.6/dist-packages/keras/backend/tensorflow_backend.py:1020: The name tf.assign is deprecated. Please use tf.compat.v1.assign instead.\n",
            "\n",
            "WARNING:tensorflow:From /usr/local/lib/python3.6/dist-packages/keras/backend/tensorflow_backend.py:3005: The name tf.Session is deprecated. Please use tf.compat.v1.Session instead.\n",
            "\n",
            "Train on 7982 samples, validate on 1000 samples\n",
            "Epoch 1/20\n",
            "WARNING:tensorflow:From /usr/local/lib/python3.6/dist-packages/keras/backend/tensorflow_backend.py:190: The name tf.get_default_session is deprecated. Please use tf.compat.v1.get_default_session instead.\n",
            "\n",
            "WARNING:tensorflow:From /usr/local/lib/python3.6/dist-packages/keras/backend/tensorflow_backend.py:197: The name tf.ConfigProto is deprecated. Please use tf.compat.v1.ConfigProto instead.\n",
            "\n",
            "WARNING:tensorflow:From /usr/local/lib/python3.6/dist-packages/keras/backend/tensorflow_backend.py:207: The name tf.global_variables is deprecated. Please use tf.compat.v1.global_variables instead.\n",
            "\n",
            "WARNING:tensorflow:From /usr/local/lib/python3.6/dist-packages/keras/backend/tensorflow_backend.py:216: The name tf.is_variable_initialized is deprecated. Please use tf.compat.v1.is_variable_initialized instead.\n",
            "\n",
            "WARNING:tensorflow:From /usr/local/lib/python3.6/dist-packages/keras/backend/tensorflow_backend.py:223: The name tf.variables_initializer is deprecated. Please use tf.compat.v1.variables_initializer instead.\n",
            "\n",
            "7982/7982 [==============================] - 6s 712us/step - loss: 1.8538 - acc: 0.5744 - val_loss: 1.2221 - val_acc: 0.6980\n",
            "Epoch 2/20\n",
            "7982/7982 [==============================] - 5s 602us/step - loss: 0.8820 - acc: 0.7964 - val_loss: 0.9078 - val_acc: 0.8010\n",
            "Epoch 3/20\n",
            "7982/7982 [==============================] - 5s 610us/step - loss: 0.5093 - acc: 0.8847 - val_loss: 0.9001 - val_acc: 0.8090\n",
            "Epoch 4/20\n",
            "7982/7982 [==============================] - 5s 614us/step - loss: 0.2962 - acc: 0.9320 - val_loss: 0.9052 - val_acc: 0.8060\n",
            "Epoch 5/20\n",
            "7982/7982 [==============================] - 5s 596us/step - loss: 0.2316 - acc: 0.9410 - val_loss: 0.8436 - val_acc: 0.8260\n",
            "Epoch 6/20\n",
            "7982/7982 [==============================] - 5s 611us/step - loss: 0.1730 - acc: 0.9520 - val_loss: 0.9068 - val_acc: 0.8150\n",
            "Epoch 7/20\n",
            "7982/7982 [==============================] - 5s 593us/step - loss: 0.1601 - acc: 0.9531 - val_loss: 0.8857 - val_acc: 0.8280\n",
            "Epoch 8/20\n",
            "7982/7982 [==============================] - 5s 610us/step - loss: 0.1327 - acc: 0.9559 - val_loss: 0.9861 - val_acc: 0.8090\n",
            "Epoch 9/20\n",
            "7982/7982 [==============================] - 5s 609us/step - loss: 0.1259 - acc: 0.9563 - val_loss: 0.9985 - val_acc: 0.8010\n",
            "Epoch 10/20\n",
            "7982/7982 [==============================] - 5s 611us/step - loss: 0.1228 - acc: 0.9567 - val_loss: 1.0097 - val_acc: 0.7990\n",
            "Epoch 11/20\n",
            "7982/7982 [==============================] - 5s 606us/step - loss: 0.1120 - acc: 0.9578 - val_loss: 0.9650 - val_acc: 0.8160\n",
            "Epoch 12/20\n",
            "7982/7982 [==============================] - 5s 601us/step - loss: 0.1029 - acc: 0.9558 - val_loss: 1.1584 - val_acc: 0.7710\n",
            "Epoch 13/20\n",
            "7982/7982 [==============================] - 5s 599us/step - loss: 0.1024 - acc: 0.9572 - val_loss: 1.0353 - val_acc: 0.8010\n",
            "Epoch 14/20\n",
            "7982/7982 [==============================] - 5s 599us/step - loss: 0.0902 - acc: 0.9569 - val_loss: 1.0773 - val_acc: 0.8040\n",
            "Epoch 15/20\n",
            "7982/7982 [==============================] - 5s 596us/step - loss: 0.0935 - acc: 0.9549 - val_loss: 1.0873 - val_acc: 0.8020\n",
            "Epoch 16/20\n",
            "7982/7982 [==============================] - 5s 603us/step - loss: 0.0856 - acc: 0.9583 - val_loss: 1.1166 - val_acc: 0.8120\n",
            "Epoch 17/20\n",
            "7982/7982 [==============================] - 5s 576us/step - loss: 0.0840 - acc: 0.9567 - val_loss: 1.2457 - val_acc: 0.8030\n",
            "Epoch 18/20\n",
            "7982/7982 [==============================] - 4s 541us/step - loss: 0.0795 - acc: 0.9584 - val_loss: 1.2005 - val_acc: 0.8010\n",
            "Epoch 19/20\n",
            "7982/7982 [==============================] - 4s 554us/step - loss: 0.0775 - acc: 0.9575 - val_loss: 1.3351 - val_acc: 0.8020\n",
            "Epoch 20/20\n",
            "7982/7982 [==============================] - 5s 594us/step - loss: 0.0751 - acc: 0.9567 - val_loss: 1.2702 - val_acc: 0.8140\n",
            "Train on 7982 samples, validate on 1000 samples\n",
            "Epoch 1/20\n",
            "7982/7982 [==============================] - 5s 672us/step - loss: 1.8676 - acc: 0.5692 - val_loss: 1.2439 - val_acc: 0.7120\n",
            "Epoch 2/20\n",
            "7982/7982 [==============================] - 5s 573us/step - loss: 0.8628 - acc: 0.8046 - val_loss: 0.9875 - val_acc: 0.7770\n",
            "Epoch 3/20\n",
            "7982/7982 [==============================] - 5s 565us/step - loss: 0.4961 - acc: 0.8885 - val_loss: 0.8237 - val_acc: 0.8180\n",
            "Epoch 4/20\n",
            "7982/7982 [==============================] - 5s 586us/step - loss: 0.2927 - acc: 0.9328 - val_loss: 0.8607 - val_acc: 0.8170\n",
            "Epoch 5/20\n",
            "7982/7982 [==============================] - 5s 567us/step - loss: 0.2285 - acc: 0.9430 - val_loss: 0.9075 - val_acc: 0.8070\n",
            "Epoch 6/20\n",
            "7982/7982 [==============================] - 5s 581us/step - loss: 0.1622 - acc: 0.9540 - val_loss: 0.9408 - val_acc: 0.8070\n",
            "Epoch 7/20\n",
            "7982/7982 [==============================] - 5s 584us/step - loss: 0.1557 - acc: 0.9546 - val_loss: 0.9409 - val_acc: 0.7900\n",
            "Epoch 8/20\n",
            "7982/7982 [==============================] - 5s 583us/step - loss: 0.1371 - acc: 0.9564 - val_loss: 1.1842 - val_acc: 0.7600\n",
            "Epoch 9/20\n",
            "7982/7982 [==============================] - 5s 570us/step - loss: 0.1340 - acc: 0.9526 - val_loss: 1.0906 - val_acc: 0.7950\n",
            "Epoch 10/20\n",
            "7982/7982 [==============================] - 4s 542us/step - loss: 0.1165 - acc: 0.9558 - val_loss: 1.1189 - val_acc: 0.7810\n",
            "Epoch 11/20\n",
            "7982/7982 [==============================] - 5s 570us/step - loss: 0.1137 - acc: 0.9557 - val_loss: 1.0441 - val_acc: 0.7980\n",
            "Epoch 12/20\n",
            "7982/7982 [==============================] - 4s 562us/step - loss: 0.1048 - acc: 0.9573 - val_loss: 1.0514 - val_acc: 0.8020\n",
            "Epoch 13/20\n",
            "7982/7982 [==============================] - 4s 539us/step - loss: 0.0962 - acc: 0.9565 - val_loss: 1.0688 - val_acc: 0.7950\n",
            "Epoch 14/20\n",
            "7982/7982 [==============================] - 5s 574us/step - loss: 0.0975 - acc: 0.9573 - val_loss: 1.1412 - val_acc: 0.8040\n",
            "Epoch 15/20\n",
            "7982/7982 [==============================] - 5s 574us/step - loss: 0.0897 - acc: 0.9564 - val_loss: 1.2585 - val_acc: 0.7890\n",
            "Epoch 16/20\n",
            "7982/7982 [==============================] - 5s 593us/step - loss: 0.0961 - acc: 0.9553 - val_loss: 1.0928 - val_acc: 0.8130\n",
            "Epoch 17/20\n",
            "7982/7982 [==============================] - 5s 592us/step - loss: 0.0773 - acc: 0.9590 - val_loss: 1.2404 - val_acc: 0.8040\n",
            "Epoch 18/20\n",
            "7982/7982 [==============================] - 5s 574us/step - loss: 0.0784 - acc: 0.9559 - val_loss: 1.2052 - val_acc: 0.8020\n",
            "Epoch 19/20\n",
            "7982/7982 [==============================] - 5s 570us/step - loss: 0.0762 - acc: 0.9573 - val_loss: 1.3042 - val_acc: 0.7970\n",
            "Epoch 20/20\n",
            "7982/7982 [==============================] - 5s 575us/step - loss: 0.0751 - acc: 0.9574 - val_loss: 1.3246 - val_acc: 0.7990\n",
            "Train on 7982 samples, validate on 1000 samples\n",
            "Epoch 1/20\n",
            "7982/7982 [==============================] - 5s 614us/step - loss: 1.8551 - acc: 0.5828 - val_loss: 1.2124 - val_acc: 0.7280\n",
            "Epoch 2/20\n",
            "7982/7982 [==============================] - 5s 568us/step - loss: 0.8577 - acc: 0.8057 - val_loss: 0.9223 - val_acc: 0.7980\n",
            "Epoch 3/20\n",
            "7982/7982 [==============================] - 5s 572us/step - loss: 0.4941 - acc: 0.8905 - val_loss: 0.8294 - val_acc: 0.8160\n",
            "Epoch 4/20\n",
            "7982/7982 [==============================] - 4s 546us/step - loss: 0.3080 - acc: 0.9268 - val_loss: 1.2489 - val_acc: 0.7470\n",
            "Epoch 5/20\n",
            "7982/7982 [==============================] - 5s 580us/step - loss: 0.2386 - acc: 0.9426 - val_loss: 0.8312 - val_acc: 0.8220\n",
            "Epoch 6/20\n",
            "7982/7982 [==============================] - 4s 561us/step - loss: 0.1757 - acc: 0.9489 - val_loss: 0.9714 - val_acc: 0.8090\n",
            "Epoch 7/20\n",
            "7982/7982 [==============================] - 5s 592us/step - loss: 0.1578 - acc: 0.9549 - val_loss: 0.8595 - val_acc: 0.8210\n",
            "Epoch 8/20\n",
            "7982/7982 [==============================] - 5s 575us/step - loss: 0.1376 - acc: 0.9543 - val_loss: 0.9175 - val_acc: 0.8160\n",
            "Epoch 9/20\n",
            "7982/7982 [==============================] - 5s 595us/step - loss: 0.1352 - acc: 0.9545 - val_loss: 0.9638 - val_acc: 0.8010\n",
            "Epoch 10/20\n",
            "7982/7982 [==============================] - 5s 579us/step - loss: 0.1157 - acc: 0.9524 - val_loss: 1.1912 - val_acc: 0.7650\n",
            "Epoch 11/20\n",
            "7982/7982 [==============================] - 4s 563us/step - loss: 0.1127 - acc: 0.9567 - val_loss: 0.9860 - val_acc: 0.8160\n",
            "Epoch 12/20\n",
            "7982/7982 [==============================] - 5s 566us/step - loss: 0.1090 - acc: 0.9550 - val_loss: 1.0693 - val_acc: 0.7950\n",
            "Epoch 13/20\n",
            "7982/7982 [==============================] - 4s 552us/step - loss: 0.0991 - acc: 0.9584 - val_loss: 1.0848 - val_acc: 0.8090\n",
            "Epoch 14/20\n",
            "7982/7982 [==============================] - 4s 539us/step - loss: 0.0965 - acc: 0.9573 - val_loss: 1.2214 - val_acc: 0.7860\n",
            "Epoch 15/20\n",
            "7982/7982 [==============================] - 4s 535us/step - loss: 0.0924 - acc: 0.9555 - val_loss: 1.1101 - val_acc: 0.8090\n",
            "Epoch 16/20\n",
            "7982/7982 [==============================] - 4s 538us/step - loss: 0.0878 - acc: 0.9578 - val_loss: 1.1684 - val_acc: 0.8080\n",
            "Epoch 17/20\n",
            "7982/7982 [==============================] - 4s 547us/step - loss: 0.0824 - acc: 0.9570 - val_loss: 1.2262 - val_acc: 0.8070\n",
            "Epoch 18/20\n",
            "7982/7982 [==============================] - 5s 584us/step - loss: 0.0813 - acc: 0.9563 - val_loss: 1.2539 - val_acc: 0.8000\n",
            "Epoch 19/20\n",
            "7982/7982 [==============================] - 5s 577us/step - loss: 0.0766 - acc: 0.9580 - val_loss: 1.2564 - val_acc: 0.8100\n",
            "Epoch 20/20\n",
            "7982/7982 [==============================] - 4s 543us/step - loss: 0.0762 - acc: 0.9583 - val_loss: 1.2352 - val_acc: 0.8100\n"
          ],
          "name": "stdout"
        }
      ]
    },
    {
      "cell_type": "markdown",
      "metadata": {
        "id": "9up7GdeaC1zV",
        "colab_type": "text"
      },
      "source": [
        "Let's display its loss and accuracy curves:"
      ]
    },
    {
      "cell_type": "code",
      "metadata": {
        "id": "4BiYHjcBC1zW",
        "colab_type": "code",
        "outputId": "bfd51c8b-b5b5-4201-fff3-1cf849345a9f",
        "colab": {
          "base_uri": "https://localhost:8080/",
          "height": 851
        }
      },
      "source": [
        "import matplotlib.pyplot as plt\n",
        "\n",
        "loss = history.history['loss']\n",
        "val_loss = history.history['val_loss']\n",
        "\n",
        "epochs = range(1, len(loss) + 1)\n",
        "\n",
        "plt.plot(epochs, loss, 'bo', label='Training loss')\n",
        "plt.plot(epochs, val_loss, 'b', label='Validation loss')\n",
        "plt.title('Training and validation loss')\n",
        "plt.xlabel('Epochs')\n",
        "plt.ylabel('Loss')\n",
        "plt.legend()\n",
        "\n",
        "plt.show()"
      ],
      "execution_count": 68,
      "outputs": [
        {
          "output_type": "display_data",
          "data": {
            "image/png": "[encoded data removed]",
            "text/plain": [
              "<Figure size 432x288 with 1 Axes>"
            ]
          },
          "metadata": {
            "tags": []
          }
        },
        {
          "output_type": "display_data",
          "data": {
            "image/png": "[encoded data removed]",
            "text/plain": [
              "<Figure size 432x288 with 1 Axes>"
            ]
          },
          "metadata": {
            "tags": []
          }
        },
        {
          "output_type": "display_data",
          "data": {
            "image/png": "[encoded data removed]",
            "text/plain": [
              "<Figure size 432x288 with 1 Axes>"
            ]
          },
          "metadata": {
            "tags": []
          }
        }
      ]
    },
    {
      "cell_type": "code",
      "metadata": {
        "id": "hLccXiPQC1zZ",
        "colab_type": "code",
        "outputId": "1f75acda-0af2-4c9a-a292-7cd99136886a",
        "colab": {
          "base_uri": "https://localhost:8080/",
          "height": 295
        }
      },
      "source": [
        "plt.clf()   # clear figure\n",
        "\n",
        "acc = history.history['acc']\n",
        "val_acc = history.history['val_acc']\n",
        "\n",
        "plt.plot(epochs, acc, 'bo', label='Training acc')\n",
        "plt.plot(epochs, val_acc, 'b', label='Validation acc')\n",
        "plt.title('Training and validation accuracy')\n",
        "plt.xlabel('Epochs')\n",
        "plt.ylabel('Loss')\n",
        "plt.legend()\n",
        "\n",
        "plt.show()"
      ],
      "execution_count": 77,
      "outputs": [
        {
          "output_type": "display_data",
          "data": {
            "image/png": "[encoded data removed]",
            "text/plain": [
              "<Figure size 432x288 with 1 Axes>"
            ]
          },
          "metadata": {
            "tags": []
          }
        }
      ]
    },
    {
      "cell_type": "markdown",
      "metadata": {
        "id": "a3AlQEP-C1zh",
        "colab_type": "text"
      },
      "source": [
        "It seems that the network starts overfitting after 7 epochs. Let's train a new network from scratch for 7 epochs, then let's evaluate it on \n",
        "the test set:"
      ]
    },
    {
      "cell_type": "code",
      "metadata": {
        "id": "spK3-X1MC1zh",
        "colab_type": "code",
        "outputId": "8c3364b4-2e7e-4230-fe46-ad5c832eec2e",
        "colab": {
          "base_uri": "https://localhost:8080/",
          "height": 301
        }
      },
      "source": [
        "model = models.Sequential()\n",
        "model.add(layers.Dense(512, activation='relu', input_shape=(10000,)))\n",
        "model.add(layers.Dense(512, activation='relu'))\n",
        "model.add(layers.Dense(46, activation='softmax'))\n",
        "\n",
        "model.compile(optimizer='rmsprop',\n",
        "              loss='categorical_crossentropy',\n",
        "              metrics=['accuracy'])\n",
        "model.fit(partial_x_train,\n",
        "          partial_y_train,\n",
        "          epochs=7,\n",
        "          batch_size=512,\n",
        "          validation_data=(x_val, y_val))\n",
        "results = model.evaluate(x_test, one_hot_test_labels)"
      ],
      "execution_count": 78,
      "outputs": [
        {
          "output_type": "stream",
          "text": [
            "Train on 7982 samples, validate on 1000 samples\n",
            "Epoch 1/7\n",
            "7982/7982 [==============================] - 5s 629us/step - loss: 1.8315 - acc: 0.5866 - val_loss: 1.1668 - val_acc: 0.7420\n",
            "Epoch 2/7\n",
            "7982/7982 [==============================] - 4s 558us/step - loss: 0.8576 - acc: 0.8033 - val_loss: 0.9280 - val_acc: 0.8020\n",
            "Epoch 3/7\n",
            "7982/7982 [==============================] - 5s 568us/step - loss: 0.4947 - acc: 0.8857 - val_loss: 1.0393 - val_acc: 0.7690\n",
            "Epoch 4/7\n",
            "7982/7982 [==============================] - 4s 557us/step - loss: 0.3198 - acc: 0.9260 - val_loss: 1.0483 - val_acc: 0.7670\n",
            "Epoch 5/7\n",
            "7982/7982 [==============================] - 4s 557us/step - loss: 0.2107 - acc: 0.9474 - val_loss: 0.9403 - val_acc: 0.8080\n",
            "Epoch 6/7\n",
            "7982/7982 [==============================] - 5s 580us/step - loss: 0.1714 - acc: 0.9529 - val_loss: 0.9968 - val_acc: 0.7990\n",
            "Epoch 7/7\n",
            "7982/7982 [==============================] - 5s 589us/step - loss: 0.1605 - acc: 0.9534 - val_loss: 0.8976 - val_acc: 0.8140\n",
            "2246/2246 [==============================] - 1s 443us/step\n"
          ],
          "name": "stdout"
        }
      ]
    },
    {
      "cell_type": "code",
      "metadata": {
        "id": "hqvpYYpHC1zk",
        "colab_type": "code",
        "outputId": "ad5ac678-a320-490a-fcdf-ce46a2827907",
        "colab": {
          "base_uri": "https://localhost:8080/",
          "height": 35
        }
      },
      "source": [
        "results"
      ],
      "execution_count": 87,
      "outputs": [
        {
          "output_type": "execute_result",
          "data": {
            "text/plain": [
              "[1.0212833917470034, 0.7983081032947462]"
            ]
          },
          "metadata": {
            "tags": []
          },
          "execution_count": 87
        }
      ]
    },
    {
      "cell_type": "markdown",
      "metadata": {
        "id": "jxpGG27eC1zl",
        "colab_type": "text"
      },
      "source": [
        "\n",
        "#### Conclusion: \n",
        "Our approach reaches an accuracy of ~79% which is one of the highest accuracies of all the approaches. It is also a sligt improvement over our baseline of 77%."
      ]
    }
  ]
}