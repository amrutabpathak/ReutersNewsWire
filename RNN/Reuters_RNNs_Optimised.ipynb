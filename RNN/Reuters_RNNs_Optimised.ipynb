{
  "nbformat": 4,
  "nbformat_minor": 0,
  "metadata": {
    "kernelspec": {
      "display_name": "Python 3",
      "language": "python",
      "name": "python3"
    },
    "language_info": {
      "codemirror_mode": {
        "name": "ipython",
        "version": 3
      },
      "file_extension": ".py",
      "mimetype": "text/x-python",
      "name": "python",
      "nbconvert_exporter": "python",
      "pygments_lexer": "ipython3",
      "version": "3.7.4"
    },
    "colab": {
      "name": "Reuters_RNNs_Optimised.ipynb",
      "provenance": [],
      "collapsed_sections": []
    }
  },
  "cells": [
    {
      "cell_type": "code",
      "metadata": {
        "id": "vWJpAkeswyu6",
        "colab_type": "code",
        "outputId": "1cd59259-5c0a-4791-be2c-e816c3758251",
        "colab": {
          "base_uri": "https://localhost:8080/",
          "height": 35
        }
      },
      "source": [
        "import keras\n",
        "keras.__version__"
      ],
      "execution_count": 0,
      "outputs": [
        {
          "output_type": "execute_result",
          "data": {
            "text/plain": [
              "'2.2.5'"
            ]
          },
          "metadata": {
            "tags": []
          },
          "execution_count": 21
        }
      ]
    },
    {
      "cell_type": "code",
      "metadata": {
        "id": "5uwR5XY0wyvJ",
        "colab_type": "code",
        "colab": {}
      },
      "source": [
        "from keras.layers import SimpleRNN\n",
        "from keras.models import Sequential\n",
        "from keras.layers import Embedding\n",
        "from keras.layers import Dense\n",
        "from keras.datasets import reuters\n",
        "from keras.preprocessing import sequence\n",
        "\n"
      ],
      "execution_count": 0,
      "outputs": []
    },
    {
      "cell_type": "code",
      "metadata": {
        "id": "iVN9SFfIwyvX",
        "colab_type": "code",
        "colab": {}
      },
      "source": [
        "(train_data, train_labels), (test_data, test_labels) = reuters.load_data(num_words=10000)"
      ],
      "execution_count": 0,
      "outputs": []
    },
    {
      "cell_type": "code",
      "metadata": {
        "id": "9RDH9Eb4wyvg",
        "colab_type": "code",
        "outputId": "1a3fee33-16fe-42db-d452-50dbec27a95f",
        "colab": {
          "base_uri": "https://localhost:8080/",
          "height": 35
        }
      },
      "source": [
        "len(train_data)"
      ],
      "execution_count": 0,
      "outputs": [
        {
          "output_type": "execute_result",
          "data": {
            "text/plain": [
              "8982"
            ]
          },
          "metadata": {
            "tags": []
          },
          "execution_count": 24
        }
      ]
    },
    {
      "cell_type": "code",
      "metadata": {
        "id": "RuIzMRBUwyvm",
        "colab_type": "code",
        "outputId": "e9b4bcd1-b33e-47b4-ad94-8c078bffd2ca",
        "colab": {
          "base_uri": "https://localhost:8080/",
          "height": 35
        }
      },
      "source": [
        "len(test_data)"
      ],
      "execution_count": 0,
      "outputs": [
        {
          "output_type": "execute_result",
          "data": {
            "text/plain": [
              "2246"
            ]
          },
          "metadata": {
            "tags": []
          },
          "execution_count": 25
        }
      ]
    },
    {
      "cell_type": "code",
      "metadata": {
        "id": "NTkaZRWqwyvs",
        "colab_type": "code",
        "outputId": "cf1662fb-b5f1-4c77-ea3e-4710482b9646",
        "colab": {
          "base_uri": "https://localhost:8080/",
          "height": 555
        }
      },
      "source": [
        "train_data[10]"
      ],
      "execution_count": 0,
      "outputs": [
        {
          "output_type": "execute_result",
          "data": {
            "text/plain": [
              "[1,\n",
              " 245,\n",
              " 273,\n",
              " 207,\n",
              " 156,\n",
              " 53,\n",
              " 74,\n",
              " 160,\n",
              " 26,\n",
              " 14,\n",
              " 46,\n",
              " 296,\n",
              " 26,\n",
              " 39,\n",
              " 74,\n",
              " 2979,\n",
              " 3554,\n",
              " 14,\n",
              " 46,\n",
              " 4689,\n",
              " 4329,\n",
              " 86,\n",
              " 61,\n",
              " 3499,\n",
              " 4795,\n",
              " 14,\n",
              " 61,\n",
              " 451,\n",
              " 4329,\n",
              " 17,\n",
              " 12]"
            ]
          },
          "metadata": {
            "tags": []
          },
          "execution_count": 26
        }
      ]
    },
    {
      "cell_type": "code",
      "metadata": {
        "id": "9v4W_hbnwyvw",
        "colab_type": "code",
        "colab": {}
      },
      "source": [
        "word_index = reuters.get_word_index()\n",
        "reverse_word_index = dict([(value, key) for (key, value) in word_index.items()])\n",
        "# Note that our indices were offset by 3\n",
        "# because 0, 1 and 2 are reserved indices for \"padding\", \"start of sequence\", and \"unknown\".\n",
        "decoded_newswire = ' '.join([reverse_word_index.get(i - 3, '?') for i in train_data[0]])"
      ],
      "execution_count": 0,
      "outputs": []
    },
    {
      "cell_type": "code",
      "metadata": {
        "id": "rW9QYm4Pwyvy",
        "colab_type": "code",
        "outputId": "ffc4545c-cc56-435a-d2d6-8a6cab93489d",
        "colab": {
          "base_uri": "https://localhost:8080/",
          "height": 55
        }
      },
      "source": [
        "decoded_newswire"
      ],
      "execution_count": 0,
      "outputs": [
        {
          "output_type": "execute_result",
          "data": {
            "text/plain": [
              "'? ? ? said as a result of its december acquisition of space co it expects earnings per share in 1987 of 1 15 to 1 30 dlrs per share up from 70 cts in 1986 the company said pretax net should rise to nine to 10 mln dlrs from six mln dlrs in 1986 and rental operation revenues to 19 to 22 mln dlrs from 12 5 mln dlrs it said cash flow per share this year should be 2 50 to three dlrs reuter 3'"
            ]
          },
          "metadata": {
            "tags": []
          },
          "execution_count": 28
        }
      ]
    },
    {
      "cell_type": "code",
      "metadata": {
        "id": "jMg9FBqXwyv1",
        "colab_type": "code",
        "outputId": "0c37e840-b7eb-441a-c221-9946f969ba3e",
        "colab": {
          "base_uri": "https://localhost:8080/",
          "height": 35
        }
      },
      "source": [
        "train_labels[10]"
      ],
      "execution_count": 0,
      "outputs": [
        {
          "output_type": "execute_result",
          "data": {
            "text/plain": [
              "3"
            ]
          },
          "metadata": {
            "tags": []
          },
          "execution_count": 29
        }
      ]
    },
    {
      "cell_type": "markdown",
      "metadata": {
        "id": "KFFEhgNMwyv3",
        "colab_type": "text"
      },
      "source": [
        "## Preparing the data"
      ]
    },
    {
      "cell_type": "code",
      "metadata": {
        "id": "fCItXrqbwyv4",
        "colab_type": "code",
        "colab": {}
      },
      "source": [
        "word_length = 700"
      ],
      "execution_count": 0,
      "outputs": []
    },
    {
      "cell_type": "code",
      "metadata": {
        "id": "xu4cB2f5wyv6",
        "colab_type": "code",
        "colab": {}
      },
      "source": [
        "train_data = sequence.pad_sequences(train_data, maxlen=word_length)\n",
        "test_data = sequence.pad_sequences(test_data, maxlen=word_length)\n",
        "\n"
      ],
      "execution_count": 0,
      "outputs": []
    },
    {
      "cell_type": "code",
      "metadata": {
        "id": "8bc5tqlP9CN6",
        "colab_type": "code",
        "colab": {}
      },
      "source": [
        "from keras.utils import np_utils\n",
        "\n",
        "train_labels = np_utils.to_categorical(train_labels, 46)\n",
        "test_labels = np_utils.to_categorical(test_labels, 46)"
      ],
      "execution_count": 0,
      "outputs": []
    },
    {
      "cell_type": "markdown",
      "metadata": {
        "id": "BtGKjoKAwyv8",
        "colab_type": "text"
      },
      "source": [
        "## Building our network\n"
      ]
    },
    {
      "cell_type": "markdown",
      "metadata": {
        "id": "fNPdKpODwywD",
        "colab_type": "text"
      },
      "source": [
        "## Using LSTM "
      ]
    },
    {
      "cell_type": "code",
      "metadata": {
        "id": "rJc0LItcwywE",
        "colab_type": "code",
        "outputId": "3cac9e9d-46af-416d-fc47-3a9626f0c7d5",
        "colab": {
          "base_uri": "https://localhost:8080/",
          "height": 381
        }
      },
      "source": [
        "from keras.models import Sequential\n",
        "from keras import layers\n",
        "from keras.optimizers import RMSprop\n",
        "\n",
        "model = Sequential()\n",
        "model.add(Embedding(10000, 64))\n",
        "model.add(layers.LSTM(32, input_shape=(10000,)))\n",
        "model.add(layers.Dense(46,activation='softmax'))\n",
        "\n",
        "model.compile(optimizer='rmsprop', loss='categorical_crossentropy', metrics=['accuracy'])\n",
        "history = model.fit(train_data, train_labels,\n",
        "                    epochs=10,\n",
        "                    batch_size=128,\n",
        "                    validation_split=0.3)"
      ],
      "execution_count": 0,
      "outputs": [
        {
          "output_type": "stream",
          "text": [
            "Train on 6287 samples, validate on 2695 samples\n",
            "Epoch 1/10\n",
            "6287/6287 [==============================] - 41s 7ms/step - loss: 2.7994 - acc: 0.3595 - val_loss: 2.3746 - val_acc: 0.3532\n",
            "Epoch 2/10\n",
            "6287/6287 [==============================] - 38s 6ms/step - loss: 2.2075 - acc: 0.3924 - val_loss: 2.0200 - val_acc: 0.3907\n",
            "Epoch 3/10\n",
            "6287/6287 [==============================] - 40s 6ms/step - loss: 1.9337 - acc: 0.4629 - val_loss: 1.8305 - val_acc: 0.4857\n",
            "Epoch 4/10\n",
            "6287/6287 [==============================] - 39s 6ms/step - loss: 1.8199 - acc: 0.5007 - val_loss: 1.7527 - val_acc: 0.5462\n",
            "Epoch 5/10\n",
            "6287/6287 [==============================] - 40s 6ms/step - loss: 1.6912 - acc: 0.5538 - val_loss: 1.6709 - val_acc: 0.5659\n",
            "Epoch 6/10\n",
            "6287/6287 [==============================] - 40s 6ms/step - loss: 1.6320 - acc: 0.5551 - val_loss: 1.6440 - val_acc: 0.5455\n",
            "Epoch 7/10\n",
            "6287/6287 [==============================] - 39s 6ms/step - loss: 1.5874 - acc: 0.5721 - val_loss: 1.6343 - val_acc: 0.5863\n",
            "Epoch 8/10\n",
            "6287/6287 [==============================] - 40s 6ms/step - loss: 1.5359 - acc: 0.5852 - val_loss: 1.5882 - val_acc: 0.5918\n",
            "Epoch 9/10\n",
            "6287/6287 [==============================] - 39s 6ms/step - loss: 1.4647 - acc: 0.6132 - val_loss: 1.5984 - val_acc: 0.5892\n",
            "Epoch 10/10\n",
            "6287/6287 [==============================] - 39s 6ms/step - loss: 1.4144 - acc: 0.6254 - val_loss: 1.5824 - val_acc: 0.6082\n"
          ],
          "name": "stdout"
        }
      ]
    },
    {
      "cell_type": "code",
      "metadata": {
        "id": "CbJTxUYgwywG",
        "colab_type": "code",
        "outputId": "d53222a6-9fb1-4b35-dc6f-a4e0a22f129f",
        "colab": {
          "base_uri": "https://localhost:8080/",
          "height": 260
        }
      },
      "source": [
        "model.summary()"
      ],
      "execution_count": 0,
      "outputs": [
        {
          "output_type": "stream",
          "text": [
            "Model: \"sequential_5\"\n",
            "_________________________________________________________________\n",
            "Layer (type)                 Output Shape              Param #   \n",
            "=================================================================\n",
            "embedding_5 (Embedding)      (None, None, 64)          640000    \n",
            "_________________________________________________________________\n",
            "lstm_6 (LSTM)                (None, 32)                12416     \n",
            "_________________________________________________________________\n",
            "dense_4 (Dense)              (None, 46)                1518      \n",
            "=================================================================\n",
            "Total params: 653,934\n",
            "Trainable params: 653,934\n",
            "Non-trainable params: 0\n",
            "_________________________________________________________________\n"
          ],
          "name": "stdout"
        }
      ]
    },
    {
      "cell_type": "code",
      "metadata": {
        "id": "l06kON4HwywI",
        "colab_type": "code",
        "outputId": "713765d5-62da-4d91-e2fa-7142c7a25743",
        "colab": {
          "base_uri": "https://localhost:8080/",
          "height": 545
        }
      },
      "source": [
        "import matplotlib.pyplot as plt\n",
        "\n",
        "acc = history.history['acc']\n",
        "val_acc = history.history['val_acc']\n",
        "loss = history.history['loss']\n",
        "val_loss = history.history['val_loss']\n",
        "\n",
        "epochs = range(len(acc))\n",
        "\n",
        "plt.plot(epochs, acc, 'bo', label='Training acc')\n",
        "plt.plot(epochs, val_acc, 'b', label='Validation acc')\n",
        "plt.title('Training and validation accuracy')\n",
        "plt.legend()\n",
        "\n",
        "plt.figure()\n",
        "\n",
        "plt.plot(epochs, loss, 'bo', label='Training loss')\n",
        "plt.plot(epochs, val_loss, 'b', label='Validation loss')\n",
        "plt.title('Training and validation loss')\n",
        "plt.legend()\n",
        "\n",
        "plt.show()"
      ],
      "execution_count": 0,
      "outputs": [
        {
          "output_type": "display_data",
          "data": {
            "image/png": "[encoded data removed]",
            "text/plain": [
              "<Figure size 432x288 with 1 Axes>"
            ]
          },
          "metadata": {
            "tags": []
          }
        },
        {
          "output_type": "display_data",
          "data": {
            "image/png": "[encoded data removed]",
            "text/plain": [
              "<Figure size 432x288 with 1 Axes>"
            ]
          },
          "metadata": {
            "tags": []
          }
        }
      ]
    },
    {
      "cell_type": "markdown",
      "metadata": {
        "id": "r_blI5xxENj3",
        "colab_type": "text"
      },
      "source": [
        "## Using Dropout for overfitting lstm?\n"
      ]
    },
    {
      "cell_type": "code",
      "metadata": {
        "id": "cIvPK8wBELQS",
        "colab_type": "code",
        "outputId": "a3361427-6c1c-4939-af81-7431d10b5778",
        "colab": {
          "base_uri": "https://localhost:8080/",
          "height": 381
        }
      },
      "source": [
        "from keras.models import Sequential\n",
        "from keras import layers\n",
        "from keras.optimizers import RMSprop\n",
        "\n",
        "dropout_model = Sequential()\n",
        "dropout_model.add(Embedding(10000, 64))\n",
        "dropout_model.add(layers.LSTM(32,dropout=0.2, recurrent_dropout=0.2))\n",
        "dropout_model.add(layers.Dense(46,activation='softmax'))\n",
        "\n",
        "dropout_model.compile(optimizer='rmsprop', loss='categorical_crossentropy', metrics=['accuracy'])\n",
        "history = dropout_model.fit(train_data, train_labels,\n",
        "                    epochs=10,\n",
        "                    batch_size=128,\n",
        "                    validation_split=0.3)"
      ],
      "execution_count": 0,
      "outputs": [
        {
          "output_type": "stream",
          "text": [
            "Train on 6287 samples, validate on 2695 samples\n",
            "Epoch 1/10\n",
            "6287/6287 [==============================] - 53s 8ms/step - loss: 2.8787 - acc: 0.3397 - val_loss: 2.4269 - val_acc: 0.3532\n",
            "Epoch 2/10\n",
            "6287/6287 [==============================] - 48s 8ms/step - loss: 2.3470 - acc: 0.3902 - val_loss: 2.1437 - val_acc: 0.4842\n",
            "Epoch 3/10\n",
            "6287/6287 [==============================] - 48s 8ms/step - loss: 2.1548 - acc: 0.4595 - val_loss: 2.0390 - val_acc: 0.4846\n",
            "Epoch 4/10\n",
            "6287/6287 [==============================] - 48s 8ms/step - loss: 2.0213 - acc: 0.4780 - val_loss: 1.9037 - val_acc: 0.4954\n",
            "Epoch 5/10\n",
            "6287/6287 [==============================] - 48s 8ms/step - loss: 1.8975 - acc: 0.4920 - val_loss: 1.8481 - val_acc: 0.4909\n",
            "Epoch 6/10\n",
            "6287/6287 [==============================] - 49s 8ms/step - loss: 1.8098 - acc: 0.5093 - val_loss: 1.7602 - val_acc: 0.5384\n",
            "Epoch 7/10\n",
            "6287/6287 [==============================] - 50s 8ms/step - loss: 1.7277 - acc: 0.5365 - val_loss: 1.7305 - val_acc: 0.5432\n",
            "Epoch 8/10\n",
            "6287/6287 [==============================] - 50s 8ms/step - loss: 1.6726 - acc: 0.5548 - val_loss: 1.8100 - val_acc: 0.5514\n",
            "Epoch 9/10\n",
            "6287/6287 [==============================] - 49s 8ms/step - loss: 1.6178 - acc: 0.5667 - val_loss: 1.6480 - val_acc: 0.5774\n",
            "Epoch 10/10\n",
            "6287/6287 [==============================] - 49s 8ms/step - loss: 1.5663 - acc: 0.5734 - val_loss: 1.7046 - val_acc: 0.5785\n"
          ],
          "name": "stdout"
        }
      ]
    },
    {
      "cell_type": "code",
      "metadata": {
        "id": "-0oDlpp0_ReN",
        "colab_type": "code",
        "outputId": "12ec4fd5-adbc-4e45-e917-c4269bca7082",
        "colab": {
          "base_uri": "https://localhost:8080/",
          "height": 260
        }
      },
      "source": [
        "dropout_model.summary()"
      ],
      "execution_count": 0,
      "outputs": [
        {
          "output_type": "stream",
          "text": [
            "Model: \"sequential_6\"\n",
            "_________________________________________________________________\n",
            "Layer (type)                 Output Shape              Param #   \n",
            "=================================================================\n",
            "embedding_6 (Embedding)      (None, None, 64)          640000    \n",
            "_________________________________________________________________\n",
            "lstm_7 (LSTM)                (None, 32)                12416     \n",
            "_________________________________________________________________\n",
            "dense_5 (Dense)              (None, 46)                1518      \n",
            "=================================================================\n",
            "Total params: 653,934\n",
            "Trainable params: 653,934\n",
            "Non-trainable params: 0\n",
            "_________________________________________________________________\n"
          ],
          "name": "stdout"
        }
      ]
    },
    {
      "cell_type": "markdown",
      "metadata": {
        "id": "Yb6EERLT34ba",
        "colab_type": "text"
      },
      "source": [
        ""
      ]
    },
    {
      "cell_type": "code",
      "metadata": {
        "id": "11-IhySe_UgE",
        "colab_type": "code",
        "outputId": "168a69f0-d207-4b85-b056-379ae8845d0c",
        "colab": {
          "base_uri": "https://localhost:8080/",
          "height": 545
        }
      },
      "source": [
        "import matplotlib.pyplot as plt\n",
        "\n",
        "acc = history.history['acc']\n",
        "val_acc = history.history['val_acc']\n",
        "loss = history.history['loss']\n",
        "val_loss = history.history['val_loss']\n",
        "\n",
        "epochs = range(len(acc))\n",
        "\n",
        "plt.plot(epochs, acc, 'bo', label='Training acc')\n",
        "plt.plot(epochs, val_acc, 'b', label='Validation acc')\n",
        "plt.title('Training and validation accuracy')\n",
        "plt.legend()\n",
        "\n",
        "plt.figure()\n",
        "\n",
        "plt.plot(epochs, loss, 'bo', label='Training loss')\n",
        "plt.plot(epochs, val_loss, 'b', label='Validation loss')\n",
        "plt.title('Training and validation loss')\n",
        "plt.legend()\n",
        "\n",
        "plt.show()"
      ],
      "execution_count": 0,
      "outputs": [
        {
          "output_type": "display_data",
          "data": {
            "image/png": "[encoded data removed]",
            "text/plain": [
              "<Figure size 432x288 with 1 Axes>"
            ]
          },
          "metadata": {
            "tags": []
          }
        },
        {
          "output_type": "display_data",
          "data": {
            "image/png": "[encoded data removed]",
            "text/plain": [
              "<Figure size 432x288 with 1 Axes>"
            ]
          },
          "metadata": {
            "tags": []
          }
        }
      ]
    },
    {
      "cell_type": "markdown",
      "metadata": {
        "id": "NLiKG1JhE_y0",
        "colab_type": "text"
      },
      "source": [
        "## Stacking RNNs"
      ]
    },
    {
      "cell_type": "code",
      "metadata": {
        "id": "d3hsbp5fFC1e",
        "colab_type": "code",
        "outputId": "6da8bcd2-8034-48d3-ceaf-f50012e4a416",
        "colab": {
          "base_uri": "https://localhost:8080/",
          "height": 711
        }
      },
      "source": [
        "from keras.models import Sequential\n",
        "from keras import layers\n",
        "from keras.optimizers import RMSprop\n",
        "\n",
        "stacked_rnn_model = Sequential()\n",
        "stacked_rnn_model.add(Embedding(10000, 64))\n",
        "stacked_rnn_model.add(layers.LSTM(32,dropout=0.2, recurrent_dropout=0.2,return_sequences=True))\n",
        "stacked_rnn_model.add(layers.LSTM(32,dropout=0.2, recurrent_dropout=0.2,return_sequences=True))\n",
        "stacked_rnn_model.add(layers.LSTM(32,dropout=0.2, recurrent_dropout=0.2))\n",
        "stacked_rnn_model.add(layers.Dense(46,activation='softmax'))\n",
        "\n",
        "stacked_rnn_model.compile(optimizer='rmsprop', loss='categorical_crossentropy', metrics=['accuracy'])\n",
        "history = stacked_rnn_model.fit(train_data, train_labels,\n",
        "                    epochs=10,\n",
        "                    batch_size=128,\n",
        "                    validation_split=0.3)"
      ],
      "execution_count": 0,
      "outputs": [
        {
          "output_type": "stream",
          "text": [
            "6287/6287 [==============================] - 141s 22ms/step - loss: 2.6533 - acc: 0.3431 - val_loss: 2.2014 - val_acc: 0.3577\n",
            "Epoch 2/10\n",
            "6287/6287 [==============================] - 136s 22ms/step - loss: 2.0645 - acc: 0.4167 - val_loss: 1.8757 - val_acc: 0.5091\n",
            "Epoch 3/10\n",
            "6287/6287 [==============================] - 135s 21ms/step - loss: 1.8566 - acc: 0.5039 - val_loss: 1.7661 - val_acc: 0.5403\n",
            "Epoch 4/10\n",
            "6287/6287 [==============================] - 133s 21ms/step - loss: 1.7577 - acc: 0.5319 - val_loss: 1.7197 - val_acc: 0.5529\n",
            "Epoch 5/10\n",
            "6287/6287 [==============================] - 134s 21ms/step - loss: 1.6806 - acc: 0.5500 - val_loss: 1.7275 - val_acc: 0.5477\n",
            "Epoch 6/10\n",
            "6287/6287 [==============================] - 133s 21ms/step - loss: 1.6516 - acc: 0.5527 - val_loss: 1.7136 - val_acc: 0.5536\n",
            "Epoch 7/10\n",
            "6287/6287 [==============================] - 132s 21ms/step - loss: 1.6060 - acc: 0.5653 - val_loss: 1.6994 - val_acc: 0.5636\n",
            "Epoch 8/10\n",
            "6287/6287 [==============================] - 132s 21ms/step - loss: 1.5863 - acc: 0.5670 - val_loss: 1.9431 - val_acc: 0.5054\n",
            "Epoch 9/10\n",
            "6287/6287 [==============================] - 138s 22ms/step - loss: 1.5312 - acc: 0.5807 - val_loss: 1.7243 - val_acc: 0.5644\n",
            "Epoch 10/10\n",
            "6287/6287 [==============================] - 140s 22ms/step - loss: 1.5005 - acc: 0.5804 - val_loss: 1.7962 - val_acc: 0.5536\n",
            "Train on 6287 samples, validate on 2695 samples\n",
            "Epoch 1/10\n",
            "6287/6287 [==============================] - 147s 23ms/step - loss: 2.6773 - acc: 0.3555 - val_loss: 2.1635 - val_acc: 0.4831\n",
            "Epoch 2/10\n",
            "6287/6287 [==============================] - 138s 22ms/step - loss: 2.0231 - acc: 0.4630 - val_loss: 1.8341 - val_acc: 0.5176\n",
            "Epoch 3/10\n",
            "6287/6287 [==============================] - 140s 22ms/step - loss: 1.8322 - acc: 0.5060 - val_loss: 1.7569 - val_acc: 0.5321\n",
            "Epoch 4/10\n",
            "6287/6287 [==============================] - 139s 22ms/step - loss: 1.7331 - acc: 0.5297 - val_loss: 1.7547 - val_acc: 0.5191\n",
            "Epoch 5/10\n",
            "6287/6287 [==============================] - 140s 22ms/step - loss: 1.6673 - acc: 0.5478 - val_loss: 1.7014 - val_acc: 0.5614\n",
            "Epoch 6/10\n",
            "6287/6287 [==============================] - 141s 22ms/step - loss: 1.6428 - acc: 0.5507 - val_loss: 1.7080 - val_acc: 0.5592\n",
            "Epoch 7/10\n",
            "6287/6287 [==============================] - 142s 23ms/step - loss: 1.5899 - acc: 0.5647 - val_loss: 1.7080 - val_acc: 0.5525\n",
            "Epoch 8/10\n",
            "6287/6287 [==============================] - 141s 22ms/step - loss: 1.5583 - acc: 0.5629 - val_loss: 1.7337 - val_acc: 0.5558\n",
            "Epoch 9/10\n",
            "6287/6287 [==============================] - 140s 22ms/step - loss: 1.5161 - acc: 0.5798 - val_loss: 1.7030 - val_acc: 0.5588\n",
            "Epoch 10/10\n",
            "6287/6287 [==============================] - 139s 22ms/step - loss: 1.5009 - acc: 0.5748 - val_loss: 1.7571 - val_acc: 0.5655\n"
          ],
          "name": "stdout"
        }
      ]
    },
    {
      "cell_type": "code",
      "metadata": {
        "id": "S83GnhvkF1i2",
        "colab_type": "code",
        "outputId": "a9615b67-a70a-41cd-f57d-05dcaf9b4cc3",
        "colab": {
          "base_uri": "https://localhost:8080/",
          "height": 329
        }
      },
      "source": [
        "stacked_rnn_model.summary()"
      ],
      "execution_count": 0,
      "outputs": [
        {
          "output_type": "stream",
          "text": [
            "Model: \"sequential_9\"\n",
            "_________________________________________________________________\n",
            "Layer (type)                 Output Shape              Param #   \n",
            "=================================================================\n",
            "embedding_9 (Embedding)      (None, None, 64)          640000    \n",
            "_________________________________________________________________\n",
            "lstm_13 (LSTM)               (None, None, 32)          12416     \n",
            "_________________________________________________________________\n",
            "lstm_14 (LSTM)               (None, None, 32)          8320      \n",
            "_________________________________________________________________\n",
            "lstm_15 (LSTM)               (None, 32)                8320      \n",
            "_________________________________________________________________\n",
            "dense_7 (Dense)              (None, 46)                1518      \n",
            "=================================================================\n",
            "Total params: 670,574\n",
            "Trainable params: 670,574\n",
            "Non-trainable params: 0\n",
            "_________________________________________________________________\n"
          ],
          "name": "stdout"
        }
      ]
    },
    {
      "cell_type": "code",
      "metadata": {
        "id": "4kp4HdInF4hb",
        "colab_type": "code",
        "outputId": "a34b1f3f-b857-4f8a-b788-7d4d2d48a740",
        "colab": {
          "base_uri": "https://localhost:8080/",
          "height": 545
        }
      },
      "source": [
        "import matplotlib.pyplot as plt\n",
        "\n",
        "acc = history.history['acc']\n",
        "val_acc = history.history['val_acc']\n",
        "loss = history.history['loss']\n",
        "val_loss = history.history['val_loss']\n",
        "\n",
        "epochs = range(len(acc))\n",
        "\n",
        "plt.plot(epochs, acc, 'bo', label='Training acc')\n",
        "plt.plot(epochs, val_acc, 'b', label='Validation acc')\n",
        "plt.title('Training and validation accuracy')\n",
        "plt.legend()\n",
        "\n",
        "plt.figure()\n",
        "\n",
        "plt.plot(epochs, loss, 'bo', label='Training loss')\n",
        "plt.plot(epochs, val_loss, 'b', label='Validation loss')\n",
        "plt.title('Training and validation loss')\n",
        "plt.legend()\n",
        "\n",
        "plt.show()"
      ],
      "execution_count": 0,
      "outputs": [
        {
          "output_type": "display_data",
          "data": {
            "image/png": "[encoded data removed]",
            "text/plain": [
              "<Figure size 432x288 with 1 Axes>"
            ]
          },
          "metadata": {
            "tags": []
          }
        },
        {
          "output_type": "display_data",
          "data": {
            "image/png": "[encoded data removed]",
            "text/plain": [
              "<Figure size 432x288 with 1 Axes>"
            ]
          },
          "metadata": {
            "tags": []
          }
        }
      ]
    },
    {
      "cell_type": "markdown",
      "metadata": {
        "id": "op_7hkaK37FG",
        "colab_type": "text"
      },
      "source": [
        ""
      ]
    }
  ]
}