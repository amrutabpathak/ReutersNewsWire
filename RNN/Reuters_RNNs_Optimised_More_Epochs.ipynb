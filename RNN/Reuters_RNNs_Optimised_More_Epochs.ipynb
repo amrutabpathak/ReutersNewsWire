{
  "nbformat": 4,
  "nbformat_minor": 0,
  "metadata": {
    "kernelspec": {
      "display_name": "Python 3",
      "language": "python",
      "name": "python3"
    },
    "language_info": {
      "codemirror_mode": {
        "name": "ipython",
        "version": 3
      },
      "file_extension": ".py",
      "mimetype": "text/x-python",
      "name": "python",
      "nbconvert_exporter": "python",
      "pygments_lexer": "ipython3",
      "version": "3.7.4"
    },
    "colab": {
      "name": "Reuters_RNNs_Optimised_More_Epochs.ipynb",
      "provenance": [],
      "collapsed_sections": []
    }
  },
  "cells": [
    {
      "cell_type": "code",
      "metadata": {
        "id": "vWJpAkeswyu6",
        "colab_type": "code",
        "outputId": "16b6a56a-e078-4cba-9217-0f5702a4ff06",
        "colab": {
          "base_uri": "https://localhost:8080/",
          "height": 35
        }
      },
      "source": [
        "import keras\n",
        "keras.__version__"
      ],
      "execution_count": 16,
      "outputs": [
        {
          "output_type": "execute_result",
          "data": {
            "text/plain": [
              "'2.2.5'"
            ]
          },
          "metadata": {
            "tags": []
          },
          "execution_count": 16
        }
      ]
    },
    {
      "cell_type": "code",
      "metadata": {
        "id": "5uwR5XY0wyvJ",
        "colab_type": "code",
        "colab": {}
      },
      "source": [
        "from keras.layers import SimpleRNN\n",
        "from keras.models import Sequential\n",
        "from keras.layers import Embedding\n",
        "from keras.layers import Dense\n",
        "from keras.datasets import reuters\n",
        "from keras.preprocessing import sequence\n",
        "\n"
      ],
      "execution_count": 0,
      "outputs": []
    },
    {
      "cell_type": "code",
      "metadata": {
        "id": "iVN9SFfIwyvX",
        "colab_type": "code",
        "colab": {}
      },
      "source": [
        "(train_data, train_labels), (test_data, test_labels) = reuters.load_data(num_words=10000)"
      ],
      "execution_count": 0,
      "outputs": []
    },
    {
      "cell_type": "code",
      "metadata": {
        "id": "9RDH9Eb4wyvg",
        "colab_type": "code",
        "outputId": "aef9d6ee-6a32-413d-aef3-73b2536a5e9c",
        "colab": {
          "base_uri": "https://localhost:8080/",
          "height": 35
        }
      },
      "source": [
        "len(train_data)"
      ],
      "execution_count": 19,
      "outputs": [
        {
          "output_type": "execute_result",
          "data": {
            "text/plain": [
              "8982"
            ]
          },
          "metadata": {
            "tags": []
          },
          "execution_count": 19
        }
      ]
    },
    {
      "cell_type": "code",
      "metadata": {
        "id": "RuIzMRBUwyvm",
        "colab_type": "code",
        "outputId": "83632854-e956-441c-9ad8-8022e5acfde8",
        "colab": {
          "base_uri": "https://localhost:8080/",
          "height": 35
        }
      },
      "source": [
        "len(test_data)"
      ],
      "execution_count": 20,
      "outputs": [
        {
          "output_type": "execute_result",
          "data": {
            "text/plain": [
              "2246"
            ]
          },
          "metadata": {
            "tags": []
          },
          "execution_count": 20
        }
      ]
    },
    {
      "cell_type": "code",
      "metadata": {
        "id": "NTkaZRWqwyvs",
        "colab_type": "code",
        "outputId": "11e38a0e-f8f0-4ddd-a53f-18b6876b7aca",
        "colab": {
          "base_uri": "https://localhost:8080/",
          "height": 555
        }
      },
      "source": [
        "train_data[10]"
      ],
      "execution_count": 21,
      "outputs": [
        {
          "output_type": "execute_result",
          "data": {
            "text/plain": [
              "[1,\n",
              " 245,\n",
              " 273,\n",
              " 207,\n",
              " 156,\n",
              " 53,\n",
              " 74,\n",
              " 160,\n",
              " 26,\n",
              " 14,\n",
              " 46,\n",
              " 296,\n",
              " 26,\n",
              " 39,\n",
              " 74,\n",
              " 2979,\n",
              " 3554,\n",
              " 14,\n",
              " 46,\n",
              " 4689,\n",
              " 4329,\n",
              " 86,\n",
              " 61,\n",
              " 3499,\n",
              " 4795,\n",
              " 14,\n",
              " 61,\n",
              " 451,\n",
              " 4329,\n",
              " 17,\n",
              " 12]"
            ]
          },
          "metadata": {
            "tags": []
          },
          "execution_count": 21
        }
      ]
    },
    {
      "cell_type": "code",
      "metadata": {
        "id": "9v4W_hbnwyvw",
        "colab_type": "code",
        "colab": {}
      },
      "source": [
        "word_index = reuters.get_word_index()\n",
        "reverse_word_index = dict([(value, key) for (key, value) in word_index.items()])\n",
        "# Note that our indices were offset by 3\n",
        "# because 0, 1 and 2 are reserved indices for \"padding\", \"start of sequence\", and \"unknown\".\n",
        "decoded_newswire = ' '.join([reverse_word_index.get(i - 3, '?') for i in train_data[0]])"
      ],
      "execution_count": 0,
      "outputs": []
    },
    {
      "cell_type": "code",
      "metadata": {
        "id": "rW9QYm4Pwyvy",
        "colab_type": "code",
        "outputId": "17b54da5-9b04-43db-8d4e-c53a20b90768",
        "colab": {
          "base_uri": "https://localhost:8080/",
          "height": 55
        }
      },
      "source": [
        "decoded_newswire"
      ],
      "execution_count": 23,
      "outputs": [
        {
          "output_type": "execute_result",
          "data": {
            "text/plain": [
              "'? ? ? said as a result of its december acquisition of space co it expects earnings per share in 1987 of 1 15 to 1 30 dlrs per share up from 70 cts in 1986 the company said pretax net should rise to nine to 10 mln dlrs from six mln dlrs in 1986 and rental operation revenues to 19 to 22 mln dlrs from 12 5 mln dlrs it said cash flow per share this year should be 2 50 to three dlrs reuter 3'"
            ]
          },
          "metadata": {
            "tags": []
          },
          "execution_count": 23
        }
      ]
    },
    {
      "cell_type": "code",
      "metadata": {
        "id": "jMg9FBqXwyv1",
        "colab_type": "code",
        "outputId": "490f2e76-5a3c-4894-d45f-7e0bb72980b0",
        "colab": {
          "base_uri": "https://localhost:8080/",
          "height": 35
        }
      },
      "source": [
        "train_labels[10]"
      ],
      "execution_count": 24,
      "outputs": [
        {
          "output_type": "execute_result",
          "data": {
            "text/plain": [
              "3"
            ]
          },
          "metadata": {
            "tags": []
          },
          "execution_count": 24
        }
      ]
    },
    {
      "cell_type": "markdown",
      "metadata": {
        "id": "KFFEhgNMwyv3",
        "colab_type": "text"
      },
      "source": [
        "## Preparing the data"
      ]
    },
    {
      "cell_type": "code",
      "metadata": {
        "id": "fCItXrqbwyv4",
        "colab_type": "code",
        "colab": {}
      },
      "source": [
        "word_length = 700"
      ],
      "execution_count": 0,
      "outputs": []
    },
    {
      "cell_type": "code",
      "metadata": {
        "id": "xu4cB2f5wyv6",
        "colab_type": "code",
        "colab": {}
      },
      "source": [
        "train_data = sequence.pad_sequences(train_data, maxlen=word_length)\n",
        "test_data = sequence.pad_sequences(test_data, maxlen=word_length)\n",
        "\n"
      ],
      "execution_count": 0,
      "outputs": []
    },
    {
      "cell_type": "code",
      "metadata": {
        "id": "8bc5tqlP9CN6",
        "colab_type": "code",
        "colab": {}
      },
      "source": [
        "from keras.utils import np_utils\n",
        "\n",
        "train_labels = np_utils.to_categorical(train_labels, 46)\n",
        "test_labels = np_utils.to_categorical(test_labels, 46)"
      ],
      "execution_count": 0,
      "outputs": []
    },
    {
      "cell_type": "markdown",
      "metadata": {
        "id": "BtGKjoKAwyv8",
        "colab_type": "text"
      },
      "source": [
        "## Building our network\n"
      ]
    },
    {
      "cell_type": "markdown",
      "metadata": {
        "id": "fNPdKpODwywD",
        "colab_type": "text"
      },
      "source": [
        "## Using LSTM "
      ]
    },
    {
      "cell_type": "code",
      "metadata": {
        "id": "rJc0LItcwywE",
        "colab_type": "code",
        "outputId": "965e4451-87f8-43fc-dc4a-2f899f813c8d",
        "colab": {
          "base_uri": "https://localhost:8080/",
          "height": 1000
        }
      },
      "source": [
        "from keras.models import Sequential\n",
        "from keras import layers\n",
        "from keras.optimizers import RMSprop\n",
        "\n",
        "model = Sequential()\n",
        "model.add(Embedding(10000, 64))\n",
        "model.add(layers.LSTM(32, input_shape=(10000,)))\n",
        "model.add(layers.Dense(46,activation='softmax'))\n",
        "\n",
        "model.compile(optimizer='rmsprop', loss='categorical_crossentropy', metrics=['accuracy'])\n",
        "history = model.fit(train_data, train_labels,\n",
        "                    epochs=30,\n",
        "                    batch_size=128,\n",
        "                    validation_split=0.3)"
      ],
      "execution_count": 28,
      "outputs": [
        {
          "output_type": "stream",
          "text": [
            "Train on 6287 samples, validate on 2695 samples\n",
            "Epoch 1/30\n",
            "6287/6287 [==============================] - 44s 7ms/step - loss: 2.7753 - acc: 0.3437 - val_loss: 2.3868 - val_acc: 0.3532\n",
            "Epoch 2/30\n",
            "6287/6287 [==============================] - 44s 7ms/step - loss: 2.2213 - acc: 0.3549 - val_loss: 2.1964 - val_acc: 0.3551\n",
            "Epoch 3/30\n",
            "6287/6287 [==============================] - 44s 7ms/step - loss: 1.9998 - acc: 0.4231 - val_loss: 1.9959 - val_acc: 0.4501\n",
            "Epoch 4/30\n",
            "6287/6287 [==============================] - 44s 7ms/step - loss: 1.8450 - acc: 0.5029 - val_loss: 1.7764 - val_acc: 0.5417\n",
            "Epoch 5/30\n",
            "6287/6287 [==============================] - 44s 7ms/step - loss: 1.7340 - acc: 0.5457 - val_loss: 1.7056 - val_acc: 0.5570\n",
            "Epoch 6/30\n",
            "6287/6287 [==============================] - 44s 7ms/step - loss: 1.6639 - acc: 0.5556 - val_loss: 2.3882 - val_acc: 0.4597\n",
            "Epoch 7/30\n",
            "6287/6287 [==============================] - 43s 7ms/step - loss: 1.6425 - acc: 0.5785 - val_loss: 1.7212 - val_acc: 0.5699\n",
            "Epoch 8/30\n",
            "6287/6287 [==============================] - 43s 7ms/step - loss: 1.5622 - acc: 0.5779 - val_loss: 1.7487 - val_acc: 0.5314\n",
            "Epoch 9/30\n",
            "6287/6287 [==============================] - 43s 7ms/step - loss: 1.5140 - acc: 0.5814 - val_loss: 1.6379 - val_acc: 0.5577\n",
            "Epoch 10/30\n",
            "6287/6287 [==============================] - 43s 7ms/step - loss: 1.4064 - acc: 0.6232 - val_loss: 1.7487 - val_acc: 0.5447\n",
            "Epoch 11/30\n",
            "6287/6287 [==============================] - 43s 7ms/step - loss: 1.4034 - acc: 0.6164 - val_loss: 1.7159 - val_acc: 0.5273\n",
            "Epoch 12/30\n",
            "6287/6287 [==============================] - 43s 7ms/step - loss: 1.3398 - acc: 0.6391 - val_loss: 1.8653 - val_acc: 0.4742\n",
            "Epoch 13/30\n",
            "6287/6287 [==============================] - 43s 7ms/step - loss: 1.3033 - acc: 0.6434 - val_loss: 1.5570 - val_acc: 0.6033\n",
            "Epoch 14/30\n",
            "6287/6287 [==============================] - 43s 7ms/step - loss: 1.2233 - acc: 0.6757 - val_loss: 1.6162 - val_acc: 0.5944\n",
            "Epoch 15/30\n",
            "6287/6287 [==============================] - 43s 7ms/step - loss: 1.1926 - acc: 0.6774 - val_loss: 1.6195 - val_acc: 0.5955\n",
            "Epoch 16/30\n",
            "6287/6287 [==============================] - 43s 7ms/step - loss: 1.1023 - acc: 0.7089 - val_loss: 1.5544 - val_acc: 0.6152\n",
            "Epoch 17/30\n",
            "6287/6287 [==============================] - 45s 7ms/step - loss: 1.0598 - acc: 0.7263 - val_loss: 1.4929 - val_acc: 0.6456\n",
            "Epoch 18/30\n",
            "6287/6287 [==============================] - 45s 7ms/step - loss: 0.9778 - acc: 0.7508 - val_loss: 1.5046 - val_acc: 0.6486\n",
            "Epoch 19/30\n",
            "6287/6287 [==============================] - 45s 7ms/step - loss: 0.9470 - acc: 0.7585 - val_loss: 1.6765 - val_acc: 0.5889\n",
            "Epoch 20/30\n",
            "6287/6287 [==============================] - 44s 7ms/step - loss: 0.9210 - acc: 0.7689 - val_loss: 1.5566 - val_acc: 0.6545\n",
            "Epoch 21/30\n",
            "6287/6287 [==============================] - 44s 7ms/step - loss: 0.8642 - acc: 0.7821 - val_loss: 1.5291 - val_acc: 0.6557\n",
            "Epoch 22/30\n",
            "6287/6287 [==============================] - 45s 7ms/step - loss: 0.8278 - acc: 0.7900 - val_loss: 1.5713 - val_acc: 0.6586\n",
            "Epoch 23/30\n",
            "6287/6287 [==============================] - 45s 7ms/step - loss: 0.7858 - acc: 0.8117 - val_loss: 1.8071 - val_acc: 0.5852\n",
            "Epoch 24/30\n",
            "6287/6287 [==============================] - 45s 7ms/step - loss: 0.7603 - acc: 0.8160 - val_loss: 1.5680 - val_acc: 0.6471\n",
            "Epoch 25/30\n",
            "6287/6287 [==============================] - 44s 7ms/step - loss: 0.7294 - acc: 0.8192 - val_loss: 1.5726 - val_acc: 0.6642\n",
            "Epoch 26/30\n",
            "6287/6287 [==============================] - 45s 7ms/step - loss: 0.6965 - acc: 0.8306 - val_loss: 1.6027 - val_acc: 0.6486\n",
            "Epoch 27/30\n",
            "6287/6287 [==============================] - 45s 7ms/step - loss: 0.6696 - acc: 0.8352 - val_loss: 1.5685 - val_acc: 0.6508\n",
            "Epoch 28/30\n",
            "6287/6287 [==============================] - 45s 7ms/step - loss: 0.6353 - acc: 0.8436 - val_loss: 1.7085 - val_acc: 0.6564\n",
            "Epoch 29/30\n",
            "6287/6287 [==============================] - 45s 7ms/step - loss: 0.6144 - acc: 0.8503 - val_loss: 1.6280 - val_acc: 0.6330\n",
            "Epoch 30/30\n",
            "6287/6287 [==============================] - 44s 7ms/step - loss: 0.5800 - acc: 0.8599 - val_loss: 1.6245 - val_acc: 0.6553\n"
          ],
          "name": "stdout"
        }
      ]
    },
    {
      "cell_type": "code",
      "metadata": {
        "id": "CbJTxUYgwywG",
        "colab_type": "code",
        "outputId": "d5e96038-f5bd-48e5-d007-dcff9ac2cf22",
        "colab": {
          "base_uri": "https://localhost:8080/",
          "height": 260
        }
      },
      "source": [
        "model.summary()"
      ],
      "execution_count": 32,
      "outputs": [
        {
          "output_type": "stream",
          "text": [
            "Model: \"sequential_2\"\n",
            "_________________________________________________________________\n",
            "Layer (type)                 Output Shape              Param #   \n",
            "=================================================================\n",
            "embedding_2 (Embedding)      (None, None, 64)          640000    \n",
            "_________________________________________________________________\n",
            "lstm_2 (LSTM)                (None, 32)                12416     \n",
            "_________________________________________________________________\n",
            "dense_2 (Dense)              (None, 46)                1518      \n",
            "=================================================================\n",
            "Total params: 653,934\n",
            "Trainable params: 653,934\n",
            "Non-trainable params: 0\n",
            "_________________________________________________________________\n"
          ],
          "name": "stdout"
        }
      ]
    },
    {
      "cell_type": "code",
      "metadata": {
        "id": "l06kON4HwywI",
        "colab_type": "code",
        "outputId": "873034c9-38ba-4a2f-fd5e-512bda7f7714",
        "colab": {
          "base_uri": "https://localhost:8080/",
          "height": 545
        }
      },
      "source": [
        "import matplotlib.pyplot as plt\n",
        "\n",
        "acc = history.history['acc']\n",
        "val_acc = history.history['val_acc']\n",
        "loss = history.history['loss']\n",
        "val_loss = history.history['val_loss']\n",
        "\n",
        "epochs = range(len(acc))\n",
        "\n",
        "plt.plot(epochs, acc, 'bo', label='Training acc')\n",
        "plt.plot(epochs, val_acc, 'b', label='Validation acc')\n",
        "plt.title('Training and validation accuracy')\n",
        "plt.legend()\n",
        "\n",
        "plt.figure()\n",
        "\n",
        "plt.plot(epochs, loss, 'bo', label='Training loss')\n",
        "plt.plot(epochs, val_loss, 'b', label='Validation loss')\n",
        "plt.title('Training and validation loss')\n",
        "plt.legend()\n",
        "\n",
        "plt.show()"
      ],
      "execution_count": 33,
      "outputs": [
        {
          "output_type": "display_data",
          "data": {
            "image/png": "[encoded data removed]",
            "text/plain": [
              "<Figure size 432x288 with 1 Axes>"
            ]
          },
          "metadata": {
            "tags": []
          }
        },
        {
          "output_type": "display_data",
          "data": {
            "image/png": "[encoded data removed]",
            "text/plain": [
              "<Figure size 432x288 with 1 Axes>"
            ]
          },
          "metadata": {
            "tags": []
          }
        }
      ]
    },
    {
      "cell_type": "code",
      "metadata": {
        "id": "RI5qs3cox1BY",
        "colab_type": "code",
        "colab": {
          "base_uri": "https://localhost:8080/",
          "height": 815
        },
        "outputId": "c78e6230-0a75-4fd7-f462-2f574b0b3904"
      },
      "source": [
        "\n",
        "model = Sequential()\n",
        "model.add(Embedding(10000, 64))\n",
        "model.add(layers.LSTM(32, input_shape=(10000,)))\n",
        "model.add(layers.Dense(46,activation='softmax'))\n",
        "\n",
        "model.compile(optimizer='rmsprop', loss='categorical_crossentropy', metrics=['accuracy'])\n",
        "history = model.fit(train_data, train_labels,\n",
        "                    epochs=22,\n",
        "                    batch_size=128,\n",
        "                    validation_split=0.3)\n",
        "results = model.evaluate(test_data, test_labels)"
      ],
      "execution_count": 34,
      "outputs": [
        {
          "output_type": "stream",
          "text": [
            "Train on 6287 samples, validate on 2695 samples\n",
            "Epoch 1/22\n",
            "6287/6287 [==============================] - 44s 7ms/step - loss: 2.8156 - acc: 0.3453 - val_loss: 2.3990 - val_acc: 0.4776\n",
            "Epoch 2/22\n",
            "6287/6287 [==============================] - 43s 7ms/step - loss: 2.1437 - acc: 0.4784 - val_loss: 2.0844 - val_acc: 0.4635\n",
            "Epoch 3/22\n",
            "6287/6287 [==============================] - 43s 7ms/step - loss: 1.9790 - acc: 0.5025 - val_loss: 1.8773 - val_acc: 0.5061\n",
            "Epoch 4/22\n",
            "6287/6287 [==============================] - 43s 7ms/step - loss: 1.8470 - acc: 0.5153 - val_loss: 1.7866 - val_acc: 0.5217\n",
            "Epoch 5/22\n",
            "6287/6287 [==============================] - 43s 7ms/step - loss: 1.9921 - acc: 0.4897 - val_loss: 2.0467 - val_acc: 0.4987\n",
            "Epoch 6/22\n",
            "6287/6287 [==============================] - 43s 7ms/step - loss: 1.6994 - acc: 0.5411 - val_loss: 1.7817 - val_acc: 0.5232\n",
            "Epoch 7/22\n",
            "6287/6287 [==============================] - 43s 7ms/step - loss: 1.6164 - acc: 0.5599 - val_loss: 1.7145 - val_acc: 0.5447\n",
            "Epoch 8/22\n",
            "6287/6287 [==============================] - 43s 7ms/step - loss: 1.5295 - acc: 0.5775 - val_loss: 1.6180 - val_acc: 0.5800\n",
            "Epoch 9/22\n",
            "6287/6287 [==============================] - 43s 7ms/step - loss: 1.4519 - acc: 0.6175 - val_loss: 1.5829 - val_acc: 0.5833\n",
            "Epoch 10/22\n",
            "6287/6287 [==============================] - 43s 7ms/step - loss: 1.3972 - acc: 0.6313 - val_loss: 1.6439 - val_acc: 0.5729\n",
            "Epoch 11/22\n",
            "6287/6287 [==============================] - 43s 7ms/step - loss: 1.3298 - acc: 0.6587 - val_loss: 1.5436 - val_acc: 0.6134\n",
            "Epoch 12/22\n",
            "6287/6287 [==============================] - 43s 7ms/step - loss: 1.2737 - acc: 0.6658 - val_loss: 1.6939 - val_acc: 0.5881\n",
            "Epoch 13/22\n",
            "6287/6287 [==============================] - 43s 7ms/step - loss: 1.2117 - acc: 0.6882 - val_loss: 1.5133 - val_acc: 0.6278\n",
            "Epoch 14/22\n",
            "6287/6287 [==============================] - 43s 7ms/step - loss: 1.1698 - acc: 0.7030 - val_loss: 1.5459 - val_acc: 0.6267\n",
            "Epoch 15/22\n",
            "6287/6287 [==============================] - 43s 7ms/step - loss: 1.1044 - acc: 0.7174 - val_loss: 1.5317 - val_acc: 0.6315\n",
            "Epoch 16/22\n",
            "6287/6287 [==============================] - 43s 7ms/step - loss: 1.0425 - acc: 0.7403 - val_loss: 1.6880 - val_acc: 0.6045\n",
            "Epoch 17/22\n",
            "6287/6287 [==============================] - 43s 7ms/step - loss: 0.9984 - acc: 0.7495 - val_loss: 1.6595 - val_acc: 0.5985\n",
            "Epoch 18/22\n",
            "6287/6287 [==============================] - 43s 7ms/step - loss: 0.9450 - acc: 0.7635 - val_loss: 1.4906 - val_acc: 0.6482\n",
            "Epoch 19/22\n",
            "6287/6287 [==============================] - 43s 7ms/step - loss: 0.8837 - acc: 0.7826 - val_loss: 1.5371 - val_acc: 0.6319\n",
            "Epoch 20/22\n",
            "6287/6287 [==============================] - 43s 7ms/step - loss: 0.8504 - acc: 0.7921 - val_loss: 1.5217 - val_acc: 0.6416\n",
            "Epoch 21/22\n",
            "6287/6287 [==============================] - 43s 7ms/step - loss: 0.8075 - acc: 0.8032 - val_loss: 1.4951 - val_acc: 0.6583\n",
            "Epoch 22/22\n",
            "6287/6287 [==============================] - 43s 7ms/step - loss: 0.7825 - acc: 0.8047 - val_loss: 1.5623 - val_acc: 0.6375\n",
            "2246/2246 [==============================] - 6s 3ms/step\n"
          ],
          "name": "stdout"
        }
      ]
    },
    {
      "cell_type": "code",
      "metadata": {
        "id": "XxjkWzK7x6l-",
        "colab_type": "code",
        "colab": {
          "base_uri": "https://localhost:8080/",
          "height": 35
        },
        "outputId": "79103d14-7845-4b90-d1a3-8ba2ed8d3974"
      },
      "source": [
        "results"
      ],
      "execution_count": 36,
      "outputs": [
        {
          "output_type": "execute_result",
          "data": {
            "text/plain": [
              "[1.71377689904224, 0.6006233303916316]"
            ]
          },
          "metadata": {
            "tags": []
          },
          "execution_count": 36
        }
      ]
    },
    {
      "cell_type": "markdown",
      "metadata": {
        "id": "r_blI5xxENj3",
        "colab_type": "text"
      },
      "source": [
        "## Using Dropout and recurrent dropout with lstm\n"
      ]
    },
    {
      "cell_type": "code",
      "metadata": {
        "id": "cIvPK8wBELQS",
        "colab_type": "code",
        "outputId": "8b611043-b3f9-4217-c737-0febf0399550",
        "colab": {
          "base_uri": "https://localhost:8080/",
          "height": 1000
        }
      },
      "source": [
        "from keras.models import Sequential\n",
        "from keras import layers\n",
        "from keras.optimizers import RMSprop\n",
        "\n",
        "dropout_model = Sequential()\n",
        "dropout_model.add(Embedding(10000, 64))\n",
        "dropout_model.add(layers.LSTM(32,dropout=0.2, recurrent_dropout=0.2))\n",
        "dropout_model.add(layers.Dense(46,activation='softmax'))\n",
        "\n",
        "dropout_model.compile(optimizer='rmsprop', loss='categorical_crossentropy', metrics=['accuracy'])\n",
        "history = dropout_model.fit(train_data, train_labels,\n",
        "                    epochs=30,\n",
        "                    batch_size=128,\n",
        "                    validation_split=0.3)"
      ],
      "execution_count": 37,
      "outputs": [
        {
          "output_type": "stream",
          "text": [
            "WARNING:tensorflow:From /usr/local/lib/python3.6/dist-packages/keras/backend/tensorflow_backend.py:148: The name tf.placeholder_with_default is deprecated. Please use tf.compat.v1.placeholder_with_default instead.\n",
            "\n",
            "WARNING:tensorflow:From /usr/local/lib/python3.6/dist-packages/keras/backend/tensorflow_backend.py:3733: calling dropout (from tensorflow.python.ops.nn_ops) with keep_prob is deprecated and will be removed in a future version.\n",
            "Instructions for updating:\n",
            "Please use `rate` instead of `keep_prob`. Rate should be set to `rate = 1 - keep_prob`.\n",
            "Train on 6287 samples, validate on 2695 samples\n",
            "Epoch 1/30\n",
            "6287/6287 [==============================] - 55s 9ms/step - loss: 2.8031 - acc: 0.3474 - val_loss: 2.4048 - val_acc: 0.3532\n",
            "Epoch 2/30\n",
            "6287/6287 [==============================] - 52s 8ms/step - loss: 2.3093 - acc: 0.3954 - val_loss: 2.0822 - val_acc: 0.4846\n",
            "Epoch 3/30\n",
            "6287/6287 [==============================] - 53s 8ms/step - loss: 2.1005 - acc: 0.4586 - val_loss: 1.9718 - val_acc: 0.4868\n",
            "Epoch 4/30\n",
            "6287/6287 [==============================] - 52s 8ms/step - loss: 1.9633 - acc: 0.4757 - val_loss: 1.8586 - val_acc: 0.4935\n",
            "Epoch 5/30\n",
            "6287/6287 [==============================] - 52s 8ms/step - loss: 1.8571 - acc: 0.4905 - val_loss: 1.7923 - val_acc: 0.5017\n",
            "Epoch 6/30\n",
            "6287/6287 [==============================] - 53s 8ms/step - loss: 1.7681 - acc: 0.5193 - val_loss: 1.7639 - val_acc: 0.5325\n",
            "Epoch 7/30\n",
            "6287/6287 [==============================] - 52s 8ms/step - loss: 1.6959 - acc: 0.5497 - val_loss: 1.7231 - val_acc: 0.5607\n",
            "Epoch 8/30\n",
            "6287/6287 [==============================] - 53s 8ms/step - loss: 1.6231 - acc: 0.5713 - val_loss: 1.6516 - val_acc: 0.5837\n",
            "Epoch 9/30\n",
            "6287/6287 [==============================] - 53s 8ms/step - loss: 1.5604 - acc: 0.5864 - val_loss: 1.6297 - val_acc: 0.5907\n",
            "Epoch 10/30\n",
            "6287/6287 [==============================] - 53s 8ms/step - loss: 1.5047 - acc: 0.6035 - val_loss: 1.5988 - val_acc: 0.5941\n",
            "Epoch 11/30\n",
            "6287/6287 [==============================] - 52s 8ms/step - loss: 1.4440 - acc: 0.6221 - val_loss: 1.5715 - val_acc: 0.6134\n",
            "Epoch 12/30\n",
            "6287/6287 [==============================] - 52s 8ms/step - loss: 1.3880 - acc: 0.6399 - val_loss: 1.6364 - val_acc: 0.6156\n",
            "Epoch 13/30\n",
            "6287/6287 [==============================] - 52s 8ms/step - loss: 1.3536 - acc: 0.6448 - val_loss: 1.5368 - val_acc: 0.6197\n",
            "Epoch 14/30\n",
            "6287/6287 [==============================] - 52s 8ms/step - loss: 1.3093 - acc: 0.6610 - val_loss: 1.5593 - val_acc: 0.6282\n",
            "Epoch 15/30\n",
            "6287/6287 [==============================] - 52s 8ms/step - loss: 1.2616 - acc: 0.6766 - val_loss: 1.5425 - val_acc: 0.6193\n",
            "Epoch 16/30\n",
            "6287/6287 [==============================] - 52s 8ms/step - loss: 1.2319 - acc: 0.6795 - val_loss: 1.5292 - val_acc: 0.6278\n",
            "Epoch 17/30\n",
            "6287/6287 [==============================] - 52s 8ms/step - loss: 1.1905 - acc: 0.6898 - val_loss: 1.5297 - val_acc: 0.6323\n",
            "Epoch 18/30\n",
            "6287/6287 [==============================] - 52s 8ms/step - loss: 1.1505 - acc: 0.7053 - val_loss: 1.5483 - val_acc: 0.6245\n",
            "Epoch 19/30\n",
            "6287/6287 [==============================] - 52s 8ms/step - loss: 1.1224 - acc: 0.7097 - val_loss: 1.5603 - val_acc: 0.6219\n",
            "Epoch 20/30\n",
            "6287/6287 [==============================] - 53s 8ms/step - loss: 1.0848 - acc: 0.7177 - val_loss: 1.5451 - val_acc: 0.6401\n",
            "Epoch 21/30\n",
            "6287/6287 [==============================] - 52s 8ms/step - loss: 1.0410 - acc: 0.7315 - val_loss: 1.5503 - val_acc: 0.6282\n",
            "Epoch 22/30\n",
            "6287/6287 [==============================] - 52s 8ms/step - loss: 1.0081 - acc: 0.7404 - val_loss: 1.5226 - val_acc: 0.6468\n",
            "Epoch 23/30\n",
            "6287/6287 [==============================] - 52s 8ms/step - loss: 0.9804 - acc: 0.7498 - val_loss: 1.5300 - val_acc: 0.6401\n",
            "Epoch 24/30\n",
            "6287/6287 [==============================] - 52s 8ms/step - loss: 0.9398 - acc: 0.7630 - val_loss: 1.5389 - val_acc: 0.6501\n",
            "Epoch 25/30\n",
            "6287/6287 [==============================] - 52s 8ms/step - loss: 0.9067 - acc: 0.7673 - val_loss: 1.5600 - val_acc: 0.6430\n",
            "Epoch 26/30\n",
            "6287/6287 [==============================] - 52s 8ms/step - loss: 0.8796 - acc: 0.7751 - val_loss: 1.5536 - val_acc: 0.6531\n",
            "Epoch 27/30\n",
            "6287/6287 [==============================] - 52s 8ms/step - loss: 0.8438 - acc: 0.7854 - val_loss: 1.5414 - val_acc: 0.6612\n",
            "Epoch 28/30\n",
            "6287/6287 [==============================] - 53s 8ms/step - loss: 0.8165 - acc: 0.7907 - val_loss: 1.5663 - val_acc: 0.6557\n",
            "Epoch 29/30\n",
            "6287/6287 [==============================] - 53s 8ms/step - loss: 0.7860 - acc: 0.7970 - val_loss: 1.5658 - val_acc: 0.6575\n",
            "Epoch 30/30\n",
            "6287/6287 [==============================] - 53s 8ms/step - loss: 0.7643 - acc: 0.8056 - val_loss: 1.5902 - val_acc: 0.6646\n"
          ],
          "name": "stdout"
        }
      ]
    },
    {
      "cell_type": "code",
      "metadata": {
        "id": "-0oDlpp0_ReN",
        "colab_type": "code",
        "outputId": "aa42343a-d173-4c1d-84fc-a7148b0b6c21",
        "colab": {
          "base_uri": "https://localhost:8080/",
          "height": 260
        }
      },
      "source": [
        "dropout_model.summary()"
      ],
      "execution_count": 38,
      "outputs": [
        {
          "output_type": "stream",
          "text": [
            "Model: \"sequential_4\"\n",
            "_________________________________________________________________\n",
            "Layer (type)                 Output Shape              Param #   \n",
            "=================================================================\n",
            "embedding_4 (Embedding)      (None, None, 64)          640000    \n",
            "_________________________________________________________________\n",
            "lstm_4 (LSTM)                (None, 32)                12416     \n",
            "_________________________________________________________________\n",
            "dense_4 (Dense)              (None, 46)                1518      \n",
            "=================================================================\n",
            "Total params: 653,934\n",
            "Trainable params: 653,934\n",
            "Non-trainable params: 0\n",
            "_________________________________________________________________\n"
          ],
          "name": "stdout"
        }
      ]
    },
    {
      "cell_type": "code",
      "metadata": {
        "id": "11-IhySe_UgE",
        "colab_type": "code",
        "outputId": "fa40872b-e6cf-4958-e6ef-a0fef0fe6ff8",
        "colab": {
          "base_uri": "https://localhost:8080/",
          "height": 545
        }
      },
      "source": [
        "import matplotlib.pyplot as plt\n",
        "\n",
        "acc = history.history['acc']\n",
        "val_acc = history.history['val_acc']\n",
        "loss = history.history['loss']\n",
        "val_loss = history.history['val_loss']\n",
        "\n",
        "epochs = range(len(acc))\n",
        "\n",
        "plt.plot(epochs, acc, 'bo', label='Training acc')\n",
        "plt.plot(epochs, val_acc, 'b', label='Validation acc')\n",
        "plt.title('Training and validation accuracy')\n",
        "plt.legend()\n",
        "\n",
        "plt.figure()\n",
        "\n",
        "plt.plot(epochs, loss, 'bo', label='Training loss')\n",
        "plt.plot(epochs, val_loss, 'b', label='Validation loss')\n",
        "plt.title('Training and validation loss')\n",
        "plt.legend()\n",
        "\n",
        "plt.show()"
      ],
      "execution_count": 0,
      "outputs": [
        {
          "output_type": "display_data",
          "data": {
            "image/png": "[encoded data removed]",
            "text/plain": [
              "<Figure size 432x288 with 1 Axes>"
            ]
          },
          "metadata": {
            "tags": []
          }
        },
        {
          "output_type": "display_data",
          "data": {
            "image/png": "[encoded data removed]",
            "text/plain": [
              "<Figure size 432x288 with 1 Axes>"
            ]
          },
          "metadata": {
            "tags": []
          }
        }
      ]
    },
    {
      "cell_type": "code",
      "metadata": {
        "id": "5j4wOeReyKpR",
        "colab_type": "code",
        "colab": {
          "base_uri": "https://localhost:8080/",
          "height": 1000
        },
        "outputId": "2ae6b8ea-86e2-4c8f-b39a-d3643f1aece6"
      },
      "source": [
        "\n",
        "dropout_model = Sequential()\n",
        "dropout_model.add(Embedding(10000, 64))\n",
        "dropout_model.add(layers.LSTM(32,dropout=0.2, recurrent_dropout=0.2))\n",
        "dropout_model.add(layers.Dense(46,activation='softmax'))\n",
        "\n",
        "dropout_model.compile(optimizer='rmsprop', loss='categorical_crossentropy', metrics=['accuracy'])\n",
        "history = dropout_model.fit(train_data, train_labels,\n",
        "                    epochs=30,\n",
        "                    batch_size=128,\n",
        "                    validation_split=0.3)\n",
        "results = dropout_model.evaluate(test_data, test_labels)"
      ],
      "execution_count": 39,
      "outputs": [
        {
          "output_type": "stream",
          "text": [
            "Train on 6287 samples, validate on 2695 samples\n",
            "Epoch 1/30\n",
            "6287/6287 [==============================] - 56s 9ms/step - loss: 2.7977 - acc: 0.3439 - val_loss: 2.4098 - val_acc: 0.3532\n",
            "Epoch 2/30\n",
            "6287/6287 [==============================] - 52s 8ms/step - loss: 2.2947 - acc: 0.3611 - val_loss: 2.1689 - val_acc: 0.3625\n",
            "Epoch 3/30\n",
            "6287/6287 [==============================] - 53s 8ms/step - loss: 2.0808 - acc: 0.4132 - val_loss: 1.9714 - val_acc: 0.4163\n",
            "Epoch 4/30\n",
            "6287/6287 [==============================] - 52s 8ms/step - loss: 1.9562 - acc: 0.4528 - val_loss: 1.8981 - val_acc: 0.4668\n",
            "Epoch 5/30\n",
            "6287/6287 [==============================] - 52s 8ms/step - loss: 1.8529 - acc: 0.4969 - val_loss: 1.7788 - val_acc: 0.5262\n",
            "Epoch 6/30\n",
            "6287/6287 [==============================] - 52s 8ms/step - loss: 1.7606 - acc: 0.5216 - val_loss: 1.7428 - val_acc: 0.5403\n",
            "Epoch 7/30\n",
            "6287/6287 [==============================] - 51s 8ms/step - loss: 1.6887 - acc: 0.5398 - val_loss: 1.7091 - val_acc: 0.5440\n",
            "Epoch 8/30\n",
            "6287/6287 [==============================] - 52s 8ms/step - loss: 1.6298 - acc: 0.5597 - val_loss: 1.7418 - val_acc: 0.5599\n",
            "Epoch 9/30\n",
            "6287/6287 [==============================] - 52s 8ms/step - loss: 1.5857 - acc: 0.5667 - val_loss: 1.6676 - val_acc: 0.5666\n",
            "Epoch 10/30\n",
            "6287/6287 [==============================] - 52s 8ms/step - loss: 1.5310 - acc: 0.5807 - val_loss: 1.7575 - val_acc: 0.5317\n",
            "Epoch 11/30\n",
            "6287/6287 [==============================] - 53s 8ms/step - loss: 1.4827 - acc: 0.5957 - val_loss: 1.6982 - val_acc: 0.5837\n",
            "Epoch 12/30\n",
            "6287/6287 [==============================] - 53s 8ms/step - loss: 1.4333 - acc: 0.6074 - val_loss: 1.6244 - val_acc: 0.5763\n",
            "Epoch 13/30\n",
            "6287/6287 [==============================] - 53s 8ms/step - loss: 1.3930 - acc: 0.6184 - val_loss: 1.6561 - val_acc: 0.5651\n",
            "Epoch 14/30\n",
            "6287/6287 [==============================] - 53s 8ms/step - loss: 1.3507 - acc: 0.6340 - val_loss: 1.6229 - val_acc: 0.5929\n",
            "Epoch 15/30\n",
            "6287/6287 [==============================] - 53s 8ms/step - loss: 1.3028 - acc: 0.6518 - val_loss: 1.5976 - val_acc: 0.6111\n",
            "Epoch 16/30\n",
            "6287/6287 [==============================] - 52s 8ms/step - loss: 1.2566 - acc: 0.6661 - val_loss: 1.5723 - val_acc: 0.6186\n",
            "Epoch 17/30\n",
            "6287/6287 [==============================] - 53s 8ms/step - loss: 1.2160 - acc: 0.6816 - val_loss: 1.6490 - val_acc: 0.6141\n",
            "Epoch 18/30\n",
            "6287/6287 [==============================] - 53s 8ms/step - loss: 1.1825 - acc: 0.6879 - val_loss: 1.5905 - val_acc: 0.6215\n",
            "Epoch 19/30\n",
            "6287/6287 [==============================] - 52s 8ms/step - loss: 1.1441 - acc: 0.7046 - val_loss: 1.6216 - val_acc: 0.6249\n",
            "Epoch 20/30\n",
            "6287/6287 [==============================] - 53s 8ms/step - loss: 1.1108 - acc: 0.7116 - val_loss: 1.5365 - val_acc: 0.6438\n",
            "Epoch 21/30\n",
            "6287/6287 [==============================] - 52s 8ms/step - loss: 1.0621 - acc: 0.7336 - val_loss: 1.5350 - val_acc: 0.6438\n",
            "Epoch 22/30\n",
            "6287/6287 [==============================] - 54s 9ms/step - loss: 1.0294 - acc: 0.7388 - val_loss: 1.5632 - val_acc: 0.6330\n",
            "Epoch 23/30\n",
            "6287/6287 [==============================] - 53s 8ms/step - loss: 0.9852 - acc: 0.7509 - val_loss: 1.5287 - val_acc: 0.6419\n",
            "Epoch 24/30\n",
            "6287/6287 [==============================] - 54s 9ms/step - loss: 0.9478 - acc: 0.7593 - val_loss: 1.5303 - val_acc: 0.6538\n",
            "Epoch 25/30\n",
            "6287/6287 [==============================] - 54s 9ms/step - loss: 0.9125 - acc: 0.7729 - val_loss: 1.5187 - val_acc: 0.6616\n",
            "Epoch 26/30\n",
            "6287/6287 [==============================] - 54s 9ms/step - loss: 0.8864 - acc: 0.7797 - val_loss: 1.5780 - val_acc: 0.6519\n",
            "Epoch 27/30\n",
            "6287/6287 [==============================] - 54s 9ms/step - loss: 0.8515 - acc: 0.7907 - val_loss: 1.5551 - val_acc: 0.6501\n",
            "Epoch 28/30\n",
            "6287/6287 [==============================] - 54s 9ms/step - loss: 0.8185 - acc: 0.7959 - val_loss: 1.5325 - val_acc: 0.6538\n",
            "Epoch 29/30\n",
            "6287/6287 [==============================] - 54s 9ms/step - loss: 0.7916 - acc: 0.8015 - val_loss: 1.6095 - val_acc: 0.6349\n",
            "Epoch 30/30\n",
            "6287/6287 [==============================] - 54s 9ms/step - loss: 0.7635 - acc: 0.8079 - val_loss: 1.5397 - val_acc: 0.6557\n",
            "2246/2246 [==============================] - 7s 3ms/step\n"
          ],
          "name": "stdout"
        }
      ]
    },
    {
      "cell_type": "code",
      "metadata": {
        "id": "aqh4jJf4yQM8",
        "colab_type": "code",
        "colab": {
          "base_uri": "https://localhost:8080/",
          "height": 35
        },
        "outputId": "c1a522f3-dac3-4f36-9728-e1191e34b7a6"
      },
      "source": [
        "results"
      ],
      "execution_count": 40,
      "outputs": [
        {
          "output_type": "execute_result",
          "data": {
            "text/plain": [
              "[1.689304114874197, 0.6268922529471102]"
            ]
          },
          "metadata": {
            "tags": []
          },
          "execution_count": 40
        }
      ]
    },
    {
      "cell_type": "markdown",
      "metadata": {
        "id": "NLiKG1JhE_y0",
        "colab_type": "text"
      },
      "source": [
        "## Stacking RNNs"
      ]
    },
    {
      "cell_type": "code",
      "metadata": {
        "id": "d3hsbp5fFC1e",
        "colab_type": "code",
        "outputId": "730c75df-8ecf-4fcc-93c1-f530550f2f34",
        "colab": {
          "base_uri": "https://localhost:8080/",
          "height": 1000
        }
      },
      "source": [
        "from keras.models import Sequential\n",
        "from keras import layers\n",
        "from keras.optimizers import RMSprop\n",
        "\n",
        "stacked_rnn_model = Sequential()\n",
        "stacked_rnn_model.add(Embedding(10000, 64))\n",
        "stacked_rnn_model.add(layers.LSTM(32,dropout=0.2, recurrent_dropout=0.2,return_sequences=True))\n",
        "stacked_rnn_model.add(layers.LSTM(32,dropout=0.2, recurrent_dropout=0.2,return_sequences=True))\n",
        "stacked_rnn_model.add(layers.LSTM(32,dropout=0.2, recurrent_dropout=0.2))\n",
        "stacked_rnn_model.add(layers.Dense(46,activation='softmax'))\n",
        "\n",
        "stacked_rnn_model.compile(optimizer='rmsprop', loss='categorical_crossentropy', metrics=['accuracy'])\n",
        "history = stacked_rnn_model.fit(train_data, train_labels,\n",
        "                    epochs=30,\n",
        "                    batch_size=128,\n",
        "                    validation_split=0.3)"
      ],
      "execution_count": 0,
      "outputs": [
        {
          "output_type": "stream",
          "text": [
            "Train on 6287 samples, validate on 2695 samples\n",
            "Epoch 1/30\n",
            "6287/6287 [==============================] - 146s 23ms/step - loss: 2.6910 - acc: 0.3437 - val_loss: 2.2521 - val_acc: 0.3558\n",
            "Epoch 2/30\n",
            "6287/6287 [==============================] - 140s 22ms/step - loss: 2.1081 - acc: 0.4037 - val_loss: 1.9182 - val_acc: 0.5020\n",
            "Epoch 3/30\n",
            "6287/6287 [==============================] - 139s 22ms/step - loss: 1.8539 - acc: 0.5082 - val_loss: 1.7554 - val_acc: 0.5414\n",
            "Epoch 4/30\n",
            "6287/6287 [==============================] - 141s 22ms/step - loss: 1.7447 - acc: 0.5330 - val_loss: 1.7181 - val_acc: 0.5458\n",
            "Epoch 5/30\n",
            "6287/6287 [==============================] - 140s 22ms/step - loss: 1.6826 - acc: 0.5371 - val_loss: 1.7373 - val_acc: 0.5325\n",
            "Epoch 6/30\n",
            "6287/6287 [==============================] - 140s 22ms/step - loss: 1.6319 - acc: 0.5449 - val_loss: 1.7370 - val_acc: 0.5291\n",
            "Epoch 7/30\n",
            "6287/6287 [==============================] - 138s 22ms/step - loss: 1.5993 - acc: 0.5556 - val_loss: 1.7399 - val_acc: 0.5284\n",
            "Epoch 8/30\n",
            "6287/6287 [==============================] - 140s 22ms/step - loss: 1.5632 - acc: 0.5600 - val_loss: 1.7173 - val_acc: 0.5558\n",
            "Epoch 9/30\n",
            "6287/6287 [==============================] - 139s 22ms/step - loss: 1.5301 - acc: 0.5662 - val_loss: 1.7194 - val_acc: 0.5562\n",
            "Epoch 10/30\n",
            "6287/6287 [==============================] - 141s 22ms/step - loss: 1.4999 - acc: 0.5686 - val_loss: 1.7199 - val_acc: 0.5499\n",
            "Epoch 11/30\n",
            "6287/6287 [==============================] - 139s 22ms/step - loss: 1.4705 - acc: 0.5801 - val_loss: 1.7615 - val_acc: 0.5336\n",
            "Epoch 12/30\n",
            "6287/6287 [==============================] - 139s 22ms/step - loss: 1.4527 - acc: 0.5782 - val_loss: 1.8165 - val_acc: 0.5143\n",
            "Epoch 13/30\n",
            "6287/6287 [==============================] - 139s 22ms/step - loss: 1.4296 - acc: 0.5860 - val_loss: 1.7412 - val_acc: 0.5551\n",
            "Epoch 14/30\n",
            "6287/6287 [==============================] - 139s 22ms/step - loss: 1.4051 - acc: 0.5923 - val_loss: 1.7441 - val_acc: 0.5425\n",
            "Epoch 15/30\n",
            "6287/6287 [==============================] - 139s 22ms/step - loss: 1.3985 - acc: 0.5942 - val_loss: 1.7752 - val_acc: 0.5380\n",
            "Epoch 16/30\n",
            "6287/6287 [==============================] - 139s 22ms/step - loss: 1.3698 - acc: 0.6031 - val_loss: 1.7320 - val_acc: 0.5614\n",
            "Epoch 17/30\n",
            "6287/6287 [==============================] - 140s 22ms/step - loss: 1.3376 - acc: 0.6119 - val_loss: 1.8563 - val_acc: 0.5636\n",
            "Epoch 18/30\n",
            "6287/6287 [==============================] - 140s 22ms/step - loss: 1.3169 - acc: 0.6213 - val_loss: 1.7881 - val_acc: 0.5314\n",
            "Epoch 19/30\n",
            "6287/6287 [==============================] - 139s 22ms/step - loss: 1.3071 - acc: 0.6197 - val_loss: 1.8019 - val_acc: 0.5603\n",
            "Epoch 20/30\n",
            "6287/6287 [==============================] - 141s 22ms/step - loss: 1.2695 - acc: 0.6356 - val_loss: 1.7932 - val_acc: 0.5451\n",
            "Epoch 21/30\n",
            "6287/6287 [==============================] - 139s 22ms/step - loss: 1.2600 - acc: 0.6423 - val_loss: 1.7546 - val_acc: 0.5770\n",
            "Epoch 22/30\n",
            "6287/6287 [==============================] - 140s 22ms/step - loss: 1.2449 - acc: 0.6451 - val_loss: 1.7709 - val_acc: 0.5596\n",
            "Epoch 23/30\n",
            "6287/6287 [==============================] - 139s 22ms/step - loss: 1.2257 - acc: 0.6482 - val_loss: 1.7892 - val_acc: 0.5477\n",
            "Epoch 24/30\n",
            "6287/6287 [==============================] - 138s 22ms/step - loss: 1.2005 - acc: 0.6630 - val_loss: 1.8466 - val_acc: 0.5666\n",
            "Epoch 25/30\n",
            "6287/6287 [==============================] - 139s 22ms/step - loss: 1.1872 - acc: 0.6645 - val_loss: 1.7870 - val_acc: 0.5718\n",
            "Epoch 26/30\n",
            "6287/6287 [==============================] - 140s 22ms/step - loss: 1.1715 - acc: 0.6666 - val_loss: 1.7940 - val_acc: 0.5714\n",
            "Epoch 27/30\n",
            "6287/6287 [==============================] - 139s 22ms/step - loss: 1.1405 - acc: 0.6790 - val_loss: 1.8084 - val_acc: 0.5781\n",
            "Epoch 28/30\n",
            "6287/6287 [==============================] - 139s 22ms/step - loss: 1.1320 - acc: 0.6835 - val_loss: 1.7679 - val_acc: 0.5792\n",
            "Epoch 29/30\n",
            "6287/6287 [==============================] - 139s 22ms/step - loss: 1.1252 - acc: 0.6865 - val_loss: 1.7826 - val_acc: 0.5826\n",
            "Epoch 30/30\n",
            "6287/6287 [==============================] - 141s 22ms/step - loss: 1.0960 - acc: 0.6922 - val_loss: 1.8388 - val_acc: 0.5948\n"
          ],
          "name": "stdout"
        }
      ]
    },
    {
      "cell_type": "code",
      "metadata": {
        "id": "S83GnhvkF1i2",
        "colab_type": "code",
        "outputId": "b93b2174-e47a-4ac5-fd4f-f5f7b210c29e",
        "colab": {
          "base_uri": "https://localhost:8080/",
          "height": 329
        }
      },
      "source": [
        "stacked_rnn_model.summary()"
      ],
      "execution_count": 0,
      "outputs": [
        {
          "output_type": "stream",
          "text": [
            "Model: \"sequential_4\"\n",
            "_________________________________________________________________\n",
            "Layer (type)                 Output Shape              Param #   \n",
            "=================================================================\n",
            "embedding_4 (Embedding)      (None, None, 64)          640000    \n",
            "_________________________________________________________________\n",
            "lstm_5 (LSTM)                (None, None, 32)          12416     \n",
            "_________________________________________________________________\n",
            "lstm_6 (LSTM)                (None, None, 32)          8320      \n",
            "_________________________________________________________________\n",
            "lstm_7 (LSTM)                (None, 32)                8320      \n",
            "_________________________________________________________________\n",
            "dense_3 (Dense)              (None, 46)                1518      \n",
            "=================================================================\n",
            "Total params: 670,574\n",
            "Trainable params: 670,574\n",
            "Non-trainable params: 0\n",
            "_________________________________________________________________\n"
          ],
          "name": "stdout"
        }
      ]
    },
    {
      "cell_type": "code",
      "metadata": {
        "id": "4kp4HdInF4hb",
        "colab_type": "code",
        "outputId": "1fc0ebbf-0fc9-43f7-9761-6e33f7d1a759",
        "colab": {
          "base_uri": "https://localhost:8080/",
          "height": 545
        }
      },
      "source": [
        "import matplotlib.pyplot as plt\n",
        "\n",
        "acc = history.history['acc']\n",
        "val_acc = history.history['val_acc']\n",
        "loss = history.history['loss']\n",
        "val_loss = history.history['val_loss']\n",
        "\n",
        "epochs = range(len(acc))\n",
        "\n",
        "plt.plot(epochs, acc, 'bo', label='Training acc')\n",
        "plt.plot(epochs, val_acc, 'b', label='Validation acc')\n",
        "plt.title('Training and validation accuracy')\n",
        "plt.legend()\n",
        "\n",
        "plt.figure()\n",
        "\n",
        "plt.plot(epochs, loss, 'bo', label='Training loss')\n",
        "plt.plot(epochs, val_loss, 'b', label='Validation loss')\n",
        "plt.title('Training and validation loss')\n",
        "plt.legend()\n",
        "\n",
        "plt.show()"
      ],
      "execution_count": 0,
      "outputs": [
        {
          "output_type": "display_data",
          "data": {
            "image/png": "[encoded data removed]",
            "text/plain": [
              "<Figure size 432x288 with 1 Axes>"
            ]
          },
          "metadata": {
            "tags": []
          }
        },
        {
          "output_type": "display_data",
          "data": {
            "image/png": "[encoded data removed]",
            "text/plain": [
              "<Figure size 432x288 with 1 Axes>"
            ]
          },
          "metadata": {
            "tags": []
          }
        }
      ]
    },
    {
      "cell_type": "code",
      "metadata": {
        "id": "7bVxSlkayWEA",
        "colab_type": "code",
        "colab": {
          "base_uri": "https://localhost:8080/",
          "height": 1000
        },
        "outputId": "5d8d88e8-a14e-476d-90dc-decd8f7d0e91"
      },
      "source": [
        "\n",
        "stacked_rnn_model = Sequential()\n",
        "stacked_rnn_model.add(Embedding(10000, 64))\n",
        "stacked_rnn_model.add(layers.LSTM(32,dropout=0.2, recurrent_dropout=0.2,return_sequences=True))\n",
        "stacked_rnn_model.add(layers.LSTM(32,dropout=0.2, recurrent_dropout=0.2,return_sequences=True))\n",
        "stacked_rnn_model.add(layers.LSTM(32,dropout=0.2, recurrent_dropout=0.2))\n",
        "stacked_rnn_model.add(layers.Dense(46,activation='softmax'))\n",
        "\n",
        "stacked_rnn_model.compile(optimizer='rmsprop', loss='categorical_crossentropy', metrics=['accuracy'])\n",
        "history = stacked_rnn_model.fit(train_data, train_labels,\n",
        "                    epochs=30,\n",
        "                    batch_size=128,\n",
        "                    validation_split=0.3)\n",
        "results = stacked_rnn_model.evaluate(test_data, test_labels)"
      ],
      "execution_count": 41,
      "outputs": [
        {
          "output_type": "stream",
          "text": [
            "Train on 6287 samples, validate on 2695 samples\n",
            "Epoch 1/30\n",
            "6287/6287 [==============================] - 155s 25ms/step - loss: 2.7103 - acc: 0.3188 - val_loss: 2.2949 - val_acc: 0.4620\n",
            "Epoch 2/30\n",
            "6287/6287 [==============================] - 149s 24ms/step - loss: 2.1139 - acc: 0.4264 - val_loss: 1.8820 - val_acc: 0.5002\n",
            "Epoch 3/30\n",
            "6287/6287 [==============================] - 147s 23ms/step - loss: 1.8631 - acc: 0.4923 - val_loss: 1.8082 - val_acc: 0.5217\n",
            "Epoch 4/30\n",
            "6287/6287 [==============================] - 148s 24ms/step - loss: 1.7633 - acc: 0.5239 - val_loss: 1.7658 - val_acc: 0.5462\n",
            "Epoch 5/30\n",
            "6287/6287 [==============================] - 148s 24ms/step - loss: 1.6877 - acc: 0.5406 - val_loss: 1.7241 - val_acc: 0.5473\n",
            "Epoch 6/30\n",
            "6287/6287 [==============================] - 154s 25ms/step - loss: 1.6377 - acc: 0.5486 - val_loss: 1.7707 - val_acc: 0.5473\n",
            "Epoch 7/30\n",
            "6287/6287 [==============================] - 156s 25ms/step - loss: 1.5983 - acc: 0.5572 - val_loss: 1.6808 - val_acc: 0.5662\n",
            "Epoch 8/30\n",
            "6287/6287 [==============================] - 152s 24ms/step - loss: 1.5755 - acc: 0.5567 - val_loss: 1.8321 - val_acc: 0.5503\n",
            "Epoch 9/30\n",
            "6287/6287 [==============================] - 148s 24ms/step - loss: 1.5356 - acc: 0.5612 - val_loss: 1.7315 - val_acc: 0.5455\n",
            "Epoch 10/30\n",
            "6287/6287 [==============================] - 149s 24ms/step - loss: 1.5050 - acc: 0.5669 - val_loss: 1.7498 - val_acc: 0.5662\n",
            "Epoch 11/30\n",
            "6287/6287 [==============================] - 148s 24ms/step - loss: 1.4706 - acc: 0.5775 - val_loss: 1.7512 - val_acc: 0.5659\n",
            "Epoch 12/30\n",
            "6287/6287 [==============================] - 150s 24ms/step - loss: 1.4508 - acc: 0.5866 - val_loss: 1.7276 - val_acc: 0.5633\n",
            "Epoch 13/30\n",
            "6287/6287 [==============================] - 150s 24ms/step - loss: 1.4343 - acc: 0.5858 - val_loss: 1.7307 - val_acc: 0.5555\n",
            "Epoch 14/30\n",
            "6287/6287 [==============================] - 153s 24ms/step - loss: 1.4174 - acc: 0.5931 - val_loss: 1.8517 - val_acc: 0.5317\n",
            "Epoch 15/30\n",
            "6287/6287 [==============================] - 150s 24ms/step - loss: 1.3807 - acc: 0.5973 - val_loss: 1.7650 - val_acc: 0.5458\n",
            "Epoch 16/30\n",
            "6287/6287 [==============================] - 150s 24ms/step - loss: 1.3601 - acc: 0.6012 - val_loss: 1.8686 - val_acc: 0.5555\n",
            "Epoch 17/30\n",
            "6287/6287 [==============================] - 151s 24ms/step - loss: 1.3360 - acc: 0.6094 - val_loss: 1.7675 - val_acc: 0.5588\n",
            "Epoch 18/30\n",
            "6287/6287 [==============================] - 151s 24ms/step - loss: 1.3293 - acc: 0.6076 - val_loss: 1.8016 - val_acc: 0.5588\n",
            "Epoch 19/30\n",
            "6287/6287 [==============================] - 150s 24ms/step - loss: 1.3004 - acc: 0.6270 - val_loss: 1.7624 - val_acc: 0.5655\n",
            "Epoch 20/30\n",
            "6287/6287 [==============================] - 151s 24ms/step - loss: 1.2727 - acc: 0.6286 - val_loss: 1.8026 - val_acc: 0.5403\n",
            "Epoch 21/30\n",
            "6287/6287 [==============================] - 151s 24ms/step - loss: 1.2632 - acc: 0.6264 - val_loss: 1.7990 - val_acc: 0.5688\n",
            "Epoch 22/30\n",
            "6287/6287 [==============================] - 151s 24ms/step - loss: 1.2410 - acc: 0.6323 - val_loss: 1.7687 - val_acc: 0.5699\n",
            "Epoch 23/30\n",
            "6287/6287 [==============================] - 151s 24ms/step - loss: 1.2323 - acc: 0.6391 - val_loss: 1.7691 - val_acc: 0.5625\n",
            "Epoch 24/30\n",
            "6287/6287 [==============================] - 153s 24ms/step - loss: 1.2097 - acc: 0.6486 - val_loss: 1.8275 - val_acc: 0.5655\n",
            "Epoch 25/30\n",
            "6287/6287 [==============================] - 153s 24ms/step - loss: 1.1957 - acc: 0.6464 - val_loss: 1.8590 - val_acc: 0.5536\n",
            "Epoch 26/30\n",
            "6287/6287 [==============================] - 151s 24ms/step - loss: 1.1769 - acc: 0.6574 - val_loss: 1.7886 - val_acc: 0.5633\n",
            "Epoch 27/30\n",
            "6287/6287 [==============================] - 150s 24ms/step - loss: 1.1712 - acc: 0.6555 - val_loss: 1.8147 - val_acc: 0.5447\n",
            "Epoch 28/30\n",
            "6287/6287 [==============================] - 152s 24ms/step - loss: 1.1419 - acc: 0.6674 - val_loss: 1.8034 - val_acc: 0.5666\n",
            "Epoch 29/30\n",
            "6287/6287 [==============================] - 153s 24ms/step - loss: 1.1234 - acc: 0.6728 - val_loss: 1.8188 - val_acc: 0.5633\n",
            "Epoch 30/30\n",
            "6287/6287 [==============================] - 151s 24ms/step - loss: 1.1179 - acc: 0.6746 - val_loss: 1.8462 - val_acc: 0.5718\n",
            "2246/2246 [==============================] - 18s 8ms/step\n"
          ],
          "name": "stdout"
        }
      ]
    },
    {
      "cell_type": "code",
      "metadata": {
        "id": "s0yb-iRmycJa",
        "colab_type": "code",
        "colab": {
          "base_uri": "https://localhost:8080/",
          "height": 35
        },
        "outputId": "26203990-85da-4010-8961-6a4689975dad"
      },
      "source": [
        "results"
      ],
      "execution_count": 42,
      "outputs": [
        {
          "output_type": "execute_result",
          "data": {
            "text/plain": [
              "[2.0048044679001413, 0.5569902048616248]"
            ]
          },
          "metadata": {
            "tags": []
          },
          "execution_count": 42
        }
      ]
    }
  ]
}