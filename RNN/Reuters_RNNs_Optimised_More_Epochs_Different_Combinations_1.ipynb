{
  "nbformat": 4,
  "nbformat_minor": 0,
  "metadata": {
    "kernelspec": {
      "name": "python3",
      "display_name": "Python 3"
    },
    "language_info": {
      "codemirror_mode": {
        "name": "ipython",
        "version": 3
      },
      "file_extension": ".py",
      "mimetype": "text/x-python",
      "name": "python",
      "nbconvert_exporter": "python",
      "pygments_lexer": "ipython3",
      "version": "3.7.4"
    },
    "colab": {
      "name": "Reuters_RNNs_Optimised_More_Epochs_Different_Combinations_1.ipynb",
      "provenance": [],
      "collapsed_sections": []
    },
    "accelerator": "TPU"
  },
  "cells": [
    {
      "cell_type": "code",
      "metadata": {
        "id": "vWJpAkeswyu6",
        "colab_type": "code",
        "outputId": "54773530-5b21-40cd-cc54-febe560c1358",
        "colab": {
          "base_uri": "https://localhost:8080/",
          "height": 52
        }
      },
      "source": [
        "import keras\n",
        "keras.__version__"
      ],
      "execution_count": 1,
      "outputs": [
        {
          "output_type": "stream",
          "text": [
            "Using TensorFlow backend.\n"
          ],
          "name": "stderr"
        },
        {
          "output_type": "execute_result",
          "data": {
            "text/plain": [
              "'2.2.5'"
            ]
          },
          "metadata": {
            "tags": []
          },
          "execution_count": 1
        }
      ]
    },
    {
      "cell_type": "markdown",
      "metadata": {
        "id": "rboBtBqcThw5",
        "colab_type": "text"
      },
      "source": [
        "## The Reuters dataset\n",
        "\n",
        "[link text](https://)"
      ]
    },
    {
      "cell_type": "code",
      "metadata": {
        "id": "5uwR5XY0wyvJ",
        "colab_type": "code",
        "colab": {}
      },
      "source": [
        "from keras.layers import SimpleRNN\n",
        "from keras.models import Sequential\n",
        "from keras.layers import Embedding\n",
        "from keras.layers import Dense\n",
        "from keras.datasets import reuters\n",
        "from keras.preprocessing import sequence\n",
        "\n"
      ],
      "execution_count": 0,
      "outputs": []
    },
    {
      "cell_type": "markdown",
      "metadata": {
        "id": "sL6-7kKVTPJc",
        "colab_type": "text"
      },
      "source": [
        "\n",
        "Like with the IMDB dataset, the argument `num_words=10000` restricts the data to the 10,000 most frequently occurring words found in the \n",
        "data.\n",
        "\n",
        "We have 8,982 training examples and 2,246 test examples:"
      ]
    },
    {
      "cell_type": "code",
      "metadata": {
        "id": "iVN9SFfIwyvX",
        "colab_type": "code",
        "outputId": "c82766eb-47ce-4ec5-b0d5-56ffdede5b6f",
        "colab": {
          "base_uri": "https://localhost:8080/",
          "height": 52
        }
      },
      "source": [
        "(train_data, train_labels), (test_data, test_labels) = reuters.load_data(num_words=10000)"
      ],
      "execution_count": 3,
      "outputs": [
        {
          "output_type": "stream",
          "text": [
            "Downloading data from https://s3.amazonaws.com/text-datasets/reuters.npz\n",
            "2113536/2110848 [==============================] - 0s 0us/step\n"
          ],
          "name": "stdout"
        }
      ]
    },
    {
      "cell_type": "code",
      "metadata": {
        "id": "9RDH9Eb4wyvg",
        "colab_type": "code",
        "outputId": "8fcbd32d-90b9-4e70-9e5e-083c9d71a49f",
        "colab": {
          "base_uri": "https://localhost:8080/",
          "height": 35
        }
      },
      "source": [
        "len(train_data)"
      ],
      "execution_count": 4,
      "outputs": [
        {
          "output_type": "execute_result",
          "data": {
            "text/plain": [
              "8982"
            ]
          },
          "metadata": {
            "tags": []
          },
          "execution_count": 4
        }
      ]
    },
    {
      "cell_type": "code",
      "metadata": {
        "id": "RuIzMRBUwyvm",
        "colab_type": "code",
        "outputId": "f9509c08-e9ca-45ff-c6fe-c1a75173e6e0",
        "colab": {
          "base_uri": "https://localhost:8080/",
          "height": 35
        }
      },
      "source": [
        "len(test_data)"
      ],
      "execution_count": 5,
      "outputs": [
        {
          "output_type": "execute_result",
          "data": {
            "text/plain": [
              "2246"
            ]
          },
          "metadata": {
            "tags": []
          },
          "execution_count": 5
        }
      ]
    },
    {
      "cell_type": "code",
      "metadata": {
        "id": "NTkaZRWqwyvs",
        "colab_type": "code",
        "outputId": "963642ee-dc84-4e0d-d5be-9e027b776f8f",
        "colab": {
          "base_uri": "https://localhost:8080/",
          "height": 568
        }
      },
      "source": [
        "train_data[10]"
      ],
      "execution_count": 6,
      "outputs": [
        {
          "output_type": "execute_result",
          "data": {
            "text/plain": [
              "[1,\n",
              " 245,\n",
              " 273,\n",
              " 207,\n",
              " 156,\n",
              " 53,\n",
              " 74,\n",
              " 160,\n",
              " 26,\n",
              " 14,\n",
              " 46,\n",
              " 296,\n",
              " 26,\n",
              " 39,\n",
              " 74,\n",
              " 2979,\n",
              " 3554,\n",
              " 14,\n",
              " 46,\n",
              " 4689,\n",
              " 4329,\n",
              " 86,\n",
              " 61,\n",
              " 3499,\n",
              " 4795,\n",
              " 14,\n",
              " 61,\n",
              " 451,\n",
              " 4329,\n",
              " 17,\n",
              " 12]"
            ]
          },
          "metadata": {
            "tags": []
          },
          "execution_count": 6
        }
      ]
    },
    {
      "cell_type": "code",
      "metadata": {
        "id": "9v4W_hbnwyvw",
        "colab_type": "code",
        "outputId": "939e347e-e4ec-4b27-9e6e-405303eec6ff",
        "colab": {
          "base_uri": "https://localhost:8080/",
          "height": 52
        }
      },
      "source": [
        "word_index = reuters.get_word_index()\n",
        "reverse_word_index = dict([(value, key) for (key, value) in word_index.items()])\n",
        "# Note that our indices were offset by 3\n",
        "# because 0, 1 and 2 are reserved indices for \"padding\", \"start of sequence\", and \"unknown\".\n",
        "decoded_newswire = ' '.join([reverse_word_index.get(i - 3, '?') for i in train_data[0]])"
      ],
      "execution_count": 7,
      "outputs": [
        {
          "output_type": "stream",
          "text": [
            "Downloading data from https://s3.amazonaws.com/text-datasets/reuters_word_index.json\n",
            "557056/550378 [==============================] - 0s 0us/step\n"
          ],
          "name": "stdout"
        }
      ]
    },
    {
      "cell_type": "code",
      "metadata": {
        "id": "rW9QYm4Pwyvy",
        "colab_type": "code",
        "outputId": "d9c4ed55-507b-46d3-d3d7-a69105986dfe",
        "colab": {
          "base_uri": "https://localhost:8080/",
          "height": 55
        }
      },
      "source": [
        "decoded_newswire"
      ],
      "execution_count": 8,
      "outputs": [
        {
          "output_type": "execute_result",
          "data": {
            "text/plain": [
              "'? ? ? said as a result of its december acquisition of space co it expects earnings per share in 1987 of 1 15 to 1 30 dlrs per share up from 70 cts in 1986 the company said pretax net should rise to nine to 10 mln dlrs from six mln dlrs in 1986 and rental operation revenues to 19 to 22 mln dlrs from 12 5 mln dlrs it said cash flow per share this year should be 2 50 to three dlrs reuter 3'"
            ]
          },
          "metadata": {
            "tags": []
          },
          "execution_count": 8
        }
      ]
    },
    {
      "cell_type": "code",
      "metadata": {
        "id": "jMg9FBqXwyv1",
        "colab_type": "code",
        "outputId": "2c075d57-f59c-48a8-c67c-de5fbdff0607",
        "colab": {
          "base_uri": "https://localhost:8080/",
          "height": 35
        }
      },
      "source": [
        "train_labels[10]"
      ],
      "execution_count": 9,
      "outputs": [
        {
          "output_type": "execute_result",
          "data": {
            "text/plain": [
              "3"
            ]
          },
          "metadata": {
            "tags": []
          },
          "execution_count": 9
        }
      ]
    },
    {
      "cell_type": "markdown",
      "metadata": {
        "id": "KFFEhgNMwyv3",
        "colab_type": "text"
      },
      "source": [
        "## Preparing the data\n",
        "We are limiting the maximum length of the newswire to 700 words."
      ]
    },
    {
      "cell_type": "code",
      "metadata": {
        "id": "fCItXrqbwyv4",
        "colab_type": "code",
        "colab": {}
      },
      "source": [
        "word_length = 700"
      ],
      "execution_count": 0,
      "outputs": []
    },
    {
      "cell_type": "code",
      "metadata": {
        "id": "xu4cB2f5wyv6",
        "colab_type": "code",
        "colab": {}
      },
      "source": [
        "train_data = sequence.pad_sequences(train_data, maxlen=word_length)\n",
        "test_data = sequence.pad_sequences(test_data, maxlen=word_length)"
      ],
      "execution_count": 0,
      "outputs": []
    },
    {
      "cell_type": "code",
      "metadata": {
        "id": "8bc5tqlP9CN6",
        "colab_type": "code",
        "colab": {}
      },
      "source": [
        "from keras.utils import np_utils\n",
        "\n",
        "train_labels = np_utils.to_categorical(train_labels, 46)\n",
        "test_labels = np_utils.to_categorical(test_labels, 46)"
      ],
      "execution_count": 0,
      "outputs": []
    },
    {
      "cell_type": "markdown",
      "metadata": {
        "id": "BtGKjoKAwyv8",
        "colab_type": "text"
      },
      "source": [
        "## Building our network\n",
        "### Stacking RNNs increasing number of units adding dense layers\n",
        "\n",
        "Here, we will be creating complex network using LSTM and Dense flavor of RNNs.\n",
        "Here, we use 3 LSTM with 128 units each & 3 Dense layers of 512 units. Optimizer used is rmsprop using and loss is categorical cross entropy. Metrics used to evaluate is accuracy. We use 70-30 split for cross validation.\n"
      ]
    },
    {
      "cell_type": "code",
      "metadata": {
        "id": "xhffU-prkw0-",
        "colab_type": "code",
        "outputId": "a7af54e0-e4eb-4d83-b142-a5962856dea4",
        "colab": {
          "base_uri": "https://localhost:8080/",
          "height": 1000
        }
      },
      "source": [
        "from keras.models import Sequential\n",
        "from keras import layers\n",
        "from keras.optimizers import RMSprop\n",
        "\n",
        "high_unit_stacked_lstm_dense = Sequential()\n",
        "high_unit_stacked_lstm_dense.add(Embedding(10000, 64))\n",
        "high_unit_stacked_lstm_dense.add(layers.LSTM(128,dropout=0.2, recurrent_dropout=0.2,return_sequences=True))\n",
        "high_unit_stacked_lstm_dense.add(layers.LSTM(128,dropout=0.2, recurrent_dropout=0.2,return_sequences=True))\n",
        "high_unit_stacked_lstm_dense.add(layers.LSTM(128,dropout=0.2, recurrent_dropout=0.2))\n",
        "high_unit_stacked_lstm_dense.add(layers.Dense(512, activation='relu'))\n",
        "high_unit_stacked_lstm_dense.add(layers.Dense(512, activation='relu'))\n",
        "high_unit_stacked_lstm_dense.add(layers.Dense(46,activation='softmax'))\n",
        "\n",
        "high_unit_stacked_lstm_dense.compile(optimizer='rmsprop', loss='categorical_crossentropy', metrics=['accuracy'])\n",
        "history = high_unit_stacked_lstm_dense.fit(train_data, train_labels,\n",
        "                    epochs=30,\n",
        "                    batch_size=128,\n",
        "                    validation_split=0.3)"
      ],
      "execution_count": 0,
      "outputs": [
        {
          "output_type": "stream",
          "text": [
            "WARNING:tensorflow:From /usr/local/lib/python3.6/dist-packages/keras/backend/tensorflow_backend.py:66: The name tf.get_default_graph is deprecated. Please use tf.compat.v1.get_default_graph instead.\n",
            "\n",
            "WARNING:tensorflow:From /usr/local/lib/python3.6/dist-packages/keras/backend/tensorflow_backend.py:541: The name tf.placeholder is deprecated. Please use tf.compat.v1.placeholder instead.\n",
            "\n",
            "WARNING:tensorflow:From /usr/local/lib/python3.6/dist-packages/keras/backend/tensorflow_backend.py:4432: The name tf.random_uniform is deprecated. Please use tf.random.uniform instead.\n",
            "\n",
            "WARNING:tensorflow:From /usr/local/lib/python3.6/dist-packages/keras/backend/tensorflow_backend.py:148: The name tf.placeholder_with_default is deprecated. Please use tf.compat.v1.placeholder_with_default instead.\n",
            "\n",
            "WARNING:tensorflow:From /usr/local/lib/python3.6/dist-packages/keras/backend/tensorflow_backend.py:3733: calling dropout (from tensorflow.python.ops.nn_ops) with keep_prob is deprecated and will be removed in a future version.\n",
            "Instructions for updating:\n",
            "Please use `rate` instead of `keep_prob`. Rate should be set to `rate = 1 - keep_prob`.\n",
            "WARNING:tensorflow:From /usr/local/lib/python3.6/dist-packages/keras/optimizers.py:793: The name tf.train.Optimizer is deprecated. Please use tf.compat.v1.train.Optimizer instead.\n",
            "\n",
            "WARNING:tensorflow:From /usr/local/lib/python3.6/dist-packages/keras/backend/tensorflow_backend.py:3576: The name tf.log is deprecated. Please use tf.math.log instead.\n",
            "\n",
            "WARNING:tensorflow:From /usr/local/lib/python3.6/dist-packages/tensorflow_core/python/ops/math_grad.py:1424: where (from tensorflow.python.ops.array_ops) is deprecated and will be removed in a future version.\n",
            "Instructions for updating:\n",
            "Use tf.where in 2.0, which has the same broadcast rule as np.where\n",
            "WARNING:tensorflow:From /usr/local/lib/python3.6/dist-packages/keras/backend/tensorflow_backend.py:1033: The name tf.assign_add is deprecated. Please use tf.compat.v1.assign_add instead.\n",
            "\n",
            "WARNING:tensorflow:From /usr/local/lib/python3.6/dist-packages/keras/backend/tensorflow_backend.py:1020: The name tf.assign is deprecated. Please use tf.compat.v1.assign instead.\n",
            "\n",
            "WARNING:tensorflow:From /usr/local/lib/python3.6/dist-packages/keras/backend/tensorflow_backend.py:3005: The name tf.Session is deprecated. Please use tf.compat.v1.Session instead.\n",
            "\n",
            "Train on 6287 samples, validate on 2695 samples\n",
            "Epoch 1/30\n",
            "WARNING:tensorflow:From /usr/local/lib/python3.6/dist-packages/keras/backend/tensorflow_backend.py:190: The name tf.get_default_session is deprecated. Please use tf.compat.v1.get_default_session instead.\n",
            "\n",
            "WARNING:tensorflow:From /usr/local/lib/python3.6/dist-packages/keras/backend/tensorflow_backend.py:197: The name tf.ConfigProto is deprecated. Please use tf.compat.v1.ConfigProto instead.\n",
            "\n",
            "WARNING:tensorflow:From /usr/local/lib/python3.6/dist-packages/keras/backend/tensorflow_backend.py:207: The name tf.global_variables is deprecated. Please use tf.compat.v1.global_variables instead.\n",
            "\n",
            "WARNING:tensorflow:From /usr/local/lib/python3.6/dist-packages/keras/backend/tensorflow_backend.py:216: The name tf.is_variable_initialized is deprecated. Please use tf.compat.v1.is_variable_initialized instead.\n",
            "\n",
            "WARNING:tensorflow:From /usr/local/lib/python3.6/dist-packages/keras/backend/tensorflow_backend.py:223: The name tf.variables_initializer is deprecated. Please use tf.compat.v1.variables_initializer instead.\n",
            "\n",
            "6287/6287 [==============================] - 415s 66ms/step - loss: 10.0884 - acc: 0.3391 - val_loss: 10.4244 - val_acc: 0.3532\n",
            "Epoch 2/30\n",
            "6287/6287 [==============================] - 416s 66ms/step - loss: 10.4600 - acc: 0.3510 - val_loss: 10.4244 - val_acc: 0.3532\n",
            "Epoch 3/30\n",
            "6287/6287 [==============================] - 414s 66ms/step - loss: 10.4600 - acc: 0.3510 - val_loss: 10.4244 - val_acc: 0.3532\n",
            "Epoch 4/30\n",
            "6287/6287 [==============================] - 414s 66ms/step - loss: 10.4600 - acc: 0.3510 - val_loss: 10.4244 - val_acc: 0.3532\n",
            "Epoch 5/30\n",
            "6287/6287 [==============================] - 420s 67ms/step - loss: 10.4600 - acc: 0.3510 - val_loss: 10.4244 - val_acc: 0.3532\n",
            "Epoch 6/30\n",
            "6287/6287 [==============================] - 423s 67ms/step - loss: 10.4600 - acc: 0.3510 - val_loss: 10.4244 - val_acc: 0.3532\n",
            "Epoch 7/30\n",
            "6287/6287 [==============================] - 420s 67ms/step - loss: 10.4600 - acc: 0.3510 - val_loss: 10.4244 - val_acc: 0.3532\n",
            "Epoch 8/30\n",
            "6287/6287 [==============================] - 421s 67ms/step - loss: 10.4600 - acc: 0.3510 - val_loss: 10.4244 - val_acc: 0.3532\n",
            "Epoch 9/30\n",
            "6287/6287 [==============================] - 417s 66ms/step - loss: 10.4600 - acc: 0.3510 - val_loss: 10.4244 - val_acc: 0.3532\n",
            "Epoch 10/30\n",
            "6287/6287 [==============================] - 416s 66ms/step - loss: 10.4600 - acc: 0.3510 - val_loss: 10.4244 - val_acc: 0.3532\n",
            "Epoch 11/30\n",
            "6287/6287 [==============================] - 416s 66ms/step - loss: 10.4600 - acc: 0.3510 - val_loss: 10.4244 - val_acc: 0.3532\n",
            "Epoch 12/30\n",
            "6287/6287 [==============================] - 412s 66ms/step - loss: 10.4600 - acc: 0.3510 - val_loss: 10.4244 - val_acc: 0.3532\n",
            "Epoch 13/30\n",
            "6287/6287 [==============================] - 404s 64ms/step - loss: 10.4600 - acc: 0.3510 - val_loss: 10.4244 - val_acc: 0.3532\n",
            "Epoch 14/30\n",
            "6287/6287 [==============================] - 402s 64ms/step - loss: 10.4600 - acc: 0.3510 - val_loss: 10.4244 - val_acc: 0.3532\n",
            "Epoch 15/30\n",
            "6287/6287 [==============================] - 401s 64ms/step - loss: 10.4600 - acc: 0.3510 - val_loss: 10.4244 - val_acc: 0.3532\n",
            "Epoch 16/30\n",
            "6287/6287 [==============================] - 401s 64ms/step - loss: 10.4600 - acc: 0.3510 - val_loss: 10.4244 - val_acc: 0.3532\n",
            "Epoch 17/30\n",
            "6287/6287 [==============================] - 404s 64ms/step - loss: 10.4600 - acc: 0.3510 - val_loss: 10.4244 - val_acc: 0.3532\n",
            "Epoch 18/30\n",
            "6287/6287 [==============================] - 405s 64ms/step - loss: 10.4600 - acc: 0.3510 - val_loss: 10.4244 - val_acc: 0.3532\n",
            "Epoch 19/30\n",
            "6287/6287 [==============================] - 405s 64ms/step - loss: 10.4600 - acc: 0.3510 - val_loss: 10.4244 - val_acc: 0.3532\n",
            "Epoch 20/30\n",
            "6287/6287 [==============================] - 407s 65ms/step - loss: 10.4600 - acc: 0.3510 - val_loss: 10.4244 - val_acc: 0.3532\n",
            "Epoch 21/30\n",
            "6287/6287 [==============================] - 410s 65ms/step - loss: 10.4600 - acc: 0.3510 - val_loss: 10.4244 - val_acc: 0.3532\n",
            "Epoch 22/30\n",
            "6287/6287 [==============================] - 407s 65ms/step - loss: 10.4600 - acc: 0.3510 - val_loss: 10.4244 - val_acc: 0.3532\n",
            "Epoch 23/30\n",
            "6287/6287 [==============================] - 402s 64ms/step - loss: 10.4600 - acc: 0.3510 - val_loss: 10.4244 - val_acc: 0.3532\n",
            "Epoch 24/30\n",
            "6287/6287 [==============================] - 408s 65ms/step - loss: 10.4600 - acc: 0.3510 - val_loss: 10.4244 - val_acc: 0.3532\n",
            "Epoch 25/30\n",
            "6287/6287 [==============================] - 410s 65ms/step - loss: 10.4600 - acc: 0.3510 - val_loss: 10.4244 - val_acc: 0.3532\n",
            "Epoch 26/30\n",
            "6287/6287 [==============================] - 410s 65ms/step - loss: 10.4600 - acc: 0.3510 - val_loss: 10.4244 - val_acc: 0.3532\n",
            "Epoch 27/30\n",
            "6287/6287 [==============================] - 411s 65ms/step - loss: 10.4600 - acc: 0.3510 - val_loss: 10.4244 - val_acc: 0.3532\n",
            "Epoch 28/30\n",
            "6287/6287 [==============================] - 410s 65ms/step - loss: 10.4600 - acc: 0.3510 - val_loss: 10.4244 - val_acc: 0.3532\n",
            "Epoch 29/30\n",
            "6287/6287 [==============================] - 408s 65ms/step - loss: 10.4600 - acc: 0.3510 - val_loss: 10.4244 - val_acc: 0.3532\n",
            "Epoch 30/30\n",
            "6287/6287 [==============================] - 408s 65ms/step - loss: 10.4600 - acc: 0.3510 - val_loss: 10.4244 - val_acc: 0.3532\n"
          ],
          "name": "stdout"
        }
      ]
    },
    {
      "cell_type": "code",
      "metadata": {
        "id": "_MpGReiB3t3P",
        "colab_type": "code",
        "colab": {}
      },
      "source": [
        ""
      ],
      "execution_count": 0,
      "outputs": []
    },
    {
      "cell_type": "code",
      "metadata": {
        "id": "rilbpWTEk3JA",
        "colab_type": "code",
        "outputId": "bad3fae5-efdc-4d69-9a55-f5509681fd54",
        "colab": {
          "base_uri": "https://localhost:8080/",
          "height": 408
        }
      },
      "source": [
        "high_unit_stacked_lstm_dense.summary()"
      ],
      "execution_count": 0,
      "outputs": [
        {
          "output_type": "stream",
          "text": [
            "Model: \"sequential_1\"\n",
            "_________________________________________________________________\n",
            "Layer (type)                 Output Shape              Param #   \n",
            "=================================================================\n",
            "embedding_1 (Embedding)      (None, None, 64)          640000    \n",
            "_________________________________________________________________\n",
            "lstm_1 (LSTM)                (None, None, 128)         98816     \n",
            "_________________________________________________________________\n",
            "lstm_2 (LSTM)                (None, None, 128)         131584    \n",
            "_________________________________________________________________\n",
            "lstm_3 (LSTM)                (None, 128)               131584    \n",
            "_________________________________________________________________\n",
            "dense_1 (Dense)              (None, 512)               66048     \n",
            "_________________________________________________________________\n",
            "dense_2 (Dense)              (None, 512)               262656    \n",
            "_________________________________________________________________\n",
            "dense_3 (Dense)              (None, 46)                23598     \n",
            "=================================================================\n",
            "Total params: 1,354,286\n",
            "Trainable params: 1,354,286\n",
            "Non-trainable params: 0\n",
            "_________________________________________________________________\n"
          ],
          "name": "stdout"
        }
      ]
    },
    {
      "cell_type": "code",
      "metadata": {
        "id": "uwogbIbGk4nD",
        "colab_type": "code",
        "outputId": "bf97b55c-2102-4ed1-a395-b880a8c05086",
        "colab": {
          "base_uri": "https://localhost:8080/",
          "height": 545
        }
      },
      "source": [
        "import matplotlib.pyplot as plt\n",
        "\n",
        "acc = history.history['acc']\n",
        "val_acc = history.history['val_acc']\n",
        "loss = history.history['loss']\n",
        "val_loss = history.history['val_loss']\n",
        "\n",
        "epochs = range(len(acc))\n",
        "\n",
        "plt.plot(epochs, acc, 'bo', label='Training acc')\n",
        "plt.plot(epochs, val_acc, 'b', label='Validation acc')\n",
        "plt.title('Training and validation accuracy')\n",
        "plt.legend()\n",
        "\n",
        "plt.figure()\n",
        "\n",
        "plt.plot(epochs, loss, 'bo', label='Training loss')\n",
        "plt.plot(epochs, val_loss, 'b', label='Validation loss')\n",
        "plt.title('Training and validation loss')\n",
        "plt.legend()\n",
        "\n",
        "plt.show()"
      ],
      "execution_count": 0,
      "outputs": [
        {
          "output_type": "display_data",
          "data": {
            "image/png": "[encoded data removed]",
            "text/plain": [
              "<Figure size 432x288 with 1 Axes>"
            ]
          },
          "metadata": {
            "tags": []
          }
        },
        {
          "output_type": "display_data",
          "data": {
            "image/png": "[encoded data removed]",
            "text/plain": [
              "<Figure size 432x288 with 1 Axes>"
            ]
          },
          "metadata": {
            "tags": []
          }
        }
      ]
    },
    {
      "cell_type": "markdown",
      "metadata": {
        "id": "hl80Vp1zEjwO",
        "colab_type": "text"
      },
      "source": [
        "This plot indicates that network does not learn using with current data as accuarcy and loss never changes significantly."
      ]
    },
    {
      "cell_type": "code",
      "metadata": {
        "id": "MPgTt9xzz4ym",
        "colab_type": "code",
        "outputId": "f8023a79-2335-4d56-d0e4-e3270832ade7",
        "colab": {
          "base_uri": "https://localhost:8080/",
          "height": 230
        }
      },
      "source": [
        "\n",
        "\n",
        "high_unit_stacked_lstm_dense = Sequential()\n",
        "high_unit_stacked_lstm_dense.add(Embedding(10000, 64))\n",
        "high_unit_stacked_lstm_dense.add(layers.LSTM(128,dropout=0.2, recurrent_dropout=0.2,return_sequences=True))\n",
        "high_unit_stacked_lstm_dense.add(layers.LSTM(128,dropout=0.2, recurrent_dropout=0.2,return_sequences=True))\n",
        "high_unit_stacked_lstm_dense.add(layers.LSTM(128,dropout=0.2, recurrent_dropout=0.2))\n",
        "high_unit_stacked_lstm_dense.add(layers.Dense(512, activation='relu'))\n",
        "high_unit_stacked_lstm_dense.add(layers.Dense(512, activation='relu'))\n",
        "high_unit_stacked_lstm_dense.add(layers.Dense(46,activation='softmax'))\n",
        "\n",
        "high_unit_stacked_lstm_dense.compile(optimizer='rmsprop', loss='categorical_crossentropy', metrics=['accuracy'])\n",
        "history = high_unit_stacked_lstm_dense.fit(train_data, train_labels,\n",
        "                    epochs=5,\n",
        "                    batch_size=128,\n",
        "                    validation_split=0.3)\n",
        "results = high_unit_stacked_lstm_dense.evaluate(test_data, test_labels)"
      ],
      "execution_count": 0,
      "outputs": [
        {
          "output_type": "stream",
          "text": [
            "Train on 6287 samples, validate on 2695 samples\n",
            "Epoch 1/5\n",
            "6287/6287 [==============================] - 411s 65ms/step - loss: 11.7053 - acc: 0.2222 - val_loss: 12.5476 - val_acc: 0.2215\n",
            "Epoch 2/5\n",
            "6287/6287 [==============================] - 411s 65ms/step - loss: 12.6520 - acc: 0.2150 - val_loss: 12.5476 - val_acc: 0.2215\n",
            "Epoch 3/5\n",
            "6287/6287 [==============================] - 413s 66ms/step - loss: 12.6520 - acc: 0.2150 - val_loss: 12.5476 - val_acc: 0.2215\n",
            "Epoch 4/5\n",
            "6287/6287 [==============================] - 416s 66ms/step - loss: 12.6520 - acc: 0.2150 - val_loss: 12.5476 - val_acc: 0.2215\n",
            "Epoch 5/5\n",
            "6287/6287 [==============================] - 416s 66ms/step - loss: 12.6520 - acc: 0.2150 - val_loss: 12.5476 - val_acc: 0.2215\n",
            "2246/2246 [==============================] - 39s 17ms/step\n"
          ],
          "name": "stdout"
        }
      ]
    },
    {
      "cell_type": "code",
      "metadata": {
        "id": "MvpWnOGYz9PX",
        "colab_type": "code",
        "outputId": "477587ab-e6ec-4bef-b38c-b8891e048f86",
        "colab": {
          "base_uri": "https://localhost:8080/",
          "height": 35
        }
      },
      "source": [
        "results"
      ],
      "execution_count": 0,
      "outputs": [
        {
          "output_type": "execute_result",
          "data": {
            "text/plain": [
              "[12.71650271190667, 0.21104185218165628]"
            ]
          },
          "metadata": {
            "tags": []
          },
          "execution_count": 19
        }
      ]
    },
    {
      "cell_type": "markdown",
      "metadata": {
        "id": "aIHFiaQtFSiP",
        "colab_type": "text"
      },
      "source": [
        "### Observation:\n",
        "The loss of this network is 12.7 which is extremely high and accuracy is low 0.2. This multi layered network may require more data to train. Hence, we would try thin 1-2 layered networks from next iteration."
      ]
    },
    {
      "cell_type": "markdown",
      "metadata": {
        "id": "o3CBGCP63zGR",
        "colab_type": "text"
      },
      "source": [
        "## Changing the learning rate of rmsprop"
      ]
    },
    {
      "cell_type": "code",
      "metadata": {
        "id": "OKs2iSg_3xRV",
        "colab_type": "code",
        "outputId": "8df99046-5c3e-4d58-e543-f4b5bda8312d",
        "colab": {
          "base_uri": "https://localhost:8080/",
          "height": 1000
        }
      },
      "source": [
        "from keras.models import Sequential\n",
        "from keras import layers\n",
        "from keras.optimizers import RMSprop\n",
        "from keras import optimizers\n",
        "\n",
        "learning_rate_change_model = Sequential()\n",
        "learning_rate_change_model.add(Embedding(10000, 64))\n",
        "learning_rate_change_model.add(layers.LSTM(32,dropout=0.2, recurrent_dropout=0.2))\n",
        "learning_rate_change_model.add(layers.Dense(46,activation='softmax'))\n",
        "\n",
        "learning_rate_change_model.compile(optimizer=optimizers.RMSprop(lr=1e-4), loss='categorical_crossentropy', metrics=['accuracy'])\n",
        "history = learning_rate_change_model.fit(train_data, train_labels,\n",
        "                    epochs=30,\n",
        "                    batch_size=128,\n",
        "                    validation_split=0.3)"
      ],
      "execution_count": 0,
      "outputs": [
        {
          "output_type": "stream",
          "text": [
            "Train on 6287 samples, validate on 2695 samples\n",
            "Epoch 1/30\n",
            "6287/6287 [==============================] - 51s 8ms/step - loss: 3.8079 - acc: 0.2617 - val_loss: 3.7886 - val_acc: 0.3603\n",
            "Epoch 2/30\n",
            "6287/6287 [==============================] - 48s 8ms/step - loss: 3.7617 - acc: 0.3711 - val_loss: 3.7230 - val_acc: 0.3852\n",
            "Epoch 3/30\n",
            "6287/6287 [==============================] - 48s 8ms/step - loss: 3.6340 - acc: 0.3137 - val_loss: 3.4833 - val_acc: 0.2275\n",
            "Epoch 4/30\n",
            "6287/6287 [==============================] - 49s 8ms/step - loss: 3.3245 - acc: 0.2613 - val_loss: 3.1002 - val_acc: 0.2215\n",
            "Epoch 5/30\n",
            "6287/6287 [==============================] - 50s 8ms/step - loss: 3.0421 - acc: 0.2292 - val_loss: 2.8933 - val_acc: 0.2215\n",
            "Epoch 6/30\n",
            "6287/6287 [==============================] - 50s 8ms/step - loss: 2.8597 - acc: 0.2246 - val_loss: 2.7539 - val_acc: 0.2215\n",
            "Epoch 7/30\n",
            "6287/6287 [==============================] - 50s 8ms/step - loss: 2.7318 - acc: 0.2263 - val_loss: 2.6490 - val_acc: 0.2215\n",
            "Epoch 8/30\n",
            "6287/6287 [==============================] - 50s 8ms/step - loss: 2.6367 - acc: 0.2430 - val_loss: 2.5691 - val_acc: 0.2215\n",
            "Epoch 9/30\n",
            "6287/6287 [==============================] - 50s 8ms/step - loss: 2.5648 - acc: 0.3122 - val_loss: 2.5063 - val_acc: 0.3532\n",
            "Epoch 10/30\n",
            "6287/6287 [==============================] - 49s 8ms/step - loss: 2.5108 - acc: 0.3493 - val_loss: 2.4614 - val_acc: 0.3532\n",
            "Epoch 11/30\n",
            "6287/6287 [==============================] - 51s 8ms/step - loss: 2.4774 - acc: 0.3510 - val_loss: 2.4337 - val_acc: 0.3532\n",
            "Epoch 12/30\n",
            "6287/6287 [==============================] - 50s 8ms/step - loss: 2.4564 - acc: 0.3510 - val_loss: 2.4174 - val_acc: 0.3532\n",
            "Epoch 13/30\n",
            "6287/6287 [==============================] - 49s 8ms/step - loss: 2.4434 - acc: 0.3510 - val_loss: 2.4081 - val_acc: 0.3532\n",
            "Epoch 14/30\n",
            "6287/6287 [==============================] - 49s 8ms/step - loss: 2.4368 - acc: 0.3510 - val_loss: 2.4016 - val_acc: 0.3532\n",
            "Epoch 15/30\n",
            "6287/6287 [==============================] - 49s 8ms/step - loss: 2.4302 - acc: 0.3510 - val_loss: 2.3966 - val_acc: 0.3532\n",
            "Epoch 16/30\n",
            "6287/6287 [==============================] - 49s 8ms/step - loss: 2.4243 - acc: 0.3510 - val_loss: 2.3926 - val_acc: 0.3532\n",
            "Epoch 17/30\n",
            "6287/6287 [==============================] - 50s 8ms/step - loss: 2.4223 - acc: 0.3510 - val_loss: 2.3893 - val_acc: 0.3532\n",
            "Epoch 18/30\n",
            "6287/6287 [==============================] - 49s 8ms/step - loss: 2.4175 - acc: 0.3510 - val_loss: 2.3859 - val_acc: 0.3532\n",
            "Epoch 19/30\n",
            "6287/6287 [==============================] - 50s 8ms/step - loss: 2.4136 - acc: 0.3510 - val_loss: 2.3823 - val_acc: 0.3532\n",
            "Epoch 20/30\n",
            "6287/6287 [==============================] - 49s 8ms/step - loss: 2.4071 - acc: 0.3509 - val_loss: 2.3762 - val_acc: 0.3532\n",
            "Epoch 21/30\n",
            "6287/6287 [==============================] - 50s 8ms/step - loss: 2.4023 - acc: 0.3510 - val_loss: 2.3677 - val_acc: 0.3532\n",
            "Epoch 22/30\n",
            "6287/6287 [==============================] - 49s 8ms/step - loss: 2.3899 - acc: 0.3514 - val_loss: 2.3531 - val_acc: 0.3532\n",
            "Epoch 23/30\n",
            "6287/6287 [==============================] - 51s 8ms/step - loss: 2.3727 - acc: 0.3522 - val_loss: 2.3220 - val_acc: 0.3532\n",
            "Epoch 24/30\n",
            "6287/6287 [==============================] - 50s 8ms/step - loss: 2.3401 - acc: 0.3654 - val_loss: 2.2832 - val_acc: 0.3532\n",
            "Epoch 25/30\n",
            "6287/6287 [==============================] - 50s 8ms/step - loss: 2.3087 - acc: 0.3760 - val_loss: 2.2378 - val_acc: 0.3662\n",
            "Epoch 26/30\n",
            "6287/6287 [==============================] - 50s 8ms/step - loss: 2.2679 - acc: 0.3935 - val_loss: 2.1962 - val_acc: 0.3859\n",
            "Epoch 27/30\n",
            "6287/6287 [==============================] - 49s 8ms/step - loss: 2.2374 - acc: 0.4089 - val_loss: 2.1544 - val_acc: 0.4219\n",
            "Epoch 28/30\n",
            "6287/6287 [==============================] - 49s 8ms/step - loss: 2.1970 - acc: 0.4228 - val_loss: 2.1237 - val_acc: 0.4293\n",
            "Epoch 29/30\n",
            "6287/6287 [==============================] - 50s 8ms/step - loss: 2.1706 - acc: 0.4315 - val_loss: 2.1024 - val_acc: 0.4338\n",
            "Epoch 30/30\n",
            "6287/6287 [==============================] - 51s 8ms/step - loss: 2.1539 - acc: 0.4350 - val_loss: 2.0769 - val_acc: 0.4553\n"
          ],
          "name": "stdout"
        }
      ]
    },
    {
      "cell_type": "code",
      "metadata": {
        "id": "2gjYo2SS4hdU",
        "colab_type": "code",
        "outputId": "f85afa2c-8747-4499-b6bf-f4ad6575aaec",
        "colab": {
          "base_uri": "https://localhost:8080/",
          "height": 266
        }
      },
      "source": [
        "learning_rate_change_model.summary()"
      ],
      "execution_count": 0,
      "outputs": [
        {
          "output_type": "stream",
          "text": [
            "Model: \"sequential_3\"\n",
            "_________________________________________________________________\n",
            "Layer (type)                 Output Shape              Param #   \n",
            "=================================================================\n",
            "embedding_3 (Embedding)      (None, None, 64)          640000    \n",
            "_________________________________________________________________\n",
            "lstm_7 (LSTM)                (None, 32)                12416     \n",
            "_________________________________________________________________\n",
            "dense_7 (Dense)              (None, 46)                1518      \n",
            "=================================================================\n",
            "Total params: 653,934\n",
            "Trainable params: 653,934\n",
            "Non-trainable params: 0\n",
            "_________________________________________________________________\n"
          ],
          "name": "stdout"
        }
      ]
    },
    {
      "cell_type": "code",
      "metadata": {
        "id": "qkJDEbV84mTr",
        "colab_type": "code",
        "outputId": "f87b14d4-8e97-4204-87a6-7989cfef4a8f",
        "colab": {
          "base_uri": "https://localhost:8080/",
          "height": 545
        }
      },
      "source": [
        "import matplotlib.pyplot as plt\n",
        "\n",
        "acc = history.history['acc']\n",
        "val_acc = history.history['val_acc']\n",
        "loss = history.history['loss']\n",
        "val_loss = history.history['val_loss']\n",
        "\n",
        "epochs = range(len(acc))\n",
        "\n",
        "plt.plot(epochs, acc, 'bo', label='Training acc')\n",
        "plt.plot(epochs, val_acc, 'b', label='Validation acc')\n",
        "plt.title('Training and validation accuracy')\n",
        "plt.legend()\n",
        "\n",
        "plt.figure()\n",
        "\n",
        "plt.plot(epochs, loss, 'bo', label='Training loss')\n",
        "plt.plot(epochs, val_loss, 'b', label='Validation loss')\n",
        "plt.title('Training and validation loss')\n",
        "plt.legend()\n",
        "\n",
        "plt.show()"
      ],
      "execution_count": 0,
      "outputs": [
        {
          "output_type": "display_data",
          "data": {
            "image/png": "[encoded data removed]",
            "text/plain": [
              "<Figure size 432x288 with 1 Axes>"
            ]
          },
          "metadata": {
            "tags": []
          }
        },
        {
          "output_type": "display_data",
          "data": {
            "image/png": "[encoded data removed]",
            "text/plain": [
              "<Figure size 432x288 with 1 Axes>"
            ]
          },
          "metadata": {
            "tags": []
          }
        }
      ]
    },
    {
      "cell_type": "markdown",
      "metadata": {
        "id": "1iQPm9dsPeUR",
        "colab_type": "text"
      },
      "source": [
        "### Observation: \n",
        "Here, clearly the validation accuracy and training accuracy follow training accuracy very closely. This mandates that we can continue for few more epochs."
      ]
    },
    {
      "cell_type": "code",
      "metadata": {
        "id": "nwRaWD7t0Hhk",
        "colab_type": "code",
        "outputId": "64eaea23-6117-4316-afcf-487d6f8e9db2",
        "colab": {
          "base_uri": "https://localhost:8080/",
          "height": 1000
        }
      },
      "source": [
        "from keras.models import Sequential\n",
        "from keras import layers\n",
        "from keras.optimizers import RMSprop\n",
        "from keras import optimizers\n",
        "\n",
        "learning_rate_change_model = Sequential()\n",
        "learning_rate_change_model.add(Embedding(10000, 64))\n",
        "learning_rate_change_model.add(layers.LSTM(32,dropout=0.2, recurrent_dropout=0.2))\n",
        "learning_rate_change_model.add(layers.Dense(46,activation='softmax'))\n",
        "\n",
        "learning_rate_change_model.compile(optimizer=optimizers.RMSprop(lr=1e-4), loss='categorical_crossentropy', metrics=['accuracy'])\n",
        "history = learning_rate_change_model.fit(train_data, train_labels,\n",
        "                    epochs=180,\n",
        "                    batch_size=128,\n",
        "                    validation_split=0.3)\n"
      ],
      "execution_count": 16,
      "outputs": [
        {
          "output_type": "stream",
          "text": [
            "Train on 6287 samples, validate on 2695 samples\n",
            "Epoch 1/180\n",
            "6287/6287 [==============================] - 53s 8ms/step - loss: 3.8098 - acc: 0.3019 - val_loss: 3.7898 - val_acc: 0.3532\n",
            "Epoch 2/180\n",
            "6287/6287 [==============================] - 50s 8ms/step - loss: 3.7653 - acc: 0.3510 - val_loss: 3.7304 - val_acc: 0.3532\n",
            "Epoch 3/180\n",
            "6287/6287 [==============================] - 50s 8ms/step - loss: 3.6691 - acc: 0.3510 - val_loss: 3.5682 - val_acc: 0.3532\n",
            "Epoch 4/180\n",
            "6287/6287 [==============================] - 50s 8ms/step - loss: 3.3116 - acc: 0.3510 - val_loss: 2.9152 - val_acc: 0.3532\n",
            "Epoch 5/180\n",
            "6287/6287 [==============================] - 50s 8ms/step - loss: 2.8720 - acc: 0.3510 - val_loss: 2.6855 - val_acc: 0.3532\n",
            "Epoch 6/180\n",
            "6287/6287 [==============================] - 50s 8ms/step - loss: 2.6897 - acc: 0.3510 - val_loss: 2.5941 - val_acc: 0.3532\n",
            "Epoch 7/180\n",
            "6287/6287 [==============================] - 50s 8ms/step - loss: 2.6047 - acc: 0.3510 - val_loss: 2.5396 - val_acc: 0.3532\n",
            "Epoch 8/180\n",
            "6287/6287 [==============================] - 50s 8ms/step - loss: 2.5549 - acc: 0.3510 - val_loss: 2.4988 - val_acc: 0.3532\n",
            "Epoch 9/180\n",
            "6287/6287 [==============================] - 50s 8ms/step - loss: 2.5176 - acc: 0.3510 - val_loss: 2.4660 - val_acc: 0.3532\n",
            "Epoch 10/180\n",
            "6287/6287 [==============================] - 50s 8ms/step - loss: 2.4875 - acc: 0.3507 - val_loss: 2.4405 - val_acc: 0.3532\n",
            "Epoch 11/180\n",
            "6287/6287 [==============================] - 50s 8ms/step - loss: 2.4627 - acc: 0.3514 - val_loss: 2.4148 - val_acc: 0.3532\n",
            "Epoch 12/180\n",
            "6287/6287 [==============================] - 50s 8ms/step - loss: 2.4359 - acc: 0.3517 - val_loss: 2.3846 - val_acc: 0.3532\n",
            "Epoch 13/180\n",
            "6287/6287 [==============================] - 50s 8ms/step - loss: 2.4046 - acc: 0.3517 - val_loss: 2.3426 - val_acc: 0.3532\n",
            "Epoch 14/180\n",
            "6287/6287 [==============================] - 50s 8ms/step - loss: 2.3676 - acc: 0.3512 - val_loss: 2.2930 - val_acc: 0.3532\n",
            "Epoch 15/180\n",
            "6287/6287 [==============================] - 50s 8ms/step - loss: 2.3195 - acc: 0.3550 - val_loss: 2.2224 - val_acc: 0.3532\n",
            "Epoch 16/180\n",
            "6287/6287 [==============================] - 50s 8ms/step - loss: 2.2764 - acc: 0.3576 - val_loss: 2.1766 - val_acc: 0.3532\n",
            "Epoch 17/180\n",
            "6287/6287 [==============================] - 50s 8ms/step - loss: 2.2367 - acc: 0.3631 - val_loss: 2.1356 - val_acc: 0.3570\n",
            "Epoch 18/180\n",
            "6287/6287 [==============================] - 50s 8ms/step - loss: 2.2067 - acc: 0.3717 - val_loss: 2.1054 - val_acc: 0.3677\n",
            "Epoch 19/180\n",
            "6287/6287 [==============================] - 50s 8ms/step - loss: 2.1719 - acc: 0.3830 - val_loss: 2.0918 - val_acc: 0.3692\n",
            "Epoch 20/180\n",
            "6287/6287 [==============================] - 50s 8ms/step - loss: 2.1514 - acc: 0.3911 - val_loss: 2.0627 - val_acc: 0.3874\n",
            "Epoch 21/180\n",
            "6287/6287 [==============================] - 50s 8ms/step - loss: 2.1237 - acc: 0.4018 - val_loss: 2.0440 - val_acc: 0.3981\n",
            "Epoch 22/180\n",
            "6287/6287 [==============================] - 50s 8ms/step - loss: 2.1043 - acc: 0.4069 - val_loss: 2.0267 - val_acc: 0.4171\n",
            "Epoch 23/180\n",
            "6287/6287 [==============================] - 51s 8ms/step - loss: 2.0837 - acc: 0.4182 - val_loss: 2.0158 - val_acc: 0.4108\n",
            "Epoch 24/180\n",
            "6287/6287 [==============================] - 50s 8ms/step - loss: 2.0636 - acc: 0.4221 - val_loss: 1.9949 - val_acc: 0.4327\n",
            "Epoch 25/180\n",
            "6287/6287 [==============================] - 51s 8ms/step - loss: 2.0495 - acc: 0.4285 - val_loss: 1.9817 - val_acc: 0.4293\n",
            "Epoch 26/180\n",
            "6287/6287 [==============================] - 51s 8ms/step - loss: 2.0291 - acc: 0.4331 - val_loss: 1.9720 - val_acc: 0.4278\n",
            "Epoch 27/180\n",
            "6287/6287 [==============================] - 51s 8ms/step - loss: 2.0081 - acc: 0.4371 - val_loss: 1.9552 - val_acc: 0.4386\n",
            "Epoch 28/180\n",
            "6287/6287 [==============================] - 51s 8ms/step - loss: 1.9881 - acc: 0.4473 - val_loss: 1.9377 - val_acc: 0.4486\n",
            "Epoch 29/180\n",
            "6287/6287 [==============================] - 51s 8ms/step - loss: 1.9812 - acc: 0.4474 - val_loss: 1.9245 - val_acc: 0.4560\n",
            "Epoch 30/180\n",
            "6287/6287 [==============================] - 51s 8ms/step - loss: 1.9597 - acc: 0.4501 - val_loss: 1.9095 - val_acc: 0.4649\n",
            "Epoch 31/180\n",
            "6287/6287 [==============================] - 51s 8ms/step - loss: 1.9408 - acc: 0.4590 - val_loss: 1.8971 - val_acc: 0.4679\n",
            "Epoch 32/180\n",
            "6287/6287 [==============================] - 51s 8ms/step - loss: 1.9305 - acc: 0.4617 - val_loss: 1.8807 - val_acc: 0.4801\n",
            "Epoch 33/180\n",
            "6287/6287 [==============================] - 51s 8ms/step - loss: 1.9075 - acc: 0.4675 - val_loss: 1.8697 - val_acc: 0.4794\n",
            "Epoch 34/180\n",
            "6287/6287 [==============================] - 51s 8ms/step - loss: 1.9002 - acc: 0.4710 - val_loss: 1.8551 - val_acc: 0.4902\n",
            "Epoch 35/180\n",
            "6287/6287 [==============================] - 51s 8ms/step - loss: 1.8834 - acc: 0.4726 - val_loss: 1.8426 - val_acc: 0.4980\n",
            "Epoch 36/180\n",
            "6287/6287 [==============================] - 51s 8ms/step - loss: 1.8719 - acc: 0.4757 - val_loss: 1.8331 - val_acc: 0.4991\n",
            "Epoch 37/180\n",
            "6287/6287 [==============================] - 51s 8ms/step - loss: 1.8499 - acc: 0.4850 - val_loss: 1.8214 - val_acc: 0.5065\n",
            "Epoch 38/180\n",
            "6287/6287 [==============================] - 51s 8ms/step - loss: 1.8425 - acc: 0.4856 - val_loss: 1.8129 - val_acc: 0.5083\n",
            "Epoch 39/180\n",
            "6287/6287 [==============================] - 52s 8ms/step - loss: 1.8337 - acc: 0.4931 - val_loss: 1.7983 - val_acc: 0.5161\n",
            "Epoch 40/180\n",
            "6287/6287 [==============================] - 51s 8ms/step - loss: 1.8160 - acc: 0.4932 - val_loss: 1.7908 - val_acc: 0.5199\n",
            "Epoch 41/180\n",
            "6287/6287 [==============================] - 51s 8ms/step - loss: 1.8038 - acc: 0.5026 - val_loss: 1.7808 - val_acc: 0.5258\n",
            "Epoch 42/180\n",
            "6287/6287 [==============================] - 51s 8ms/step - loss: 1.7940 - acc: 0.5085 - val_loss: 1.7694 - val_acc: 0.5321\n",
            "Epoch 43/180\n",
            "6287/6287 [==============================] - 51s 8ms/step - loss: 1.7850 - acc: 0.5114 - val_loss: 1.7615 - val_acc: 0.5354\n",
            "Epoch 44/180\n",
            "6287/6287 [==============================] - 51s 8ms/step - loss: 1.7768 - acc: 0.5158 - val_loss: 1.7594 - val_acc: 0.5365\n",
            "Epoch 45/180\n",
            "6287/6287 [==============================] - 51s 8ms/step - loss: 1.7704 - acc: 0.5200 - val_loss: 1.7510 - val_acc: 0.5406\n",
            "Epoch 46/180\n",
            "6287/6287 [==============================] - 51s 8ms/step - loss: 1.7569 - acc: 0.5243 - val_loss: 1.7501 - val_acc: 0.5391\n",
            "Epoch 47/180\n",
            "6287/6287 [==============================] - 52s 8ms/step - loss: 1.7486 - acc: 0.5308 - val_loss: 1.7428 - val_acc: 0.5403\n",
            "Epoch 48/180\n",
            "6287/6287 [==============================] - 51s 8ms/step - loss: 1.7353 - acc: 0.5300 - val_loss: 1.7332 - val_acc: 0.5440\n",
            "Epoch 49/180\n",
            "6287/6287 [==============================] - 51s 8ms/step - loss: 1.7266 - acc: 0.5368 - val_loss: 1.7261 - val_acc: 0.5503\n",
            "Epoch 50/180\n",
            "6287/6287 [==============================] - 51s 8ms/step - loss: 1.7172 - acc: 0.5379 - val_loss: 1.7209 - val_acc: 0.5529\n",
            "Epoch 51/180\n",
            "6287/6287 [==============================] - 51s 8ms/step - loss: 1.7144 - acc: 0.5387 - val_loss: 1.7212 - val_acc: 0.5540\n",
            "Epoch 52/180\n",
            "6287/6287 [==============================] - 51s 8ms/step - loss: 1.7028 - acc: 0.5354 - val_loss: 1.7156 - val_acc: 0.5540\n",
            "Epoch 53/180\n",
            "6287/6287 [==============================] - 51s 8ms/step - loss: 1.6958 - acc: 0.5460 - val_loss: 1.7096 - val_acc: 0.5573\n",
            "Epoch 54/180\n",
            "6287/6287 [==============================] - 51s 8ms/step - loss: 1.6886 - acc: 0.5437 - val_loss: 1.7038 - val_acc: 0.5544\n",
            "Epoch 55/180\n",
            "6287/6287 [==============================] - 51s 8ms/step - loss: 1.6930 - acc: 0.5402 - val_loss: 1.7031 - val_acc: 0.5521\n",
            "Epoch 56/180\n",
            "6287/6287 [==============================] - 51s 8ms/step - loss: 1.6746 - acc: 0.5497 - val_loss: 1.6996 - val_acc: 0.5566\n",
            "Epoch 57/180\n",
            "6287/6287 [==============================] - 51s 8ms/step - loss: 1.6690 - acc: 0.5508 - val_loss: 1.6953 - val_acc: 0.5547\n",
            "Epoch 58/180\n",
            "6287/6287 [==============================] - 51s 8ms/step - loss: 1.6542 - acc: 0.5526 - val_loss: 1.6951 - val_acc: 0.5544\n",
            "Epoch 59/180\n",
            "6287/6287 [==============================] - 51s 8ms/step - loss: 1.6533 - acc: 0.5521 - val_loss: 1.6953 - val_acc: 0.5581\n",
            "Epoch 60/180\n",
            "6287/6287 [==============================] - 51s 8ms/step - loss: 1.6509 - acc: 0.5513 - val_loss: 1.6869 - val_acc: 0.5588\n",
            "Epoch 61/180\n",
            "6287/6287 [==============================] - 51s 8ms/step - loss: 1.6344 - acc: 0.5591 - val_loss: 1.6784 - val_acc: 0.5610\n",
            "Epoch 62/180\n",
            "6287/6287 [==============================] - 51s 8ms/step - loss: 1.6317 - acc: 0.5577 - val_loss: 1.6782 - val_acc: 0.5670\n",
            "Epoch 63/180\n",
            "6287/6287 [==============================] - 51s 8ms/step - loss: 1.6343 - acc: 0.5542 - val_loss: 1.6688 - val_acc: 0.5673\n",
            "Epoch 64/180\n",
            "6287/6287 [==============================] - 51s 8ms/step - loss: 1.6301 - acc: 0.5567 - val_loss: 1.6837 - val_acc: 0.5662\n",
            "Epoch 65/180\n",
            "6287/6287 [==============================] - 51s 8ms/step - loss: 1.6151 - acc: 0.5629 - val_loss: 1.6668 - val_acc: 0.5681\n",
            "Epoch 66/180\n",
            "6287/6287 [==============================] - 51s 8ms/step - loss: 1.6122 - acc: 0.5613 - val_loss: 1.6673 - val_acc: 0.5688\n",
            "Epoch 67/180\n",
            "6287/6287 [==============================] - 51s 8ms/step - loss: 1.6024 - acc: 0.5634 - val_loss: 1.6601 - val_acc: 0.5707\n",
            "Epoch 68/180\n",
            "6287/6287 [==============================] - 50s 8ms/step - loss: 1.5996 - acc: 0.5618 - val_loss: 1.6664 - val_acc: 0.5651\n",
            "Epoch 69/180\n",
            "6287/6287 [==============================] - 51s 8ms/step - loss: 1.5929 - acc: 0.5651 - val_loss: 1.6543 - val_acc: 0.5766\n",
            "Epoch 70/180\n",
            "6287/6287 [==============================] - 51s 8ms/step - loss: 1.5826 - acc: 0.5688 - val_loss: 1.6590 - val_acc: 0.5714\n",
            "Epoch 71/180\n",
            "6287/6287 [==============================] - 51s 8ms/step - loss: 1.5702 - acc: 0.5705 - val_loss: 1.6558 - val_acc: 0.5688\n",
            "Epoch 72/180\n",
            "6287/6287 [==============================] - 51s 8ms/step - loss: 1.5694 - acc: 0.5728 - val_loss: 1.6522 - val_acc: 0.5725\n",
            "Epoch 73/180\n",
            "6287/6287 [==============================] - 51s 8ms/step - loss: 1.5736 - acc: 0.5693 - val_loss: 1.6602 - val_acc: 0.5688\n",
            "Epoch 74/180\n",
            "6287/6287 [==============================] - 51s 8ms/step - loss: 1.5581 - acc: 0.5697 - val_loss: 1.6468 - val_acc: 0.5777\n",
            "Epoch 75/180\n",
            "6287/6287 [==============================] - 51s 8ms/step - loss: 1.5651 - acc: 0.5690 - val_loss: 1.6475 - val_acc: 0.5755\n",
            "Epoch 76/180\n",
            "6287/6287 [==============================] - 51s 8ms/step - loss: 1.5519 - acc: 0.5755 - val_loss: 1.6468 - val_acc: 0.5748\n",
            "Epoch 77/180\n",
            "6287/6287 [==============================] - 51s 8ms/step - loss: 1.5445 - acc: 0.5783 - val_loss: 1.6434 - val_acc: 0.5777\n",
            "Epoch 78/180\n",
            "6287/6287 [==============================] - 51s 8ms/step - loss: 1.5423 - acc: 0.5780 - val_loss: 1.6406 - val_acc: 0.5770\n",
            "Epoch 79/180\n",
            "6287/6287 [==============================] - 51s 8ms/step - loss: 1.5250 - acc: 0.5837 - val_loss: 1.6480 - val_acc: 0.5740\n",
            "Epoch 80/180\n",
            "6287/6287 [==============================] - 51s 8ms/step - loss: 1.5281 - acc: 0.5798 - val_loss: 1.6413 - val_acc: 0.5788\n",
            "Epoch 81/180\n",
            "6287/6287 [==============================] - 51s 8ms/step - loss: 1.5197 - acc: 0.5814 - val_loss: 1.6384 - val_acc: 0.5796\n",
            "Epoch 82/180\n",
            "6287/6287 [==============================] - 51s 8ms/step - loss: 1.5101 - acc: 0.5845 - val_loss: 1.6371 - val_acc: 0.5818\n",
            "Epoch 83/180\n",
            "6287/6287 [==============================] - 51s 8ms/step - loss: 1.5069 - acc: 0.5855 - val_loss: 1.6364 - val_acc: 0.5807\n",
            "Epoch 84/180\n",
            "6287/6287 [==============================] - 51s 8ms/step - loss: 1.4997 - acc: 0.5893 - val_loss: 1.6355 - val_acc: 0.5818\n",
            "Epoch 85/180\n",
            "6287/6287 [==============================] - 51s 8ms/step - loss: 1.4970 - acc: 0.5895 - val_loss: 1.6321 - val_acc: 0.5829\n",
            "Epoch 86/180\n",
            "6287/6287 [==============================] - 51s 8ms/step - loss: 1.4934 - acc: 0.5907 - val_loss: 1.6330 - val_acc: 0.5826\n",
            "Epoch 87/180\n",
            "6287/6287 [==============================] - 51s 8ms/step - loss: 1.4873 - acc: 0.5939 - val_loss: 1.6290 - val_acc: 0.5852\n",
            "Epoch 88/180\n",
            "6287/6287 [==============================] - 51s 8ms/step - loss: 1.4826 - acc: 0.5965 - val_loss: 1.6352 - val_acc: 0.5863\n",
            "Epoch 89/180\n",
            "6287/6287 [==============================] - 51s 8ms/step - loss: 1.4686 - acc: 0.5984 - val_loss: 1.6264 - val_acc: 0.5889\n",
            "Epoch 90/180\n",
            "6287/6287 [==============================] - 51s 8ms/step - loss: 1.4716 - acc: 0.5931 - val_loss: 1.6308 - val_acc: 0.5859\n",
            "Epoch 91/180\n",
            "6287/6287 [==============================] - 51s 8ms/step - loss: 1.4662 - acc: 0.5971 - val_loss: 1.6235 - val_acc: 0.5870\n",
            "Epoch 92/180\n",
            "6287/6287 [==============================] - 51s 8ms/step - loss: 1.4566 - acc: 0.6044 - val_loss: 1.6215 - val_acc: 0.5889\n",
            "Epoch 93/180\n",
            "6287/6287 [==============================] - 51s 8ms/step - loss: 1.4499 - acc: 0.6008 - val_loss: 1.6167 - val_acc: 0.5859\n",
            "Epoch 94/180\n",
            "6287/6287 [==============================] - 51s 8ms/step - loss: 1.4442 - acc: 0.6054 - val_loss: 1.6196 - val_acc: 0.5941\n",
            "Epoch 95/180\n",
            "6287/6287 [==============================] - 51s 8ms/step - loss: 1.4426 - acc: 0.6055 - val_loss: 1.6185 - val_acc: 0.5933\n",
            "Epoch 96/180\n",
            "6287/6287 [==============================] - 51s 8ms/step - loss: 1.4452 - acc: 0.6046 - val_loss: 1.6163 - val_acc: 0.5892\n",
            "Epoch 97/180\n",
            "6287/6287 [==============================] - 51s 8ms/step - loss: 1.4266 - acc: 0.6125 - val_loss: 1.6181 - val_acc: 0.5918\n",
            "Epoch 98/180\n",
            "6287/6287 [==============================] - 51s 8ms/step - loss: 1.4317 - acc: 0.6108 - val_loss: 1.6168 - val_acc: 0.5929\n",
            "Epoch 99/180\n",
            "6287/6287 [==============================] - 51s 8ms/step - loss: 1.4209 - acc: 0.6095 - val_loss: 1.6165 - val_acc: 0.5922\n",
            "Epoch 100/180\n",
            "6287/6287 [==============================] - 51s 8ms/step - loss: 1.4221 - acc: 0.6109 - val_loss: 1.6309 - val_acc: 0.5941\n",
            "Epoch 101/180\n",
            "6287/6287 [==============================] - 51s 8ms/step - loss: 1.4204 - acc: 0.6103 - val_loss: 1.6118 - val_acc: 0.5918\n",
            "Epoch 102/180\n",
            "6287/6287 [==============================] - 51s 8ms/step - loss: 1.4142 - acc: 0.6146 - val_loss: 1.6106 - val_acc: 0.5929\n",
            "Epoch 103/180\n",
            "6287/6287 [==============================] - 51s 8ms/step - loss: 1.4043 - acc: 0.6183 - val_loss: 1.6101 - val_acc: 0.5907\n",
            "Epoch 104/180\n",
            "6287/6287 [==============================] - 51s 8ms/step - loss: 1.4023 - acc: 0.6195 - val_loss: 1.6089 - val_acc: 0.5922\n",
            "Epoch 105/180\n",
            "6287/6287 [==============================] - 51s 8ms/step - loss: 1.3977 - acc: 0.6183 - val_loss: 1.6075 - val_acc: 0.5926\n",
            "Epoch 106/180\n",
            "6287/6287 [==============================] - 51s 8ms/step - loss: 1.3965 - acc: 0.6189 - val_loss: 1.6041 - val_acc: 0.5985\n",
            "Epoch 107/180\n",
            "6287/6287 [==============================] - 51s 8ms/step - loss: 1.3928 - acc: 0.6194 - val_loss: 1.6011 - val_acc: 0.5970\n",
            "Epoch 108/180\n",
            "6287/6287 [==============================] - 51s 8ms/step - loss: 1.3856 - acc: 0.6235 - val_loss: 1.6075 - val_acc: 0.5996\n",
            "Epoch 109/180\n",
            "6287/6287 [==============================] - 51s 8ms/step - loss: 1.3835 - acc: 0.6205 - val_loss: 1.6063 - val_acc: 0.6007\n",
            "Epoch 110/180\n",
            "6287/6287 [==============================] - 51s 8ms/step - loss: 1.3726 - acc: 0.6308 - val_loss: 1.6020 - val_acc: 0.6000\n",
            "Epoch 111/180\n",
            "6287/6287 [==============================] - 51s 8ms/step - loss: 1.3696 - acc: 0.6307 - val_loss: 1.6031 - val_acc: 0.5937\n",
            "Epoch 112/180\n",
            "6287/6287 [==============================] - 51s 8ms/step - loss: 1.3644 - acc: 0.6296 - val_loss: 1.6003 - val_acc: 0.6019\n",
            "Epoch 113/180\n",
            "6287/6287 [==============================] - 51s 8ms/step - loss: 1.3580 - acc: 0.6318 - val_loss: 1.5998 - val_acc: 0.6030\n",
            "Epoch 114/180\n",
            "6287/6287 [==============================] - 51s 8ms/step - loss: 1.3623 - acc: 0.6342 - val_loss: 1.5972 - val_acc: 0.5974\n",
            "Epoch 115/180\n",
            "6287/6287 [==============================] - 51s 8ms/step - loss: 1.3550 - acc: 0.6302 - val_loss: 1.5963 - val_acc: 0.6026\n",
            "Epoch 116/180\n",
            "6287/6287 [==============================] - 51s 8ms/step - loss: 1.3400 - acc: 0.6377 - val_loss: 1.5919 - val_acc: 0.5989\n",
            "Epoch 117/180\n",
            "6287/6287 [==============================] - 51s 8ms/step - loss: 1.3441 - acc: 0.6343 - val_loss: 1.5979 - val_acc: 0.6037\n",
            "Epoch 118/180\n",
            "6287/6287 [==============================] - 51s 8ms/step - loss: 1.3345 - acc: 0.6388 - val_loss: 1.5936 - val_acc: 0.5993\n",
            "Epoch 119/180\n",
            "6287/6287 [==============================] - 51s 8ms/step - loss: 1.3337 - acc: 0.6359 - val_loss: 1.5921 - val_acc: 0.6048\n",
            "Epoch 120/180\n",
            "6287/6287 [==============================] - 51s 8ms/step - loss: 1.3347 - acc: 0.6372 - val_loss: 1.5966 - val_acc: 0.6048\n",
            "Epoch 121/180\n",
            "6287/6287 [==============================] - 51s 8ms/step - loss: 1.3244 - acc: 0.6391 - val_loss: 1.5924 - val_acc: 0.6000\n",
            "Epoch 122/180\n",
            "6287/6287 [==============================] - 51s 8ms/step - loss: 1.3207 - acc: 0.6426 - val_loss: 1.5924 - val_acc: 0.6026\n",
            "Epoch 123/180\n",
            "6287/6287 [==============================] - 51s 8ms/step - loss: 1.3134 - acc: 0.6443 - val_loss: 1.5885 - val_acc: 0.6048\n",
            "Epoch 124/180\n",
            "6287/6287 [==============================] - 52s 8ms/step - loss: 1.3089 - acc: 0.6447 - val_loss: 1.5913 - val_acc: 0.6067\n",
            "Epoch 125/180\n",
            "6287/6287 [==============================] - 51s 8ms/step - loss: 1.3106 - acc: 0.6434 - val_loss: 1.5938 - val_acc: 0.6089\n",
            "Epoch 126/180\n",
            "6287/6287 [==============================] - 51s 8ms/step - loss: 1.3005 - acc: 0.6474 - val_loss: 1.5874 - val_acc: 0.6011\n",
            "Epoch 127/180\n",
            "6287/6287 [==============================] - 51s 8ms/step - loss: 1.3058 - acc: 0.6488 - val_loss: 1.5887 - val_acc: 0.6037\n",
            "Epoch 128/180\n",
            "6287/6287 [==============================] - 51s 8ms/step - loss: 1.2979 - acc: 0.6461 - val_loss: 1.5889 - val_acc: 0.6059\n",
            "Epoch 129/180\n",
            "6287/6287 [==============================] - 51s 8ms/step - loss: 1.2911 - acc: 0.6502 - val_loss: 1.5899 - val_acc: 0.6048\n",
            "Epoch 130/180\n",
            "6287/6287 [==============================] - 51s 8ms/step - loss: 1.2888 - acc: 0.6537 - val_loss: 1.5929 - val_acc: 0.6078\n",
            "Epoch 131/180\n",
            "6287/6287 [==============================] - 51s 8ms/step - loss: 1.2731 - acc: 0.6544 - val_loss: 1.5833 - val_acc: 0.6078\n",
            "Epoch 132/180\n",
            "6287/6287 [==============================] - 51s 8ms/step - loss: 1.2786 - acc: 0.6525 - val_loss: 1.5854 - val_acc: 0.6056\n",
            "Epoch 133/180\n",
            "6287/6287 [==============================] - 51s 8ms/step - loss: 1.2681 - acc: 0.6545 - val_loss: 1.5854 - val_acc: 0.6093\n",
            "Epoch 134/180\n",
            "6287/6287 [==============================] - 51s 8ms/step - loss: 1.2748 - acc: 0.6496 - val_loss: 1.5817 - val_acc: 0.6067\n",
            "Epoch 135/180\n",
            "6287/6287 [==============================] - 51s 8ms/step - loss: 1.2641 - acc: 0.6547 - val_loss: 1.5920 - val_acc: 0.6100\n",
            "Epoch 136/180\n",
            "6287/6287 [==============================] - 51s 8ms/step - loss: 1.2647 - acc: 0.6588 - val_loss: 1.5838 - val_acc: 0.6104\n",
            "Epoch 137/180\n",
            "6287/6287 [==============================] - 51s 8ms/step - loss: 1.2621 - acc: 0.6553 - val_loss: 1.5812 - val_acc: 0.6100\n",
            "Epoch 138/180\n",
            "6287/6287 [==============================] - 51s 8ms/step - loss: 1.2525 - acc: 0.6618 - val_loss: 1.5780 - val_acc: 0.6048\n",
            "Epoch 139/180\n",
            "6287/6287 [==============================] - 51s 8ms/step - loss: 1.2497 - acc: 0.6618 - val_loss: 1.5858 - val_acc: 0.6100\n",
            "Epoch 140/180\n",
            "6287/6287 [==============================] - 51s 8ms/step - loss: 1.2451 - acc: 0.6628 - val_loss: 1.5781 - val_acc: 0.6111\n",
            "Epoch 141/180\n",
            "6287/6287 [==============================] - 51s 8ms/step - loss: 1.2427 - acc: 0.6612 - val_loss: 1.5786 - val_acc: 0.6063\n",
            "Epoch 142/180\n",
            "6287/6287 [==============================] - 52s 8ms/step - loss: 1.2408 - acc: 0.6626 - val_loss: 1.5798 - val_acc: 0.6115\n",
            "Epoch 143/180\n",
            "6287/6287 [==============================] - 51s 8ms/step - loss: 1.2303 - acc: 0.6674 - val_loss: 1.5791 - val_acc: 0.6108\n",
            "Epoch 144/180\n",
            "6287/6287 [==============================] - 51s 8ms/step - loss: 1.2278 - acc: 0.6685 - val_loss: 1.5800 - val_acc: 0.6119\n",
            "Epoch 145/180\n",
            "6287/6287 [==============================] - 51s 8ms/step - loss: 1.2221 - acc: 0.6676 - val_loss: 1.5779 - val_acc: 0.6111\n",
            "Epoch 146/180\n",
            "6287/6287 [==============================] - 52s 8ms/step - loss: 1.2240 - acc: 0.6690 - val_loss: 1.5770 - val_acc: 0.6137\n",
            "Epoch 147/180\n",
            "6287/6287 [==============================] - 52s 8ms/step - loss: 1.2240 - acc: 0.6658 - val_loss: 1.5795 - val_acc: 0.6100\n",
            "Epoch 148/180\n",
            "6287/6287 [==============================] - 51s 8ms/step - loss: 1.2163 - acc: 0.6698 - val_loss: 1.5836 - val_acc: 0.6141\n",
            "Epoch 149/180\n",
            "6287/6287 [==============================] - 51s 8ms/step - loss: 1.2100 - acc: 0.6706 - val_loss: 1.5787 - val_acc: 0.6134\n",
            "Epoch 150/180\n",
            "6287/6287 [==============================] - 51s 8ms/step - loss: 1.2081 - acc: 0.6706 - val_loss: 1.5744 - val_acc: 0.6115\n",
            "Epoch 151/180\n",
            "6287/6287 [==============================] - 52s 8ms/step - loss: 1.1996 - acc: 0.6749 - val_loss: 1.5884 - val_acc: 0.6134\n",
            "Epoch 152/180\n",
            "6287/6287 [==============================] - 52s 8ms/step - loss: 1.1935 - acc: 0.6806 - val_loss: 1.5792 - val_acc: 0.6115\n",
            "Epoch 153/180\n",
            "6287/6287 [==============================] - 52s 8ms/step - loss: 1.1891 - acc: 0.6765 - val_loss: 1.5810 - val_acc: 0.6134\n",
            "Epoch 154/180\n",
            "6287/6287 [==============================] - 52s 8ms/step - loss: 1.1874 - acc: 0.6800 - val_loss: 1.5807 - val_acc: 0.6108\n",
            "Epoch 155/180\n",
            "6287/6287 [==============================] - 52s 8ms/step - loss: 1.1909 - acc: 0.6749 - val_loss: 1.5865 - val_acc: 0.6096\n",
            "Epoch 156/180\n",
            "6287/6287 [==============================] - 52s 8ms/step - loss: 1.1790 - acc: 0.6816 - val_loss: 1.5802 - val_acc: 0.6122\n",
            "Epoch 157/180\n",
            "6287/6287 [==============================] - 51s 8ms/step - loss: 1.1772 - acc: 0.6838 - val_loss: 1.5807 - val_acc: 0.6100\n",
            "Epoch 158/180\n",
            "6287/6287 [==============================] - 52s 8ms/step - loss: 1.1780 - acc: 0.6792 - val_loss: 1.5784 - val_acc: 0.6093\n",
            "Epoch 159/180\n",
            "6287/6287 [==============================] - 52s 8ms/step - loss: 1.1725 - acc: 0.6816 - val_loss: 1.5793 - val_acc: 0.6096\n",
            "Epoch 160/180\n",
            "6287/6287 [==============================] - 52s 8ms/step - loss: 1.1718 - acc: 0.6789 - val_loss: 1.5831 - val_acc: 0.6100\n",
            "Epoch 161/180\n",
            "6287/6287 [==============================] - 52s 8ms/step - loss: 1.1655 - acc: 0.6833 - val_loss: 1.5892 - val_acc: 0.6167\n",
            "Epoch 162/180\n",
            "6287/6287 [==============================] - 52s 8ms/step - loss: 1.1592 - acc: 0.6832 - val_loss: 1.5850 - val_acc: 0.6130\n",
            "Epoch 163/180\n",
            "6287/6287 [==============================] - 52s 8ms/step - loss: 1.1635 - acc: 0.6824 - val_loss: 1.5813 - val_acc: 0.6122\n",
            "Epoch 164/180\n",
            "6287/6287 [==============================] - 51s 8ms/step - loss: 1.1580 - acc: 0.6903 - val_loss: 1.5839 - val_acc: 0.6145\n",
            "Epoch 165/180\n",
            "6287/6287 [==============================] - 52s 8ms/step - loss: 1.1506 - acc: 0.6884 - val_loss: 1.5824 - val_acc: 0.6152\n",
            "Epoch 166/180\n",
            "6287/6287 [==============================] - 52s 8ms/step - loss: 1.1464 - acc: 0.6900 - val_loss: 1.5823 - val_acc: 0.6137\n",
            "Epoch 167/180\n",
            "6287/6287 [==============================] - 52s 8ms/step - loss: 1.1343 - acc: 0.6943 - val_loss: 1.5875 - val_acc: 0.6193\n",
            "Epoch 168/180\n",
            "6287/6287 [==============================] - 51s 8ms/step - loss: 1.1395 - acc: 0.6917 - val_loss: 1.5878 - val_acc: 0.6197\n",
            "Epoch 169/180\n",
            "6287/6287 [==============================] - 53s 8ms/step - loss: 1.1380 - acc: 0.6917 - val_loss: 1.5807 - val_acc: 0.6189\n",
            "Epoch 170/180\n",
            "6287/6287 [==============================] - 52s 8ms/step - loss: 1.1334 - acc: 0.6991 - val_loss: 1.5797 - val_acc: 0.6163\n",
            "Epoch 171/180\n",
            "6287/6287 [==============================] - 52s 8ms/step - loss: 1.1233 - acc: 0.6943 - val_loss: 1.5955 - val_acc: 0.6212\n",
            "Epoch 172/180\n",
            "6287/6287 [==============================] - 52s 8ms/step - loss: 1.1170 - acc: 0.6944 - val_loss: 1.5862 - val_acc: 0.6197\n",
            "Epoch 173/180\n",
            "6287/6287 [==============================] - 53s 8ms/step - loss: 1.1107 - acc: 0.6991 - val_loss: 1.5836 - val_acc: 0.6174\n",
            "Epoch 174/180\n",
            "6287/6287 [==============================] - 53s 8ms/step - loss: 1.1156 - acc: 0.6968 - val_loss: 1.5842 - val_acc: 0.6197\n",
            "Epoch 175/180\n",
            "6287/6287 [==============================] - 52s 8ms/step - loss: 1.1160 - acc: 0.6967 - val_loss: 1.5817 - val_acc: 0.6212\n",
            "Epoch 176/180\n",
            "6287/6287 [==============================] - 52s 8ms/step - loss: 1.1026 - acc: 0.7024 - val_loss: 1.5838 - val_acc: 0.6215\n",
            "Epoch 177/180\n",
            "6287/6287 [==============================] - 52s 8ms/step - loss: 1.1063 - acc: 0.6997 - val_loss: 1.5820 - val_acc: 0.6200\n",
            "Epoch 178/180\n",
            "6287/6287 [==============================] - 53s 8ms/step - loss: 1.1065 - acc: 0.7013 - val_loss: 1.5850 - val_acc: 0.6204\n",
            "Epoch 179/180\n",
            "6287/6287 [==============================] - 53s 8ms/step - loss: 1.0990 - acc: 0.7024 - val_loss: 1.5831 - val_acc: 0.6193\n",
            "Epoch 180/180\n",
            "6287/6287 [==============================] - 53s 8ms/step - loss: 1.0876 - acc: 0.7027 - val_loss: 1.5864 - val_acc: 0.6212\n"
          ],
          "name": "stdout"
        }
      ]
    },
    {
      "cell_type": "markdown",
      "metadata": {
        "id": "ExteL2rDR8O5",
        "colab_type": "text"
      },
      "source": [
        "#### Plotting the training/validation accuracy and loss."
      ]
    },
    {
      "cell_type": "code",
      "metadata": {
        "id": "9jQZDZIORcq3",
        "colab_type": "code",
        "colab": {
          "base_uri": "https://localhost:8080/",
          "height": 545
        },
        "outputId": "a3aa2b53-6cbb-4114-8020-b199f1da44b8"
      },
      "source": [
        "import matplotlib.pyplot as plt\n",
        "\n",
        "acc = history.history['acc']\n",
        "val_acc = history.history['val_acc']\n",
        "loss = history.history['loss']\n",
        "val_loss = history.history['val_loss']\n",
        "\n",
        "epochs = range(len(acc))\n",
        "\n",
        "plt.plot(epochs, acc, 'bo', label='Training acc')\n",
        "plt.plot(epochs, val_acc, 'b', label='Validation acc')\n",
        "plt.title('Training and validation accuracy')\n",
        "plt.legend()\n",
        "\n",
        "plt.figure()\n",
        "\n",
        "plt.plot(epochs, loss, 'bo', label='Training loss')\n",
        "plt.plot(epochs, val_loss, 'b', label='Validation loss')\n",
        "plt.title('Training and validation loss')\n",
        "plt.legend()\n",
        "\n",
        "plt.show()"
      ],
      "execution_count": 15,
      "outputs": [
        {
          "output_type": "display_data",
          "data": {
            "image/png": "[encoded data removed]",
            "text/plain": [
              "<Figure size 432x288 with 1 Axes>"
            ]
          },
          "metadata": {
            "tags": []
          }
        },
        {
          "output_type": "display_data",
          "data": {
            "image/png": "[encoded data removed]",
            "text/plain": [
              "<Figure size 432x288 with 1 Axes>"
            ]
          },
          "metadata": {
            "tags": []
          }
        }
      ]
    },
    {
      "cell_type": "code",
      "metadata": {
        "id": "olbiW3hB0MVx",
        "colab_type": "code",
        "outputId": "a00b3400-6f2e-461f-cf69-5ec6115f928d",
        "colab": {
          "base_uri": "https://localhost:8080/",
          "height": 35
        }
      },
      "source": [
        "results = learning_rate_change_model.evaluate(test_data, test_labels)\n",
        "results"
      ],
      "execution_count": 0,
      "outputs": [
        {
          "output_type": "execute_result",
          "data": {
            "text/plain": [
              "[2.047542837827416, 0.4919857524487979]"
            ]
          },
          "metadata": {
            "tags": []
          },
          "execution_count": 24
        }
      ]
    },
    {
      "cell_type": "markdown",
      "metadata": {
        "id": "DAPQOL0KSefT",
        "colab_type": "text"
      },
      "source": [
        "### Conclusions"
      ]
    }
  ]
}