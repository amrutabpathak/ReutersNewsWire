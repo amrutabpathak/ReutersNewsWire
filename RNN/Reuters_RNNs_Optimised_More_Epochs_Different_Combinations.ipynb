{
  "nbformat": 4,
  "nbformat_minor": 0,
  "metadata": {
    "kernelspec": {
      "name": "python3",
      "display_name": "Python 3"
    },
    "language_info": {
      "codemirror_mode": {
        "name": "ipython",
        "version": 3
      },
      "file_extension": ".py",
      "mimetype": "text/x-python",
      "name": "python",
      "nbconvert_exporter": "python",
      "pygments_lexer": "ipython3",
      "version": "3.7.4"
    },
    "colab": {
      "name": "Reuters_RNNs_Optimised_More_Epochs_Different_Combinations.ipynb",
      "provenance": [],
      "collapsed_sections": []
    },
    "accelerator": "TPU"
  },
  "cells": [
    {
      "cell_type": "code",
      "metadata": {
        "id": "vWJpAkeswyu6",
        "colab_type": "code",
        "outputId": "f46f0413-10c3-4b37-abcc-15e8d130c1c3",
        "colab": {
          "base_uri": "https://localhost:8080/",
          "height": 52
        }
      },
      "source": [
        "import keras\n",
        "keras.__version__"
      ],
      "execution_count": 2,
      "outputs": [
        {
          "output_type": "stream",
          "text": [
            "Using TensorFlow backend.\n"
          ],
          "name": "stderr"
        },
        {
          "output_type": "execute_result",
          "data": {
            "text/plain": [
              "'2.2.5'"
            ]
          },
          "metadata": {
            "tags": []
          },
          "execution_count": 2
        }
      ]
    },
    {
      "cell_type": "code",
      "metadata": {
        "id": "5uwR5XY0wyvJ",
        "colab_type": "code",
        "colab": {}
      },
      "source": [
        "from keras.layers import SimpleRNN\n",
        "from keras.models import Sequential\n",
        "from keras.layers import Embedding\n",
        "from keras.layers import Dense\n",
        "from keras.datasets import reuters\n",
        "from keras.preprocessing import sequence\n",
        "\n"
      ],
      "execution_count": 0,
      "outputs": []
    },
    {
      "cell_type": "code",
      "metadata": {
        "id": "iVN9SFfIwyvX",
        "colab_type": "code",
        "outputId": "3862e7a1-1056-412e-f3ec-7523aa99eab1",
        "colab": {
          "base_uri": "https://localhost:8080/",
          "height": 52
        }
      },
      "source": [
        "(train_data, train_labels), (test_data, test_labels) = reuters.load_data(num_words=10000)"
      ],
      "execution_count": 4,
      "outputs": [
        {
          "output_type": "stream",
          "text": [
            "Downloading data from https://s3.amazonaws.com/text-datasets/reuters.npz\n",
            "2113536/2110848 [==============================] - 0s 0us/step\n"
          ],
          "name": "stdout"
        }
      ]
    },
    {
      "cell_type": "code",
      "metadata": {
        "id": "9RDH9Eb4wyvg",
        "colab_type": "code",
        "outputId": "36e6d2f6-2cec-402b-90e5-0bc98c47e75d",
        "colab": {
          "base_uri": "https://localhost:8080/",
          "height": 35
        }
      },
      "source": [
        "len(train_data)"
      ],
      "execution_count": 4,
      "outputs": [
        {
          "output_type": "execute_result",
          "data": {
            "text/plain": [
              "8982"
            ]
          },
          "metadata": {
            "tags": []
          },
          "execution_count": 4
        }
      ]
    },
    {
      "cell_type": "code",
      "metadata": {
        "id": "RuIzMRBUwyvm",
        "colab_type": "code",
        "outputId": "3dea212b-85a9-49a9-bb81-d043713ee51d",
        "colab": {
          "base_uri": "https://localhost:8080/",
          "height": 35
        }
      },
      "source": [
        "len(test_data)"
      ],
      "execution_count": 5,
      "outputs": [
        {
          "output_type": "execute_result",
          "data": {
            "text/plain": [
              "2246"
            ]
          },
          "metadata": {
            "tags": []
          },
          "execution_count": 5
        }
      ]
    },
    {
      "cell_type": "code",
      "metadata": {
        "id": "NTkaZRWqwyvs",
        "colab_type": "code",
        "outputId": "ef9ff900-862d-4b96-903b-d452d061c64c",
        "colab": {
          "base_uri": "https://localhost:8080/",
          "height": 555
        }
      },
      "source": [
        "train_data[10]"
      ],
      "execution_count": 6,
      "outputs": [
        {
          "output_type": "execute_result",
          "data": {
            "text/plain": [
              "[1,\n",
              " 245,\n",
              " 273,\n",
              " 207,\n",
              " 156,\n",
              " 53,\n",
              " 74,\n",
              " 160,\n",
              " 26,\n",
              " 14,\n",
              " 46,\n",
              " 296,\n",
              " 26,\n",
              " 39,\n",
              " 74,\n",
              " 2979,\n",
              " 3554,\n",
              " 14,\n",
              " 46,\n",
              " 4689,\n",
              " 4329,\n",
              " 86,\n",
              " 61,\n",
              " 3499,\n",
              " 4795,\n",
              " 14,\n",
              " 61,\n",
              " 451,\n",
              " 4329,\n",
              " 17,\n",
              " 12]"
            ]
          },
          "metadata": {
            "tags": []
          },
          "execution_count": 6
        }
      ]
    },
    {
      "cell_type": "code",
      "metadata": {
        "id": "9v4W_hbnwyvw",
        "colab_type": "code",
        "outputId": "c8bc734d-6a8a-4d3d-8645-18a9128350c3",
        "colab": {
          "base_uri": "https://localhost:8080/",
          "height": 52
        }
      },
      "source": [
        "word_index = reuters.get_word_index()\n",
        "reverse_word_index = dict([(value, key) for (key, value) in word_index.items()])\n",
        "# Note that our indices were offset by 3\n",
        "# because 0, 1 and 2 are reserved indices for \"padding\", \"start of sequence\", and \"unknown\".\n",
        "decoded_newswire = ' '.join([reverse_word_index.get(i - 3, '?') for i in train_data[0]])"
      ],
      "execution_count": 7,
      "outputs": [
        {
          "output_type": "stream",
          "text": [
            "Downloading data from https://s3.amazonaws.com/text-datasets/reuters_word_index.json\n",
            "557056/550378 [==============================] - 0s 0us/step\n"
          ],
          "name": "stdout"
        }
      ]
    },
    {
      "cell_type": "code",
      "metadata": {
        "id": "rW9QYm4Pwyvy",
        "colab_type": "code",
        "outputId": "4f83b673-e206-4362-bf0f-59659445330d",
        "colab": {
          "base_uri": "https://localhost:8080/",
          "height": 55
        }
      },
      "source": [
        "decoded_newswire"
      ],
      "execution_count": 8,
      "outputs": [
        {
          "output_type": "execute_result",
          "data": {
            "text/plain": [
              "'? ? ? said as a result of its december acquisition of space co it expects earnings per share in 1987 of 1 15 to 1 30 dlrs per share up from 70 cts in 1986 the company said pretax net should rise to nine to 10 mln dlrs from six mln dlrs in 1986 and rental operation revenues to 19 to 22 mln dlrs from 12 5 mln dlrs it said cash flow per share this year should be 2 50 to three dlrs reuter 3'"
            ]
          },
          "metadata": {
            "tags": []
          },
          "execution_count": 8
        }
      ]
    },
    {
      "cell_type": "code",
      "metadata": {
        "id": "jMg9FBqXwyv1",
        "colab_type": "code",
        "outputId": "cba64734-372a-4376-8148-8448a5265b57",
        "colab": {
          "base_uri": "https://localhost:8080/",
          "height": 35
        }
      },
      "source": [
        "train_labels[10]"
      ],
      "execution_count": 9,
      "outputs": [
        {
          "output_type": "execute_result",
          "data": {
            "text/plain": [
              "3"
            ]
          },
          "metadata": {
            "tags": []
          },
          "execution_count": 9
        }
      ]
    },
    {
      "cell_type": "markdown",
      "metadata": {
        "id": "KFFEhgNMwyv3",
        "colab_type": "text"
      },
      "source": [
        "## Preparing the data"
      ]
    },
    {
      "cell_type": "code",
      "metadata": {
        "id": "fCItXrqbwyv4",
        "colab_type": "code",
        "colab": {}
      },
      "source": [
        "word_length = 700"
      ],
      "execution_count": 0,
      "outputs": []
    },
    {
      "cell_type": "code",
      "metadata": {
        "id": "xu4cB2f5wyv6",
        "colab_type": "code",
        "colab": {}
      },
      "source": [
        "train_data = sequence.pad_sequences(train_data, maxlen=word_length)\n",
        "test_data = sequence.pad_sequences(test_data, maxlen=word_length)\n",
        "\n"
      ],
      "execution_count": 0,
      "outputs": []
    },
    {
      "cell_type": "code",
      "metadata": {
        "id": "8bc5tqlP9CN6",
        "colab_type": "code",
        "colab": {}
      },
      "source": [
        "from keras.utils import np_utils\n",
        "\n",
        "train_labels = np_utils.to_categorical(train_labels, 46)\n",
        "test_labels = np_utils.to_categorical(test_labels, 46)"
      ],
      "execution_count": 0,
      "outputs": []
    },
    {
      "cell_type": "markdown",
      "metadata": {
        "id": "BtGKjoKAwyv8",
        "colab_type": "text"
      },
      "source": [
        "## Building our network\n",
        "\n"
      ]
    },
    {
      "cell_type": "markdown",
      "metadata": {
        "id": "fNPdKpODwywD",
        "colab_type": "text"
      },
      "source": [
        "## Stacking RNNs  changing dropout"
      ]
    },
    {
      "cell_type": "code",
      "metadata": {
        "id": "rJc0LItcwywE",
        "colab_type": "code",
        "outputId": "5137ba6a-7e54-45ef-828c-86568bf85d44",
        "colab": {
          "base_uri": "https://localhost:8080/",
          "height": 1000
        }
      },
      "source": [
        "from keras.models import Sequential\n",
        "from keras import layers\n",
        "from keras.optimizers import RMSprop\n",
        "\n",
        "dropout_vary_stacked_lstm = Sequential()\n",
        "dropout_vary_stacked_lstm.add(Embedding(10000, 64))\n",
        "dropout_vary_stacked_lstm.add(layers.LSTM(32,dropout=0.3, recurrent_dropout=0.6,return_sequences=True))\n",
        "dropout_vary_stacked_lstm.add(layers.LSTM(32,dropout=0.3, recurrent_dropout=0.6,return_sequences=True))\n",
        "dropout_vary_stacked_lstm.add(layers.LSTM(32,dropout=0.3, recurrent_dropout=0.6))\n",
        "dropout_vary_stacked_lstm.add(layers.Dense(46,activation='softmax'))\n",
        "\n",
        "dropout_vary_stacked_lstm.compile(optimizer='rmsprop', loss='categorical_crossentropy', metrics=['accuracy'])\n",
        "history = dropout_vary_stacked_lstm.fit(train_data, train_labels,\n",
        "                    epochs=30,\n",
        "                    batch_size=128,\n",
        "                    validation_split=0.3)"
      ],
      "execution_count": 13,
      "outputs": [
        {
          "output_type": "stream",
          "text": [
            "WARNING:tensorflow:From /usr/local/lib/python3.6/dist-packages/keras/backend/tensorflow_backend.py:66: The name tf.get_default_graph is deprecated. Please use tf.compat.v1.get_default_graph instead.\n",
            "\n",
            "WARNING:tensorflow:From /usr/local/lib/python3.6/dist-packages/keras/backend/tensorflow_backend.py:541: The name tf.placeholder is deprecated. Please use tf.compat.v1.placeholder instead.\n",
            "\n",
            "WARNING:tensorflow:From /usr/local/lib/python3.6/dist-packages/keras/backend/tensorflow_backend.py:4432: The name tf.random_uniform is deprecated. Please use tf.random.uniform instead.\n",
            "\n",
            "WARNING:tensorflow:From /usr/local/lib/python3.6/dist-packages/keras/backend/tensorflow_backend.py:148: The name tf.placeholder_with_default is deprecated. Please use tf.compat.v1.placeholder_with_default instead.\n",
            "\n",
            "WARNING:tensorflow:From /usr/local/lib/python3.6/dist-packages/keras/backend/tensorflow_backend.py:3733: calling dropout (from tensorflow.python.ops.nn_ops) with keep_prob is deprecated and will be removed in a future version.\n",
            "Instructions for updating:\n",
            "Please use `rate` instead of `keep_prob`. Rate should be set to `rate = 1 - keep_prob`.\n",
            "WARNING:tensorflow:Large dropout rate: 0.6 (>0.5). In TensorFlow 2.x, dropout() uses dropout rate instead of keep_prob. Please ensure that this is intended.\n",
            "WARNING:tensorflow:Large dropout rate: 0.6 (>0.5). In TensorFlow 2.x, dropout() uses dropout rate instead of keep_prob. Please ensure that this is intended.\n",
            "WARNING:tensorflow:Large dropout rate: 0.6 (>0.5). In TensorFlow 2.x, dropout() uses dropout rate instead of keep_prob. Please ensure that this is intended.\n",
            "WARNING:tensorflow:Large dropout rate: 0.6 (>0.5). In TensorFlow 2.x, dropout() uses dropout rate instead of keep_prob. Please ensure that this is intended.\n",
            "WARNING:tensorflow:Large dropout rate: 0.6 (>0.5). In TensorFlow 2.x, dropout() uses dropout rate instead of keep_prob. Please ensure that this is intended.\n",
            "WARNING:tensorflow:From /usr/local/lib/python3.6/dist-packages/keras/optimizers.py:793: The name tf.train.Optimizer is deprecated. Please use tf.compat.v1.train.Optimizer instead.\n",
            "\n",
            "WARNING:tensorflow:From /usr/local/lib/python3.6/dist-packages/keras/backend/tensorflow_backend.py:3576: The name tf.log is deprecated. Please use tf.math.log instead.\n",
            "\n",
            "WARNING:tensorflow:From /usr/local/lib/python3.6/dist-packages/tensorflow_core/python/ops/math_grad.py:1424: where (from tensorflow.python.ops.array_ops) is deprecated and will be removed in a future version.\n",
            "Instructions for updating:\n",
            "Use tf.where in 2.0, which has the same broadcast rule as np.where\n",
            "WARNING:tensorflow:From /usr/local/lib/python3.6/dist-packages/keras/backend/tensorflow_backend.py:1033: The name tf.assign_add is deprecated. Please use tf.compat.v1.assign_add instead.\n",
            "\n",
            "WARNING:tensorflow:From /usr/local/lib/python3.6/dist-packages/keras/backend/tensorflow_backend.py:1020: The name tf.assign is deprecated. Please use tf.compat.v1.assign instead.\n",
            "\n",
            "WARNING:tensorflow:From /usr/local/lib/python3.6/dist-packages/keras/backend/tensorflow_backend.py:3005: The name tf.Session is deprecated. Please use tf.compat.v1.Session instead.\n",
            "\n",
            "Train on 6287 samples, validate on 2695 samples\n",
            "Epoch 1/30\n",
            "WARNING:tensorflow:From /usr/local/lib/python3.6/dist-packages/keras/backend/tensorflow_backend.py:190: The name tf.get_default_session is deprecated. Please use tf.compat.v1.get_default_session instead.\n",
            "\n",
            "WARNING:tensorflow:From /usr/local/lib/python3.6/dist-packages/keras/backend/tensorflow_backend.py:197: The name tf.ConfigProto is deprecated. Please use tf.compat.v1.ConfigProto instead.\n",
            "\n",
            "WARNING:tensorflow:From /usr/local/lib/python3.6/dist-packages/keras/backend/tensorflow_backend.py:207: The name tf.global_variables is deprecated. Please use tf.compat.v1.global_variables instead.\n",
            "\n",
            "WARNING:tensorflow:From /usr/local/lib/python3.6/dist-packages/keras/backend/tensorflow_backend.py:216: The name tf.is_variable_initialized is deprecated. Please use tf.compat.v1.is_variable_initialized instead.\n",
            "\n",
            "WARNING:tensorflow:From /usr/local/lib/python3.6/dist-packages/keras/backend/tensorflow_backend.py:223: The name tf.variables_initializer is deprecated. Please use tf.compat.v1.variables_initializer instead.\n",
            "\n",
            "6287/6287 [==============================] - 137s 22ms/step - loss: 2.8277 - acc: 0.3070 - val_loss: 2.4050 - val_acc: 0.3532\n",
            "Epoch 2/30\n",
            "6287/6287 [==============================] - 133s 21ms/step - loss: 2.4202 - acc: 0.3491 - val_loss: 2.2649 - val_acc: 0.3536\n",
            "Epoch 3/30\n",
            "6287/6287 [==============================] - 131s 21ms/step - loss: 2.2409 - acc: 0.3496 - val_loss: 2.1371 - val_acc: 0.3551\n",
            "Epoch 4/30\n",
            "6287/6287 [==============================] - 132s 21ms/step - loss: 2.0802 - acc: 0.3741 - val_loss: 2.0206 - val_acc: 0.3696\n",
            "Epoch 5/30\n",
            "6287/6287 [==============================] - 133s 21ms/step - loss: 1.9601 - acc: 0.4253 - val_loss: 1.8727 - val_acc: 0.4842\n",
            "Epoch 6/30\n",
            "6287/6287 [==============================] - 133s 21ms/step - loss: 1.8626 - acc: 0.4775 - val_loss: 1.8837 - val_acc: 0.4690\n",
            "Epoch 7/30\n",
            "6287/6287 [==============================] - 134s 21ms/step - loss: 1.7905 - acc: 0.5093 - val_loss: 1.8688 - val_acc: 0.5002\n",
            "Epoch 8/30\n",
            "6287/6287 [==============================] - 132s 21ms/step - loss: 1.7347 - acc: 0.5231 - val_loss: 1.8632 - val_acc: 0.5147\n",
            "Epoch 9/30\n",
            "6287/6287 [==============================] - 135s 21ms/step - loss: 1.6933 - acc: 0.5400 - val_loss: 1.8885 - val_acc: 0.5154\n",
            "Epoch 10/30\n",
            "6287/6287 [==============================] - 136s 22ms/step - loss: 1.6566 - acc: 0.5473 - val_loss: 1.8238 - val_acc: 0.5224\n",
            "Epoch 11/30\n",
            "6287/6287 [==============================] - 139s 22ms/step - loss: 1.6249 - acc: 0.5516 - val_loss: 1.8903 - val_acc: 0.5213\n",
            "Epoch 12/30\n",
            "6287/6287 [==============================] - 128s 20ms/step - loss: 1.6045 - acc: 0.5583 - val_loss: 1.8287 - val_acc: 0.5250\n",
            "Epoch 13/30\n",
            "6287/6287 [==============================] - 128s 20ms/step - loss: 1.5736 - acc: 0.5680 - val_loss: 1.8309 - val_acc: 0.5295\n",
            "Epoch 14/30\n",
            "6287/6287 [==============================] - 128s 20ms/step - loss: 1.5592 - acc: 0.5672 - val_loss: 1.8344 - val_acc: 0.5299\n",
            "Epoch 15/30\n",
            "6287/6287 [==============================] - 127s 20ms/step - loss: 1.5371 - acc: 0.5709 - val_loss: 1.8752 - val_acc: 0.5247\n",
            "Epoch 16/30\n",
            "6287/6287 [==============================] - 127s 20ms/step - loss: 1.5115 - acc: 0.5752 - val_loss: 1.8831 - val_acc: 0.5340\n",
            "Epoch 17/30\n",
            "6287/6287 [==============================] - 126s 20ms/step - loss: 1.4904 - acc: 0.5822 - val_loss: 1.8633 - val_acc: 0.5295\n",
            "Epoch 18/30\n",
            "6287/6287 [==============================] - 126s 20ms/step - loss: 1.4823 - acc: 0.5826 - val_loss: 1.8987 - val_acc: 0.5213\n",
            "Epoch 19/30\n",
            "6287/6287 [==============================] - 126s 20ms/step - loss: 1.4677 - acc: 0.5861 - val_loss: 1.8923 - val_acc: 0.5325\n",
            "Epoch 20/30\n",
            "6287/6287 [==============================] - 127s 20ms/step - loss: 1.4450 - acc: 0.5876 - val_loss: 1.9118 - val_acc: 0.5325\n",
            "Epoch 21/30\n",
            "6287/6287 [==============================] - 127s 20ms/step - loss: 1.4350 - acc: 0.5955 - val_loss: 1.9439 - val_acc: 0.5236\n",
            "Epoch 22/30\n",
            "6287/6287 [==============================] - 127s 20ms/step - loss: 1.4080 - acc: 0.5981 - val_loss: 1.9156 - val_acc: 0.5239\n",
            "Epoch 23/30\n",
            "6287/6287 [==============================] - 128s 20ms/step - loss: 1.4153 - acc: 0.5985 - val_loss: 1.9357 - val_acc: 0.5187\n",
            "Epoch 24/30\n",
            "6287/6287 [==============================] - 127s 20ms/step - loss: 1.3877 - acc: 0.6046 - val_loss: 1.9374 - val_acc: 0.5083\n",
            "Epoch 25/30\n",
            "6287/6287 [==============================] - 125s 20ms/step - loss: 1.3700 - acc: 0.6133 - val_loss: 1.9304 - val_acc: 0.5239\n",
            "Epoch 26/30\n",
            "6287/6287 [==============================] - 127s 20ms/step - loss: 1.3623 - acc: 0.6105 - val_loss: 1.9654 - val_acc: 0.5221\n",
            "Epoch 27/30\n",
            "6287/6287 [==============================] - 126s 20ms/step - loss: 1.3484 - acc: 0.6092 - val_loss: 1.9293 - val_acc: 0.5169\n",
            "Epoch 28/30\n",
            "6287/6287 [==============================] - 126s 20ms/step - loss: 1.3373 - acc: 0.6187 - val_loss: 1.9184 - val_acc: 0.5213\n",
            "Epoch 29/30\n",
            "6287/6287 [==============================] - 126s 20ms/step - loss: 1.3296 - acc: 0.6191 - val_loss: 1.9543 - val_acc: 0.5158\n",
            "Epoch 30/30\n",
            "6287/6287 [==============================] - 128s 20ms/step - loss: 1.3123 - acc: 0.6278 - val_loss: 1.9312 - val_acc: 0.5228\n"
          ],
          "name": "stdout"
        }
      ]
    },
    {
      "cell_type": "code",
      "metadata": {
        "id": "CbJTxUYgwywG",
        "colab_type": "code",
        "outputId": "ac2cc035-ee26-49f1-c8f9-5d6f3c912cb4",
        "colab": {
          "base_uri": "https://localhost:8080/",
          "height": 329
        }
      },
      "source": [
        "dropout_vary_stacked_lstm.summary()"
      ],
      "execution_count": 14,
      "outputs": [
        {
          "output_type": "stream",
          "text": [
            "Model: \"sequential_1\"\n",
            "_________________________________________________________________\n",
            "Layer (type)                 Output Shape              Param #   \n",
            "=================================================================\n",
            "embedding_1 (Embedding)      (None, None, 64)          640000    \n",
            "_________________________________________________________________\n",
            "lstm_1 (LSTM)                (None, None, 32)          12416     \n",
            "_________________________________________________________________\n",
            "lstm_2 (LSTM)                (None, None, 32)          8320      \n",
            "_________________________________________________________________\n",
            "lstm_3 (LSTM)                (None, 32)                8320      \n",
            "_________________________________________________________________\n",
            "dense_1 (Dense)              (None, 46)                1518      \n",
            "=================================================================\n",
            "Total params: 670,574\n",
            "Trainable params: 670,574\n",
            "Non-trainable params: 0\n",
            "_________________________________________________________________\n"
          ],
          "name": "stdout"
        }
      ]
    },
    {
      "cell_type": "code",
      "metadata": {
        "id": "l06kON4HwywI",
        "colab_type": "code",
        "outputId": "e66025d6-9830-42e1-ebb7-d2aa1c1975f2",
        "colab": {
          "base_uri": "https://localhost:8080/",
          "height": 545
        }
      },
      "source": [
        "import matplotlib.pyplot as plt\n",
        "\n",
        "acc = history.history['acc']\n",
        "val_acc = history.history['val_acc']\n",
        "loss = history.history['loss']\n",
        "val_loss = history.history['val_loss']\n",
        "\n",
        "epochs = range(len(acc))\n",
        "\n",
        "plt.plot(epochs, acc, 'bo', label='Training acc')\n",
        "plt.plot(epochs, val_acc, 'b', label='Validation acc')\n",
        "plt.title('Training and validation accuracy')\n",
        "plt.legend()\n",
        "\n",
        "plt.figure()\n",
        "\n",
        "plt.plot(epochs, loss, 'bo', label='Training loss')\n",
        "plt.plot(epochs, val_loss, 'b', label='Validation loss')\n",
        "plt.title('Training and validation loss')\n",
        "plt.legend()\n",
        "\n",
        "plt.show()"
      ],
      "execution_count": 15,
      "outputs": [
        {
          "output_type": "display_data",
          "data": {
            "image/png": "[encoded data removed]",
            "text/plain": [
              "<Figure size 432x288 with 1 Axes>"
            ]
          },
          "metadata": {
            "tags": []
          }
        },
        {
          "output_type": "display_data",
          "data": {
            "image/png": "[encoded data removed]",
            "text/plain": [
              "<Figure size 432x288 with 1 Axes>"
            ]
          },
          "metadata": {
            "tags": []
          }
        }
      ]
    },
    {
      "cell_type": "code",
      "metadata": {
        "id": "W6nq1O_Byy6-",
        "colab_type": "code",
        "colab": {
          "base_uri": "https://localhost:8080/",
          "height": 607
        },
        "outputId": "1c824a3c-ef5d-4620-b6b8-2439ebe64d68"
      },
      "source": [
        "\n",
        "dropout_vary_stacked_lstm = Sequential()\n",
        "dropout_vary_stacked_lstm.add(Embedding(10000, 64))\n",
        "dropout_vary_stacked_lstm.add(layers.LSTM(32,dropout=0.3, recurrent_dropout=0.6,return_sequences=True))\n",
        "dropout_vary_stacked_lstm.add(layers.LSTM(32,dropout=0.3, recurrent_dropout=0.6,return_sequences=True))\n",
        "dropout_vary_stacked_lstm.add(layers.LSTM(32,dropout=0.3, recurrent_dropout=0.6))\n",
        "dropout_vary_stacked_lstm.add(layers.Dense(46,activation='softmax'))\n",
        "\n",
        "dropout_vary_stacked_lstm.compile(optimizer='rmsprop', loss='categorical_crossentropy', metrics=['accuracy'])\n",
        "history = dropout_vary_stacked_lstm.fit(train_data, train_labels,\n",
        "                    epochs=16,\n",
        "                    batch_size=128,\n",
        "                    validation_split=0.3)\n",
        "results = dropout_vary_stacked_lstm.evaluate(test_data, test_labels)"
      ],
      "execution_count": 16,
      "outputs": [
        {
          "output_type": "stream",
          "text": [
            "Train on 6287 samples, validate on 2695 samples\n",
            "Epoch 1/16\n",
            "6287/6287 [==============================] - 131s 21ms/step - loss: 2.8878 - acc: 0.3269 - val_loss: 2.4148 - val_acc: 0.3532\n",
            "Epoch 2/16\n",
            "6287/6287 [==============================] - 128s 20ms/step - loss: 2.4278 - acc: 0.3512 - val_loss: 2.3769 - val_acc: 0.3540\n",
            "Epoch 3/16\n",
            "6287/6287 [==============================] - 128s 20ms/step - loss: 2.2847 - acc: 0.3582 - val_loss: 2.0662 - val_acc: 0.3673\n",
            "Epoch 4/16\n",
            "6287/6287 [==============================] - 127s 20ms/step - loss: 2.0695 - acc: 0.4051 - val_loss: 1.9796 - val_acc: 0.4026\n",
            "Epoch 5/16\n",
            "6287/6287 [==============================] - 128s 20ms/step - loss: 1.9423 - acc: 0.4579 - val_loss: 1.8487 - val_acc: 0.5020\n",
            "Epoch 6/16\n",
            "6287/6287 [==============================] - 130s 21ms/step - loss: 1.8442 - acc: 0.5028 - val_loss: 1.9054 - val_acc: 0.4801\n",
            "Epoch 7/16\n",
            "6287/6287 [==============================] - 132s 21ms/step - loss: 1.7802 - acc: 0.5161 - val_loss: 1.8078 - val_acc: 0.5291\n",
            "Epoch 8/16\n",
            "6287/6287 [==============================] - 121s 19ms/step - loss: 1.7270 - acc: 0.5322 - val_loss: 1.7841 - val_acc: 0.5332\n",
            "Epoch 9/16\n",
            "6287/6287 [==============================] - 123s 20ms/step - loss: 1.7028 - acc: 0.5346 - val_loss: 1.7973 - val_acc: 0.5321\n",
            "Epoch 10/16\n",
            "6287/6287 [==============================] - 122s 19ms/step - loss: 1.6786 - acc: 0.5398 - val_loss: 1.7867 - val_acc: 0.5343\n",
            "Epoch 11/16\n",
            "6287/6287 [==============================] - 124s 20ms/step - loss: 1.6634 - acc: 0.5424 - val_loss: 1.8201 - val_acc: 0.5369\n",
            "Epoch 12/16\n",
            "6287/6287 [==============================] - 127s 20ms/step - loss: 1.6364 - acc: 0.5424 - val_loss: 1.7947 - val_acc: 0.5410\n",
            "Epoch 13/16\n",
            "6287/6287 [==============================] - 126s 20ms/step - loss: 1.6072 - acc: 0.5459 - val_loss: 1.8088 - val_acc: 0.5354\n",
            "Epoch 14/16\n",
            "6287/6287 [==============================] - 122s 19ms/step - loss: 1.5868 - acc: 0.5575 - val_loss: 1.7891 - val_acc: 0.5469\n",
            "Epoch 15/16\n",
            "6287/6287 [==============================] - 122s 19ms/step - loss: 1.5741 - acc: 0.5594 - val_loss: 1.8115 - val_acc: 0.5447\n",
            "Epoch 16/16\n",
            "6287/6287 [==============================] - 122s 19ms/step - loss: 1.5582 - acc: 0.5596 - val_loss: 1.8725 - val_acc: 0.5384\n",
            "2246/2246 [==============================] - 14s 6ms/step\n"
          ],
          "name": "stdout"
        }
      ]
    },
    {
      "cell_type": "code",
      "metadata": {
        "id": "nMRE-DZczGwd",
        "colab_type": "code",
        "colab": {
          "base_uri": "https://localhost:8080/",
          "height": 35
        },
        "outputId": "ee39f8d5-0ea5-4b0d-9684-2beef6c30719"
      },
      "source": [
        "results"
      ],
      "execution_count": 17,
      "outputs": [
        {
          "output_type": "execute_result",
          "data": {
            "text/plain": [
              "[1.932011440197273, 0.533837934158152]"
            ]
          },
          "metadata": {
            "tags": []
          },
          "execution_count": 17
        }
      ]
    },
    {
      "cell_type": "markdown",
      "metadata": {
        "id": "r_blI5xxENj3",
        "colab_type": "text"
      },
      "source": [
        "\n",
        "\n",
        "## Stacking RNNs increasing number of units and changing dropout\n",
        "\n",
        "\n",
        "\n",
        "\n"
      ]
    },
    {
      "cell_type": "code",
      "metadata": {
        "id": "cIvPK8wBELQS",
        "colab_type": "code",
        "outputId": "38b02fd3-955b-4c66-b3b9-42900dd942bf",
        "colab": {
          "base_uri": "https://localhost:8080/",
          "height": 1000
        }
      },
      "source": [
        "from keras.models import Sequential\n",
        "from keras import layers\n",
        "from keras.optimizers import RMSprop\n",
        "\n",
        "high_unit_dropout_vary_stacked_lstm = Sequential()\n",
        "high_unit_dropout_vary_stacked_lstm.add(Embedding(10000, 64))\n",
        "high_unit_dropout_vary_stacked_lstm.add(layers.LSTM(128,dropout=0.3, recurrent_dropout=0.6,return_sequences=True))\n",
        "high_unit_dropout_vary_stacked_lstm.add(layers.LSTM(128,dropout=0.3, recurrent_dropout=0.6,return_sequences=True))\n",
        "high_unit_dropout_vary_stacked_lstm.add(layers.LSTM(128,dropout=0.3, recurrent_dropout=0.6))\n",
        "high_unit_dropout_vary_stacked_lstm.add(layers.Dense(46,activation='softmax'))\n",
        "\n",
        "high_unit_dropout_vary_stacked_lstm.compile(optimizer='rmsprop', loss='categorical_crossentropy', metrics=['accuracy'])\n",
        "history = high_unit_dropout_vary_stacked_lstm.fit(train_data, train_labels,\n",
        "                    epochs=30,\n",
        "                    batch_size=128,\n",
        "                    validation_split=0.3)"
      ],
      "execution_count": 18,
      "outputs": [
        {
          "output_type": "stream",
          "text": [
            "Train on 6287 samples, validate on 2695 samples\n",
            "Epoch 1/30\n",
            "6287/6287 [==============================] - 361s 57ms/step - loss: 2.4871 - acc: 0.3396 - val_loss: 2.1051 - val_acc: 0.3707\n",
            "Epoch 2/30\n",
            "6287/6287 [==============================] - 351s 56ms/step - loss: 2.0080 - acc: 0.4376 - val_loss: 1.8448 - val_acc: 0.5113\n",
            "Epoch 3/30\n",
            "6287/6287 [==============================] - 350s 56ms/step - loss: 1.8112 - acc: 0.5077 - val_loss: 2.1027 - val_acc: 0.4980\n",
            "Epoch 4/30\n",
            "6287/6287 [==============================] - 336s 53ms/step - loss: 1.7458 - acc: 0.5263 - val_loss: 1.8102 - val_acc: 0.5332\n",
            "Epoch 5/30\n",
            "6287/6287 [==============================] - 350s 56ms/step - loss: 1.7033 - acc: 0.5394 - val_loss: 1.7219 - val_acc: 0.5547\n",
            "Epoch 6/30\n",
            "6287/6287 [==============================] - 345s 55ms/step - loss: 1.6450 - acc: 0.5626 - val_loss: 1.7756 - val_acc: 0.5692\n",
            "Epoch 7/30\n",
            "6287/6287 [==============================] - 371s 59ms/step - loss: 1.6182 - acc: 0.5666 - val_loss: 1.7355 - val_acc: 0.5673\n",
            "Epoch 8/30\n",
            "6287/6287 [==============================] - 384s 61ms/step - loss: 1.5731 - acc: 0.5820 - val_loss: 1.7464 - val_acc: 0.5592\n",
            "Epoch 9/30\n",
            "6287/6287 [==============================] - 389s 62ms/step - loss: 1.5354 - acc: 0.5930 - val_loss: 1.6964 - val_acc: 0.5807\n",
            "Epoch 10/30\n",
            "6287/6287 [==============================] - 389s 62ms/step - loss: 1.5020 - acc: 0.6049 - val_loss: 1.7717 - val_acc: 0.5388\n",
            "Epoch 11/30\n",
            "6287/6287 [==============================] - 380s 60ms/step - loss: 1.4792 - acc: 0.6076 - val_loss: 1.7154 - val_acc: 0.5911\n",
            "Epoch 12/30\n",
            "6287/6287 [==============================] - 381s 61ms/step - loss: 1.4631 - acc: 0.6117 - val_loss: 1.8568 - val_acc: 0.5514\n",
            "Epoch 13/30\n",
            "6287/6287 [==============================] - 375s 60ms/step - loss: 1.4270 - acc: 0.6221 - val_loss: 1.9607 - val_acc: 0.5321\n",
            "Epoch 14/30\n",
            "6287/6287 [==============================] - 371s 59ms/step - loss: 1.3930 - acc: 0.6327 - val_loss: 1.7381 - val_acc: 0.5904\n",
            "Epoch 15/30\n",
            "6287/6287 [==============================] - 373s 59ms/step - loss: 1.3910 - acc: 0.6354 - val_loss: 2.0912 - val_acc: 0.5555\n",
            "Epoch 16/30\n",
            "6287/6287 [==============================] - 371s 59ms/step - loss: 1.3656 - acc: 0.6391 - val_loss: 1.6720 - val_acc: 0.5955\n",
            "Epoch 17/30\n",
            "6287/6287 [==============================] - 367s 58ms/step - loss: 1.3299 - acc: 0.6561 - val_loss: 1.7143 - val_acc: 0.5892\n",
            "Epoch 18/30\n",
            "6287/6287 [==============================] - 366s 58ms/step - loss: 1.3538 - acc: 0.6443 - val_loss: 1.7800 - val_acc: 0.5748\n",
            "Epoch 19/30\n",
            "6287/6287 [==============================] - 361s 57ms/step - loss: 1.3094 - acc: 0.6609 - val_loss: 1.7015 - val_acc: 0.5911\n",
            "Epoch 20/30\n",
            "6287/6287 [==============================] - 361s 57ms/step - loss: 1.3011 - acc: 0.6591 - val_loss: 1.7285 - val_acc: 0.6015\n",
            "Epoch 21/30\n",
            "6287/6287 [==============================] - 363s 58ms/step - loss: 1.2752 - acc: 0.6658 - val_loss: 1.8619 - val_acc: 0.5699\n",
            "Epoch 22/30\n",
            "6287/6287 [==============================] - 358s 57ms/step - loss: 1.2483 - acc: 0.6715 - val_loss: 1.6670 - val_acc: 0.6067\n",
            "Epoch 23/30\n",
            "6287/6287 [==============================] - 353s 56ms/step - loss: 1.2313 - acc: 0.6755 - val_loss: 1.6933 - val_acc: 0.6059\n",
            "Epoch 24/30\n",
            "6287/6287 [==============================] - 355s 57ms/step - loss: 1.2243 - acc: 0.6744 - val_loss: 1.7324 - val_acc: 0.6052\n",
            "Epoch 25/30\n",
            "6287/6287 [==============================] - 349s 55ms/step - loss: 1.1914 - acc: 0.6887 - val_loss: 1.7684 - val_acc: 0.5904\n",
            "Epoch 26/30\n",
            "6287/6287 [==============================] - 345s 55ms/step - loss: 1.1886 - acc: 0.6875 - val_loss: 1.9707 - val_acc: 0.5544\n",
            "Epoch 27/30\n",
            "6287/6287 [==============================] - 343s 55ms/step - loss: 1.1739 - acc: 0.6894 - val_loss: 1.6735 - val_acc: 0.6089\n",
            "Epoch 28/30\n",
            "6287/6287 [==============================] - 349s 56ms/step - loss: 1.1680 - acc: 0.6951 - val_loss: 1.8134 - val_acc: 0.5822\n",
            "Epoch 29/30\n",
            "6287/6287 [==============================] - 357s 57ms/step - loss: 1.1379 - acc: 0.6981 - val_loss: 1.7372 - val_acc: 0.5889\n",
            "Epoch 30/30\n",
            "6287/6287 [==============================] - 361s 57ms/step - loss: 1.1098 - acc: 0.7067 - val_loss: 1.6961 - val_acc: 0.6200\n"
          ],
          "name": "stdout"
        }
      ]
    },
    {
      "cell_type": "code",
      "metadata": {
        "id": "-0oDlpp0_ReN",
        "colab_type": "code",
        "colab": {
          "base_uri": "https://localhost:8080/",
          "height": 329
        },
        "outputId": "12ce8327-4616-4a54-f0ac-d134ffdf536b"
      },
      "source": [
        "high_unit_dropout_vary_stacked_lstm.summary()"
      ],
      "execution_count": 19,
      "outputs": [
        {
          "output_type": "stream",
          "text": [
            "Model: \"sequential_3\"\n",
            "_________________________________________________________________\n",
            "Layer (type)                 Output Shape              Param #   \n",
            "=================================================================\n",
            "embedding_3 (Embedding)      (None, None, 64)          640000    \n",
            "_________________________________________________________________\n",
            "lstm_7 (LSTM)                (None, None, 128)         98816     \n",
            "_________________________________________________________________\n",
            "lstm_8 (LSTM)                (None, None, 128)         131584    \n",
            "_________________________________________________________________\n",
            "lstm_9 (LSTM)                (None, 128)               131584    \n",
            "_________________________________________________________________\n",
            "dense_3 (Dense)              (None, 46)                5934      \n",
            "=================================================================\n",
            "Total params: 1,007,918\n",
            "Trainable params: 1,007,918\n",
            "Non-trainable params: 0\n",
            "_________________________________________________________________\n"
          ],
          "name": "stdout"
        }
      ]
    },
    {
      "cell_type": "code",
      "metadata": {
        "id": "11-IhySe_UgE",
        "colab_type": "code",
        "colab": {
          "base_uri": "https://localhost:8080/",
          "height": 545
        },
        "outputId": "88184f25-144a-4013-b339-59adb6560b7a"
      },
      "source": [
        "import matplotlib.pyplot as plt\n",
        "\n",
        "acc = history.history['acc']\n",
        "val_acc = history.history['val_acc']\n",
        "loss = history.history['loss']\n",
        "val_loss = history.history['val_loss']\n",
        "\n",
        "epochs = range(len(acc))\n",
        "\n",
        "plt.plot(epochs, acc, 'bo', label='Training acc')\n",
        "plt.plot(epochs, val_acc, 'b', label='Validation acc')\n",
        "plt.title('Training and validation accuracy')\n",
        "plt.legend()\n",
        "\n",
        "plt.figure()\n",
        "\n",
        "plt.plot(epochs, loss, 'bo', label='Training loss')\n",
        "plt.plot(epochs, val_loss, 'b', label='Validation loss')\n",
        "plt.title('Training and validation loss')\n",
        "plt.legend()\n",
        "\n",
        "plt.show()"
      ],
      "execution_count": 20,
      "outputs": [
        {
          "output_type": "display_data",
          "data": {
            "image/png": "[encoded data removed]",
            "text/plain": [
              "<Figure size 432x288 with 1 Axes>"
            ]
          },
          "metadata": {
            "tags": []
          }
        },
        {
          "output_type": "display_data",
          "data": {
            "image/png": "[encoded data removed]",
            "text/plain": [
              "<Figure size 432x288 with 1 Axes>"
            ]
          },
          "metadata": {
            "tags": []
          }
        }
      ]
    },
    {
      "cell_type": "code",
      "metadata": {
        "id": "VG_izKmGzPcv",
        "colab_type": "code",
        "colab": {
          "base_uri": "https://localhost:8080/",
          "height": 1000
        },
        "outputId": "4bf628e1-8692-4526-885d-3ec37c023d0d"
      },
      "source": [
        "\n",
        "\n",
        "high_unit_dropout_vary_stacked_lstm = Sequential()\n",
        "high_unit_dropout_vary_stacked_lstm.add(Embedding(10000, 64))\n",
        "high_unit_dropout_vary_stacked_lstm.add(layers.LSTM(128,dropout=0.3, recurrent_dropout=0.6,return_sequences=True))\n",
        "high_unit_dropout_vary_stacked_lstm.add(layers.LSTM(128,dropout=0.3, recurrent_dropout=0.6,return_sequences=True))\n",
        "high_unit_dropout_vary_stacked_lstm.add(layers.LSTM(128,dropout=0.3, recurrent_dropout=0.6))\n",
        "high_unit_dropout_vary_stacked_lstm.add(layers.Dense(46,activation='softmax'))\n",
        "\n",
        "high_unit_dropout_vary_stacked_lstm.compile(optimizer='rmsprop', loss='categorical_crossentropy', metrics=['accuracy'])\n",
        "history = high_unit_dropout_vary_stacked_lstm.fit(train_data, train_labels,\n",
        "                    epochs=30,\n",
        "                    batch_size=128,\n",
        "                    validation_split=0.3)\n",
        "results = high_unit_dropout_vary_stacked_lstm.evaluate(test_data, test_labels)"
      ],
      "execution_count": 21,
      "outputs": [
        {
          "output_type": "stream",
          "text": [
            "Train on 6287 samples, validate on 2695 samples\n",
            "Epoch 1/30\n",
            "6287/6287 [==============================] - 350s 56ms/step - loss: 2.4312 - acc: 0.3595 - val_loss: 2.4131 - val_acc: 0.3551\n",
            "Epoch 2/30\n",
            "6287/6287 [==============================] - 359s 57ms/step - loss: 1.9458 - acc: 0.4630 - val_loss: 1.9094 - val_acc: 0.4586\n",
            "Epoch 3/30\n",
            "6287/6287 [==============================] - 362s 58ms/step - loss: 1.7904 - acc: 0.5223 - val_loss: 2.2573 - val_acc: 0.5199\n",
            "Epoch 4/30\n",
            "6287/6287 [==============================] - 363s 58ms/step - loss: 1.7560 - acc: 0.5394 - val_loss: 1.7983 - val_acc: 0.5388\n",
            "Epoch 5/30\n",
            "6287/6287 [==============================] - 367s 58ms/step - loss: 1.7022 - acc: 0.5456 - val_loss: 1.7646 - val_acc: 0.5540\n",
            "Epoch 6/30\n",
            "6287/6287 [==============================] - 370s 59ms/step - loss: 1.6450 - acc: 0.5589 - val_loss: 1.8293 - val_acc: 0.5544\n",
            "Epoch 7/30\n",
            "6287/6287 [==============================] - 366s 58ms/step - loss: 1.6033 - acc: 0.5763 - val_loss: 1.8484 - val_acc: 0.5017\n",
            "Epoch 8/30\n",
            "6287/6287 [==============================] - 367s 58ms/step - loss: 1.5702 - acc: 0.5850 - val_loss: 1.7834 - val_acc: 0.5351\n",
            "Epoch 9/30\n",
            "6287/6287 [==============================] - 366s 58ms/step - loss: 1.5452 - acc: 0.5871 - val_loss: 1.8209 - val_acc: 0.5373\n",
            "Epoch 10/30\n",
            "6287/6287 [==============================] - 366s 58ms/step - loss: 1.5130 - acc: 0.6028 - val_loss: 1.6899 - val_acc: 0.5955\n",
            "Epoch 11/30\n",
            "6287/6287 [==============================] - 366s 58ms/step - loss: 1.4872 - acc: 0.6081 - val_loss: 1.6480 - val_acc: 0.5963\n",
            "Epoch 12/30\n",
            "6287/6287 [==============================] - 366s 58ms/step - loss: 1.4409 - acc: 0.6227 - val_loss: 1.7974 - val_acc: 0.5651\n",
            "Epoch 13/30\n",
            "6287/6287 [==============================] - 367s 58ms/step - loss: 1.4154 - acc: 0.6254 - val_loss: 1.8268 - val_acc: 0.5863\n",
            "Epoch 14/30\n",
            "6287/6287 [==============================] - 366s 58ms/step - loss: 1.4061 - acc: 0.6278 - val_loss: 1.6433 - val_acc: 0.6085\n",
            "Epoch 15/30\n",
            "6287/6287 [==============================] - 366s 58ms/step - loss: 1.3773 - acc: 0.6372 - val_loss: 1.6763 - val_acc: 0.6000\n",
            "Epoch 16/30\n",
            "6287/6287 [==============================] - 368s 58ms/step - loss: 1.3674 - acc: 0.6399 - val_loss: 1.6764 - val_acc: 0.6063\n",
            "Epoch 17/30\n",
            "6287/6287 [==============================] - 368s 59ms/step - loss: 1.3372 - acc: 0.6483 - val_loss: 1.6910 - val_acc: 0.6026\n",
            "Epoch 18/30\n",
            "6287/6287 [==============================] - 369s 59ms/step - loss: 1.3332 - acc: 0.6498 - val_loss: 1.7462 - val_acc: 0.6093\n",
            "Epoch 19/30\n",
            "6287/6287 [==============================] - 364s 58ms/step - loss: 1.3052 - acc: 0.6550 - val_loss: 1.6583 - val_acc: 0.6085\n",
            "Epoch 20/30\n",
            "6287/6287 [==============================] - 365s 58ms/step - loss: 1.2720 - acc: 0.6672 - val_loss: 1.6512 - val_acc: 0.6063\n",
            "Epoch 21/30\n",
            "6287/6287 [==============================] - 365s 58ms/step - loss: 1.2690 - acc: 0.6701 - val_loss: 1.7265 - val_acc: 0.6045\n",
            "Epoch 22/30\n",
            "6287/6287 [==============================] - 378s 60ms/step - loss: 1.2497 - acc: 0.6693 - val_loss: 1.6301 - val_acc: 0.6234\n",
            "Epoch 23/30\n",
            "6287/6287 [==============================] - 372s 59ms/step - loss: 1.2293 - acc: 0.6781 - val_loss: 1.8247 - val_acc: 0.5896\n",
            "Epoch 24/30\n",
            "6287/6287 [==============================] - 372s 59ms/step - loss: 1.2118 - acc: 0.6770 - val_loss: 1.7396 - val_acc: 0.5970\n",
            "Epoch 25/30\n",
            "6287/6287 [==============================] - 374s 60ms/step - loss: 1.1928 - acc: 0.6836 - val_loss: 1.7640 - val_acc: 0.6063\n",
            "Epoch 26/30\n",
            "6287/6287 [==============================] - 372s 59ms/step - loss: 1.1845 - acc: 0.6851 - val_loss: 1.9047 - val_acc: 0.5503\n",
            "Epoch 27/30\n",
            "6287/6287 [==============================] - 370s 59ms/step - loss: 1.1724 - acc: 0.6894 - val_loss: 1.6683 - val_acc: 0.6037\n",
            "Epoch 28/30\n",
            "6287/6287 [==============================] - 369s 59ms/step - loss: 1.1411 - acc: 0.7024 - val_loss: 1.7195 - val_acc: 0.6085\n",
            "Epoch 29/30\n",
            "6287/6287 [==============================] - 369s 59ms/step - loss: 1.1358 - acc: 0.7019 - val_loss: 1.7223 - val_acc: 0.6115\n",
            "Epoch 30/30\n",
            "6287/6287 [==============================] - 369s 59ms/step - loss: 1.1200 - acc: 0.7014 - val_loss: 1.6966 - val_acc: 0.6056\n",
            "2246/2246 [==============================] - 34s 15ms/step\n"
          ],
          "name": "stdout"
        }
      ]
    },
    {
      "cell_type": "code",
      "metadata": {
        "id": "SQvCAy84zUq4",
        "colab_type": "code",
        "colab": {
          "base_uri": "https://localhost:8080/",
          "height": 35
        },
        "outputId": "af9de043-bd1e-4a81-bc79-8abefb561e40"
      },
      "source": [
        "results"
      ],
      "execution_count": 22,
      "outputs": [
        {
          "output_type": "execute_result",
          "data": {
            "text/plain": [
              "[1.7734851947556833, 0.5863757792160327]"
            ]
          },
          "metadata": {
            "tags": []
          },
          "execution_count": 22
        }
      ]
    },
    {
      "cell_type": "markdown",
      "metadata": {
        "id": "NLiKG1JhE_y0",
        "colab_type": "text"
      },
      "source": [
        "## Stacking RNNs increasing number of units\n",
        "\n",
        "\n",
        "\n",
        "\n",
        "\n"
      ]
    },
    {
      "cell_type": "code",
      "metadata": {
        "id": "d3hsbp5fFC1e",
        "colab_type": "code",
        "colab": {
          "base_uri": "https://localhost:8080/",
          "height": 1000
        },
        "outputId": "b58eeecc-b35e-43de-b88b-7af48a703c03"
      },
      "source": [
        "from keras.models import Sequential\n",
        "from keras import layers\n",
        "from keras.optimizers import RMSprop\n",
        "\n",
        "high_unit_stacked_lstm = Sequential()\n",
        "high_unit_stacked_lstm.add(Embedding(10000, 64))\n",
        "high_unit_stacked_lstm.add(layers.LSTM(128,dropout=0.2, recurrent_dropout=0.2,return_sequences=True))\n",
        "high_unit_stacked_lstm.add(layers.LSTM(128,dropout=0.2, recurrent_dropout=0.2,return_sequences=True))\n",
        "high_unit_stacked_lstm.add(layers.LSTM(128,dropout=0.2, recurrent_dropout=0.2))\n",
        "high_unit_stacked_lstm.add(layers.Dense(46,activation='softmax'))\n",
        "\n",
        "high_unit_stacked_lstm.compile(optimizer='rmsprop', loss='categorical_crossentropy', metrics=['accuracy'])\n",
        "history = high_unit_stacked_lstm.fit(train_data, train_labels,\n",
        "                    epochs=30,\n",
        "                    batch_size=128,\n",
        "                    validation_split=0.3)"
      ],
      "execution_count": 13,
      "outputs": [
        {
          "output_type": "stream",
          "text": [
            "WARNING:tensorflow:From /usr/local/lib/python3.6/dist-packages/keras/backend/tensorflow_backend.py:66: The name tf.get_default_graph is deprecated. Please use tf.compat.v1.get_default_graph instead.\n",
            "\n",
            "WARNING:tensorflow:From /usr/local/lib/python3.6/dist-packages/keras/backend/tensorflow_backend.py:541: The name tf.placeholder is deprecated. Please use tf.compat.v1.placeholder instead.\n",
            "\n",
            "WARNING:tensorflow:From /usr/local/lib/python3.6/dist-packages/keras/backend/tensorflow_backend.py:4432: The name tf.random_uniform is deprecated. Please use tf.random.uniform instead.\n",
            "\n",
            "WARNING:tensorflow:From /usr/local/lib/python3.6/dist-packages/keras/backend/tensorflow_backend.py:148: The name tf.placeholder_with_default is deprecated. Please use tf.compat.v1.placeholder_with_default instead.\n",
            "\n",
            "WARNING:tensorflow:From /usr/local/lib/python3.6/dist-packages/keras/backend/tensorflow_backend.py:3733: calling dropout (from tensorflow.python.ops.nn_ops) with keep_prob is deprecated and will be removed in a future version.\n",
            "Instructions for updating:\n",
            "Please use `rate` instead of `keep_prob`. Rate should be set to `rate = 1 - keep_prob`.\n",
            "WARNING:tensorflow:From /usr/local/lib/python3.6/dist-packages/keras/optimizers.py:793: The name tf.train.Optimizer is deprecated. Please use tf.compat.v1.train.Optimizer instead.\n",
            "\n",
            "WARNING:tensorflow:From /usr/local/lib/python3.6/dist-packages/keras/backend/tensorflow_backend.py:3576: The name tf.log is deprecated. Please use tf.math.log instead.\n",
            "\n",
            "WARNING:tensorflow:From /usr/local/lib/python3.6/dist-packages/tensorflow_core/python/ops/math_grad.py:1424: where (from tensorflow.python.ops.array_ops) is deprecated and will be removed in a future version.\n",
            "Instructions for updating:\n",
            "Use tf.where in 2.0, which has the same broadcast rule as np.where\n",
            "WARNING:tensorflow:From /usr/local/lib/python3.6/dist-packages/keras/backend/tensorflow_backend.py:1033: The name tf.assign_add is deprecated. Please use tf.compat.v1.assign_add instead.\n",
            "\n",
            "WARNING:tensorflow:From /usr/local/lib/python3.6/dist-packages/keras/backend/tensorflow_backend.py:1020: The name tf.assign is deprecated. Please use tf.compat.v1.assign instead.\n",
            "\n",
            "WARNING:tensorflow:From /usr/local/lib/python3.6/dist-packages/keras/backend/tensorflow_backend.py:3005: The name tf.Session is deprecated. Please use tf.compat.v1.Session instead.\n",
            "\n",
            "Train on 6287 samples, validate on 2695 samples\n",
            "Epoch 1/30\n",
            "WARNING:tensorflow:From /usr/local/lib/python3.6/dist-packages/keras/backend/tensorflow_backend.py:190: The name tf.get_default_session is deprecated. Please use tf.compat.v1.get_default_session instead.\n",
            "\n",
            "WARNING:tensorflow:From /usr/local/lib/python3.6/dist-packages/keras/backend/tensorflow_backend.py:197: The name tf.ConfigProto is deprecated. Please use tf.compat.v1.ConfigProto instead.\n",
            "\n",
            "WARNING:tensorflow:From /usr/local/lib/python3.6/dist-packages/keras/backend/tensorflow_backend.py:207: The name tf.global_variables is deprecated. Please use tf.compat.v1.global_variables instead.\n",
            "\n",
            "WARNING:tensorflow:From /usr/local/lib/python3.6/dist-packages/keras/backend/tensorflow_backend.py:216: The name tf.is_variable_initialized is deprecated. Please use tf.compat.v1.is_variable_initialized instead.\n",
            "\n",
            "WARNING:tensorflow:From /usr/local/lib/python3.6/dist-packages/keras/backend/tensorflow_backend.py:223: The name tf.variables_initializer is deprecated. Please use tf.compat.v1.variables_initializer instead.\n",
            "\n",
            "6287/6287 [==============================] - 424s 67ms/step - loss: 2.3522 - acc: 0.3832 - val_loss: 2.2309 - val_acc: 0.3388\n",
            "Epoch 2/30\n",
            "6287/6287 [==============================] - 400s 64ms/step - loss: 1.8509 - acc: 0.4904 - val_loss: 1.7393 - val_acc: 0.5369\n",
            "Epoch 3/30\n",
            "6287/6287 [==============================] - 399s 63ms/step - loss: 1.7420 - acc: 0.5349 - val_loss: 1.7517 - val_acc: 0.5388\n",
            "Epoch 4/30\n",
            "6287/6287 [==============================] - 399s 63ms/step - loss: 1.7068 - acc: 0.5507 - val_loss: 1.7203 - val_acc: 0.5488\n",
            "Epoch 5/30\n",
            "6287/6287 [==============================] - 398s 63ms/step - loss: 1.6092 - acc: 0.5858 - val_loss: 1.6186 - val_acc: 0.5944\n",
            "Epoch 6/30\n",
            "6287/6287 [==============================] - 397s 63ms/step - loss: 1.5463 - acc: 0.6054 - val_loss: 1.7456 - val_acc: 0.5432\n",
            "Epoch 7/30\n",
            "6287/6287 [==============================] - 404s 64ms/step - loss: 1.5190 - acc: 0.6095 - val_loss: 1.6626 - val_acc: 0.5785\n",
            "Epoch 8/30\n",
            "6287/6287 [==============================] - 405s 64ms/step - loss: 1.5166 - acc: 0.6148 - val_loss: 1.8289 - val_acc: 0.5532\n",
            "Epoch 9/30\n",
            "6287/6287 [==============================] - 418s 66ms/step - loss: 1.4465 - acc: 0.6358 - val_loss: 1.5633 - val_acc: 0.6059\n",
            "Epoch 10/30\n",
            "6287/6287 [==============================] - 438s 70ms/step - loss: 1.4029 - acc: 0.6455 - val_loss: 1.5441 - val_acc: 0.6174\n",
            "Epoch 11/30\n",
            "6287/6287 [==============================] - 438s 70ms/step - loss: 1.3715 - acc: 0.6496 - val_loss: 1.5652 - val_acc: 0.6237\n",
            "Epoch 12/30\n",
            "6287/6287 [==============================] - 443s 71ms/step - loss: 1.3340 - acc: 0.6520 - val_loss: 1.6520 - val_acc: 0.5918\n",
            "Epoch 13/30\n",
            "6287/6287 [==============================] - 445s 71ms/step - loss: 1.2768 - acc: 0.6671 - val_loss: 1.5842 - val_acc: 0.6160\n",
            "Epoch 14/30\n",
            "6287/6287 [==============================] - 407s 65ms/step - loss: 1.2648 - acc: 0.6735 - val_loss: 1.5486 - val_acc: 0.6108\n",
            "Epoch 15/30\n",
            "6287/6287 [==============================] - 399s 63ms/step - loss: 1.2425 - acc: 0.6806 - val_loss: 1.6422 - val_acc: 0.6126\n",
            "Epoch 16/30\n",
            "6287/6287 [==============================] - 398s 63ms/step - loss: 1.2026 - acc: 0.6943 - val_loss: 1.5458 - val_acc: 0.6200\n",
            "Epoch 17/30\n",
            "6287/6287 [==============================] - 407s 65ms/step - loss: 1.1833 - acc: 0.6991 - val_loss: 1.5531 - val_acc: 0.6364\n",
            "Epoch 18/30\n",
            "6287/6287 [==============================] - 397s 63ms/step - loss: 1.1368 - acc: 0.7057 - val_loss: 1.5484 - val_acc: 0.6271\n",
            "Epoch 19/30\n",
            "6287/6287 [==============================] - 412s 65ms/step - loss: 1.1115 - acc: 0.7102 - val_loss: 1.5661 - val_acc: 0.6126\n",
            "Epoch 20/30\n",
            "6287/6287 [==============================] - 402s 64ms/step - loss: 1.0687 - acc: 0.7251 - val_loss: 1.6861 - val_acc: 0.5740\n",
            "Epoch 21/30\n",
            "6287/6287 [==============================] - 400s 64ms/step - loss: 1.0556 - acc: 0.7216 - val_loss: 1.7976 - val_acc: 0.6100\n",
            "Epoch 22/30\n",
            "6287/6287 [==============================] - 401s 64ms/step - loss: 1.0326 - acc: 0.7271 - val_loss: 1.6720 - val_acc: 0.6011\n",
            "Epoch 23/30\n",
            "6287/6287 [==============================] - 398s 63ms/step - loss: 0.9916 - acc: 0.7377 - val_loss: 1.5199 - val_acc: 0.6393\n",
            "Epoch 24/30\n",
            "6287/6287 [==============================] - 402s 64ms/step - loss: 0.9526 - acc: 0.7493 - val_loss: 1.5742 - val_acc: 0.6367\n",
            "Epoch 25/30\n",
            "6287/6287 [==============================] - 399s 64ms/step - loss: 0.9477 - acc: 0.7496 - val_loss: 1.5220 - val_acc: 0.6382\n",
            "Epoch 26/30\n",
            "6287/6287 [==============================] - 400s 64ms/step - loss: 1.0051 - acc: 0.7328 - val_loss: 1.5751 - val_acc: 0.6386\n",
            "Epoch 27/30\n",
            "6287/6287 [==============================] - 399s 63ms/step - loss: 0.9571 - acc: 0.7439 - val_loss: 1.7035 - val_acc: 0.6212\n",
            "Epoch 28/30\n",
            "6287/6287 [==============================] - 401s 64ms/step - loss: 0.9190 - acc: 0.7519 - val_loss: 1.5522 - val_acc: 0.6312\n",
            "Epoch 29/30\n",
            "6287/6287 [==============================] - 400s 64ms/step - loss: 0.8644 - acc: 0.7662 - val_loss: 1.7113 - val_acc: 0.6078\n",
            "Epoch 30/30\n",
            "6287/6287 [==============================] - 399s 63ms/step - loss: 0.8375 - acc: 0.7730 - val_loss: 1.5695 - val_acc: 0.6334\n"
          ],
          "name": "stdout"
        }
      ]
    },
    {
      "cell_type": "code",
      "metadata": {
        "id": "S83GnhvkF1i2",
        "colab_type": "code",
        "colab": {
          "base_uri": "https://localhost:8080/",
          "height": 329
        },
        "outputId": "f0dff238-b576-44fc-d85b-e991cc5ff4d1"
      },
      "source": [
        "high_unit_stacked_lstm.summary()"
      ],
      "execution_count": 14,
      "outputs": [
        {
          "output_type": "stream",
          "text": [
            "Model: \"sequential_1\"\n",
            "_________________________________________________________________\n",
            "Layer (type)                 Output Shape              Param #   \n",
            "=================================================================\n",
            "embedding_1 (Embedding)      (None, None, 64)          640000    \n",
            "_________________________________________________________________\n",
            "lstm_1 (LSTM)                (None, None, 128)         98816     \n",
            "_________________________________________________________________\n",
            "lstm_2 (LSTM)                (None, None, 128)         131584    \n",
            "_________________________________________________________________\n",
            "lstm_3 (LSTM)                (None, 128)               131584    \n",
            "_________________________________________________________________\n",
            "dense_1 (Dense)              (None, 46)                5934      \n",
            "=================================================================\n",
            "Total params: 1,007,918\n",
            "Trainable params: 1,007,918\n",
            "Non-trainable params: 0\n",
            "_________________________________________________________________\n"
          ],
          "name": "stdout"
        }
      ]
    },
    {
      "cell_type": "code",
      "metadata": {
        "id": "4kp4HdInF4hb",
        "colab_type": "code",
        "colab": {
          "base_uri": "https://localhost:8080/",
          "height": 545
        },
        "outputId": "b2d5897c-10aa-43ba-d524-56011ec72c01"
      },
      "source": [
        "import matplotlib.pyplot as plt\n",
        "\n",
        "acc = history.history['acc']\n",
        "val_acc = history.history['val_acc']\n",
        "loss = history.history['loss']\n",
        "val_loss = history.history['val_loss']\n",
        "\n",
        "epochs = range(len(acc))\n",
        "\n",
        "plt.plot(epochs, acc, 'bo', label='Training acc')\n",
        "plt.plot(epochs, val_acc, 'b', label='Validation acc')\n",
        "plt.title('Training and validation accuracy')\n",
        "plt.legend()\n",
        "\n",
        "plt.figure()\n",
        "\n",
        "plt.plot(epochs, loss, 'bo', label='Training loss')\n",
        "plt.plot(epochs, val_loss, 'b', label='Validation loss')\n",
        "plt.title('Training and validation loss')\n",
        "plt.legend()\n",
        "\n",
        "plt.show()"
      ],
      "execution_count": 15,
      "outputs": [
        {
          "output_type": "display_data",
          "data": {
            "image/png": "[encoded data removed]",
            "text/plain": [
              "<Figure size 432x288 with 1 Axes>"
            ]
          },
          "metadata": {
            "tags": []
          }
        },
        {
          "output_type": "display_data",
          "data": {
            "image/png": "[encoded data removed]",
            "text/plain": [
              "<Figure size 432x288 with 1 Axes>"
            ]
          },
          "metadata": {
            "tags": []
          }
        }
      ]
    },
    {
      "cell_type": "code",
      "metadata": {
        "id": "Qo-qgqaRzY6m",
        "colab_type": "code",
        "colab": {
          "base_uri": "https://localhost:8080/",
          "height": 849
        },
        "outputId": "4a43a5f6-c76e-49b3-ab0e-d9c57a3c65b8"
      },
      "source": [
        "\n",
        "\n",
        "high_unit_stacked_lstm = Sequential()\n",
        "high_unit_stacked_lstm.add(Embedding(10000, 64))\n",
        "high_unit_stacked_lstm.add(layers.LSTM(128,dropout=0.2, recurrent_dropout=0.2,return_sequences=True))\n",
        "high_unit_stacked_lstm.add(layers.LSTM(128,dropout=0.2, recurrent_dropout=0.2,return_sequences=True))\n",
        "high_unit_stacked_lstm.add(layers.LSTM(128,dropout=0.2, recurrent_dropout=0.2))\n",
        "high_unit_stacked_lstm.add(layers.Dense(46,activation='softmax'))\n",
        "\n",
        "high_unit_stacked_lstm.compile(optimizer='rmsprop', loss='categorical_crossentropy', metrics=['accuracy'])\n",
        "history = high_unit_stacked_lstm.fit(train_data, train_labels,\n",
        "                    epochs=23,\n",
        "                    batch_size=128,\n",
        "                    validation_split=0.3)\n",
        "results = high_unit_stacked_lstm.evaluate(test_data, test_labels)"
      ],
      "execution_count": 16,
      "outputs": [
        {
          "output_type": "stream",
          "text": [
            "Train on 6287 samples, validate on 2695 samples\n",
            "Epoch 1/23\n",
            "6287/6287 [==============================] - 397s 63ms/step - loss: 2.3489 - acc: 0.3856 - val_loss: 1.8288 - val_acc: 0.5135\n",
            "Epoch 2/23\n",
            "6287/6287 [==============================] - 400s 64ms/step - loss: 1.8718 - acc: 0.4967 - val_loss: 1.9352 - val_acc: 0.4913\n",
            "Epoch 3/23\n",
            "6287/6287 [==============================] - 401s 64ms/step - loss: 1.7470 - acc: 0.5325 - val_loss: 1.8066 - val_acc: 0.5469\n",
            "Epoch 4/23\n",
            "6287/6287 [==============================] - 404s 64ms/step - loss: 1.6898 - acc: 0.5537 - val_loss: 1.8354 - val_acc: 0.5254\n",
            "Epoch 5/23\n",
            "6287/6287 [==============================] - 401s 64ms/step - loss: 1.6237 - acc: 0.5779 - val_loss: 1.7138 - val_acc: 0.5636\n",
            "Epoch 6/23\n",
            "6287/6287 [==============================] - 402s 64ms/step - loss: 1.5665 - acc: 0.5927 - val_loss: 1.7095 - val_acc: 0.5941\n",
            "Epoch 7/23\n",
            "6287/6287 [==============================] - 413s 66ms/step - loss: 1.5132 - acc: 0.6100 - val_loss: 1.7140 - val_acc: 0.5811\n",
            "Epoch 8/23\n",
            "6287/6287 [==============================] - 424s 67ms/step - loss: 1.4569 - acc: 0.6297 - val_loss: 1.6447 - val_acc: 0.5796\n",
            "Epoch 9/23\n",
            "6287/6287 [==============================] - 399s 63ms/step - loss: 1.4206 - acc: 0.6388 - val_loss: 1.6184 - val_acc: 0.6189\n",
            "Epoch 10/23\n",
            "6287/6287 [==============================] - 402s 64ms/step - loss: 1.3802 - acc: 0.6469 - val_loss: 1.6252 - val_acc: 0.5866\n",
            "Epoch 11/23\n",
            "6287/6287 [==============================] - 427s 68ms/step - loss: 1.3555 - acc: 0.6569 - val_loss: 1.6674 - val_acc: 0.6119\n",
            "Epoch 12/23\n",
            "6287/6287 [==============================] - 444s 71ms/step - loss: 1.3191 - acc: 0.6650 - val_loss: 1.6759 - val_acc: 0.6030\n",
            "Epoch 13/23\n",
            "6287/6287 [==============================] - 441s 70ms/step - loss: 1.2909 - acc: 0.6677 - val_loss: 1.5665 - val_acc: 0.6212\n",
            "Epoch 14/23\n",
            "6287/6287 [==============================] - 415s 66ms/step - loss: 1.2385 - acc: 0.6746 - val_loss: 1.6044 - val_acc: 0.6349\n",
            "Epoch 15/23\n",
            "6287/6287 [==============================] - 424s 67ms/step - loss: 1.2198 - acc: 0.6820 - val_loss: 1.5860 - val_acc: 0.6293\n",
            "Epoch 16/23\n",
            "6287/6287 [==============================] - 428s 68ms/step - loss: 1.1771 - acc: 0.6913 - val_loss: 1.4973 - val_acc: 0.6319\n",
            "Epoch 17/23\n",
            "6287/6287 [==============================] - 402s 64ms/step - loss: 1.1644 - acc: 0.6983 - val_loss: 1.4746 - val_acc: 0.6382\n",
            "Epoch 18/23\n",
            "6287/6287 [==============================] - 403s 64ms/step - loss: 1.3857 - acc: 0.6588 - val_loss: 1.6741 - val_acc: 0.6000\n",
            "Epoch 19/23\n",
            "6287/6287 [==============================] - 403s 64ms/step - loss: 1.1112 - acc: 0.7129 - val_loss: 1.5818 - val_acc: 0.6327\n",
            "Epoch 20/23\n",
            "6287/6287 [==============================] - 437s 69ms/step - loss: 1.0695 - acc: 0.7247 - val_loss: 1.4645 - val_acc: 0.6642\n",
            "Epoch 21/23\n",
            "6287/6287 [==============================] - 462s 73ms/step - loss: 1.0449 - acc: 0.7244 - val_loss: 1.6946 - val_acc: 0.6022\n",
            "Epoch 22/23\n",
            "6287/6287 [==============================] - 414s 66ms/step - loss: 1.0051 - acc: 0.7334 - val_loss: 1.5921 - val_acc: 0.6219\n",
            "Epoch 23/23\n",
            "6287/6287 [==============================] - 421s 67ms/step - loss: 1.0077 - acc: 0.7344 - val_loss: 1.6525 - val_acc: 0.5822\n",
            "2246/2246 [==============================] - 38s 17ms/step\n"
          ],
          "name": "stdout"
        }
      ]
    },
    {
      "cell_type": "code",
      "metadata": {
        "id": "lYhCbTakzhnX",
        "colab_type": "code",
        "colab": {
          "base_uri": "https://localhost:8080/",
          "height": 35
        },
        "outputId": "fd3f57b2-568b-4814-b005-a1d63f8ebf0f"
      },
      "source": [
        "results"
      ],
      "execution_count": 17,
      "outputs": [
        {
          "output_type": "execute_result",
          "data": {
            "text/plain": [
              "[1.716234741312844, 0.5761353517894966]"
            ]
          },
          "metadata": {
            "tags": []
          },
          "execution_count": 17
        }
      ]
    }
  ]
}